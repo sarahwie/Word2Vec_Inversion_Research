{
 "cells": [
  {
   "cell_type": "code",
   "execution_count": 15,
   "metadata": {
    "collapsed": true
   },
   "outputs": [],
   "source": [
    "import pickle\n",
    "import numpy as np\n",
    "import datetime"
   ]
  },
  {
   "cell_type": "code",
   "execution_count": 8,
   "metadata": {
    "collapsed": true
   },
   "outputs": [],
   "source": [
    "df = pickle.load(open('/home/sarahwie/Documents/pubmed-nlp-research/C_article_replication_and_translational_classification/df.p', 'rb'))"
   ]
  },
  {
   "cell_type": "code",
   "execution_count": 9,
   "metadata": {
    "collapsed": false
   },
   "outputs": [
    {
     "name": "stdout",
     "output_type": "stream",
     "text": [
      "['pmid' 'title' 'abstract' 'qualifier_terms' 'descriptor_terms' 'label']\n",
      "['T0' 'T1/T2' 'T3/T4' 'TX']\n"
     ]
    }
   ],
   "source": [
    "#check labels- great\n",
    "print df.columns.values\n",
    "print df['label'].unique()"
   ]
  },
  {
   "cell_type": "code",
   "execution_count": 19,
   "metadata": {
    "collapsed": true
   },
   "outputs": [],
   "source": [
    "# Load the punkt tokenizer\n",
    "tokenizer = nltk.data.load('tokenizers/punkt/english.pickle')"
   ]
  },
  {
   "cell_type": "code",
   "execution_count": 50,
   "metadata": {
    "collapsed": false
   },
   "outputs": [
    {
     "data": {
      "text/html": [
       "<div>\n",
       "<table border=\"1\" class=\"dataframe\">\n",
       "  <thead>\n",
       "    <tr style=\"text-align: right;\">\n",
       "      <th></th>\n",
       "      <th>pmid</th>\n",
       "      <th>title</th>\n",
       "      <th>abstract</th>\n",
       "      <th>qualifier_terms</th>\n",
       "      <th>descriptor_terms</th>\n",
       "      <th>label</th>\n",
       "      <th>boolean_label</th>\n",
       "    </tr>\n",
       "  </thead>\n",
       "  <tbody>\n",
       "    <tr>\n",
       "      <th>0</th>\n",
       "      <td>23195993</td>\n",
       "      <td>Gene expression profiles in peripheral blood m...</td>\n",
       "      <td>Occupational exposure to nickel (Ni) is associ...</td>\n",
       "      <td>genetics metabolism epidemiology drug effects ...</td>\n",
       "      <td>Adult Asian Continental Ancestry Group Biomark...</td>\n",
       "      <td>T0</td>\n",
       "      <td>1</td>\n",
       "    </tr>\n",
       "    <tr>\n",
       "      <th>1</th>\n",
       "      <td>25077433</td>\n",
       "      <td>SOX2 is a cancer-specific regulator of tumour ...</td>\n",
       "      <td>Although the principles that balance stem cell...</td>\n",
       "      <td>genetics metabolism pathology metabolism patho...</td>\n",
       "      <td>Animals Carcinoma, Squamous Cell Cell Line, Tu...</td>\n",
       "      <td>T0</td>\n",
       "      <td>1</td>\n",
       "    </tr>\n",
       "    <tr>\n",
       "      <th>2</th>\n",
       "      <td>24107601</td>\n",
       "      <td>Imaging and cerebrospinal fluid biomarkers in ...</td>\n",
       "      <td>The pathophysiological process of Alzheimer's ...</td>\n",
       "      <td>cerebrospinal fluid genetics radionuclide imag...</td>\n",
       "      <td>Aged Aged, 80 and over Alzheimer Disease Amylo...</td>\n",
       "      <td>T0</td>\n",
       "      <td>1</td>\n",
       "    </tr>\n",
       "    <tr>\n",
       "      <th>3</th>\n",
       "      <td>24891029</td>\n",
       "      <td>Preliminary evidence of cognitive and brain ab...</td>\n",
       "      <td>To ascertain whether pediatric obesity without...</td>\n",
       "      <td>pathology physiopathology physiopathology</td>\n",
       "      <td>Adolescent Attention Brain Cognition Executive...</td>\n",
       "      <td>T0</td>\n",
       "      <td>1</td>\n",
       "    </tr>\n",
       "    <tr>\n",
       "      <th>4</th>\n",
       "      <td>21691448</td>\n",
       "      <td>Obese Adolescents with Type 2 Diabetes Mellitu...</td>\n",
       "      <td>The rates of type 2 diabetes (T2DM) continue t...</td>\n",
       "      <td></td>\n",
       "      <td></td>\n",
       "      <td>T0</td>\n",
       "      <td>1</td>\n",
       "    </tr>\n",
       "    <tr>\n",
       "      <th>5</th>\n",
       "      <td>22765222</td>\n",
       "      <td>Diversity of 5S rRNA genes within individual p...</td>\n",
       "      <td>We examined intragenomic variation of paralogo...</td>\n",
       "      <td>chemistry classification genetics chemistry ge...</td>\n",
       "      <td>Bacteria DNA, Ribosomal Databases, Nucleic Aci...</td>\n",
       "      <td>T0</td>\n",
       "      <td>1</td>\n",
       "    </tr>\n",
       "    <tr>\n",
       "      <th>6</th>\n",
       "      <td>24401686</td>\n",
       "      <td>Myoinositol and glutamate complex neurometabol...</td>\n",
       "      <td>To obtain quantitative neurometabolite measure...</td>\n",
       "      <td>analogs &amp; derivatives metabolism metabolism me...</td>\n",
       "      <td>Adult Aspartic Acid Brain Injuries Case-Contro...</td>\n",
       "      <td>T0</td>\n",
       "      <td>1</td>\n",
       "    </tr>\n",
       "    <tr>\n",
       "      <th>7</th>\n",
       "      <td>22914093</td>\n",
       "      <td>Antibiotics in early life alter the murine col...</td>\n",
       "      <td>Antibiotics administered in low doses have bee...</td>\n",
       "      <td>drug effects physiology administration &amp; dosag...</td>\n",
       "      <td>Adiposity Age Factors Animals Anti-Bacterial A...</td>\n",
       "      <td>T0</td>\n",
       "      <td>1</td>\n",
       "    </tr>\n",
       "    <tr>\n",
       "      <th>8</th>\n",
       "      <td>23426830</td>\n",
       "      <td>Elevated serum anti-Müllerian hormone in adole...</td>\n",
       "      <td>Serum anti-Müllerian hormone (AMH) is linked t...</td>\n",
       "      <td>blood pathology ultrasonography blood ultrason...</td>\n",
       "      <td>Adolescent Anti-Mullerian Hormone Child Female...</td>\n",
       "      <td>T0</td>\n",
       "      <td>1</td>\n",
       "    </tr>\n",
       "    <tr>\n",
       "      <th>9</th>\n",
       "      <td>24344399</td>\n",
       "      <td>Association of obesity-mediated insulin resist...</td>\n",
       "      <td>The hypothalamus is important in hunger and me...</td>\n",
       "      <td>blood analysis anatomy &amp; histology blood blood...</td>\n",
       "      <td>Adolescent Adult Brain-Derived Neurotrophic Fa...</td>\n",
       "      <td>T0</td>\n",
       "      <td>1</td>\n",
       "    </tr>\n",
       "  </tbody>\n",
       "</table>\n",
       "</div>"
      ],
      "text/plain": [
       "       pmid                                              title  \\\n",
       "0  23195993  Gene expression profiles in peripheral blood m...   \n",
       "1  25077433  SOX2 is a cancer-specific regulator of tumour ...   \n",
       "2  24107601  Imaging and cerebrospinal fluid biomarkers in ...   \n",
       "3  24891029  Preliminary evidence of cognitive and brain ab...   \n",
       "4  21691448  Obese Adolescents with Type 2 Diabetes Mellitu...   \n",
       "5  22765222  Diversity of 5S rRNA genes within individual p...   \n",
       "6  24401686  Myoinositol and glutamate complex neurometabol...   \n",
       "7  22914093  Antibiotics in early life alter the murine col...   \n",
       "8  23426830  Elevated serum anti-Müllerian hormone in adole...   \n",
       "9  24344399  Association of obesity-mediated insulin resist...   \n",
       "\n",
       "                                            abstract  \\\n",
       "0  Occupational exposure to nickel (Ni) is associ...   \n",
       "1  Although the principles that balance stem cell...   \n",
       "2  The pathophysiological process of Alzheimer's ...   \n",
       "3  To ascertain whether pediatric obesity without...   \n",
       "4  The rates of type 2 diabetes (T2DM) continue t...   \n",
       "5  We examined intragenomic variation of paralogo...   \n",
       "6  To obtain quantitative neurometabolite measure...   \n",
       "7  Antibiotics administered in low doses have bee...   \n",
       "8  Serum anti-Müllerian hormone (AMH) is linked t...   \n",
       "9  The hypothalamus is important in hunger and me...   \n",
       "\n",
       "                                     qualifier_terms  \\\n",
       "0  genetics metabolism epidemiology drug effects ...   \n",
       "1  genetics metabolism pathology metabolism patho...   \n",
       "2  cerebrospinal fluid genetics radionuclide imag...   \n",
       "3          pathology physiopathology physiopathology   \n",
       "4                                                      \n",
       "5  chemistry classification genetics chemistry ge...   \n",
       "6  analogs & derivatives metabolism metabolism me...   \n",
       "7  drug effects physiology administration & dosag...   \n",
       "8  blood pathology ultrasonography blood ultrason...   \n",
       "9  blood analysis anatomy & histology blood blood...   \n",
       "\n",
       "                                    descriptor_terms label  boolean_label  \n",
       "0  Adult Asian Continental Ancestry Group Biomark...    T0              1  \n",
       "1  Animals Carcinoma, Squamous Cell Cell Line, Tu...    T0              1  \n",
       "2  Aged Aged, 80 and over Alzheimer Disease Amylo...    T0              1  \n",
       "3  Adolescent Attention Brain Cognition Executive...    T0              1  \n",
       "4                                                       T0              1  \n",
       "5  Bacteria DNA, Ribosomal Databases, Nucleic Aci...    T0              1  \n",
       "6  Adult Aspartic Acid Brain Injuries Case-Contro...    T0              1  \n",
       "7  Adiposity Age Factors Animals Anti-Bacterial A...    T0              1  \n",
       "8  Adolescent Anti-Mullerian Hormone Child Female...    T0              1  \n",
       "9  Adolescent Adult Brain-Derived Neurotrophic Fa...    T0              1  "
      ]
     },
     "execution_count": 50,
     "metadata": {},
     "output_type": "execute_result"
    }
   ],
   "source": [
    "df[0:10]"
   ]
  },
  {
   "cell_type": "markdown",
   "metadata": {},
   "source": [
    "### Generate probssentences "
   ]
  },
  {
   "cell_type": "code",
   "execution_count": 49,
   "metadata": {
    "collapsed": true
   },
   "outputs": [],
   "source": [
    "#add boolean labels\n",
    "df['boolean_label'] = 1\n",
    "for row in df.iterrows():\n",
    "    if row[1]['label'] != 'T0':\n",
    "        df.set_value(row[0], 'boolean_label', 0)"
   ]
  },
  {
   "cell_type": "code",
   "execution_count": 58,
   "metadata": {
    "collapsed": false
   },
   "outputs": [],
   "source": [
    "#not doing stratified but just shuffling to match method used for probssentences (movie reviews)\n",
    "#do a larger split because have so little data\n",
    "fracTrain = 0.80\n",
    "nSamples = df.shape[0]\n",
    "order = np.random.permutation(nSamples) # come up with a random ordering\n",
    "splitIndex = int(np.round(nSamples*fracTrain))\n",
    "train1 = df.ix[order[:splitIndex],:]\n",
    "test1 = df.ix[order[splitIndex:],:]"
   ]
  },
  {
   "cell_type": "code",
   "execution_count": 55,
   "metadata": {
    "collapsed": false
   },
   "outputs": [
    {
     "name": "stdout",
     "output_type": "stream",
     "text": [
      "(283, 7)\n",
      "(71, 7)\n"
     ]
    }
   ],
   "source": [
    "print train1.shape\n",
    "print test1.shape"
   ]
  },
  {
   "cell_type": "code",
   "execution_count": 57,
   "metadata": {
    "collapsed": false
   },
   "outputs": [
    {
     "data": {
      "text/html": [
       "<div>\n",
       "<table border=\"1\" class=\"dataframe\">\n",
       "  <thead>\n",
       "    <tr style=\"text-align: right;\">\n",
       "      <th></th>\n",
       "      <th>pmid</th>\n",
       "      <th>title</th>\n",
       "      <th>abstract</th>\n",
       "      <th>qualifier_terms</th>\n",
       "      <th>descriptor_terms</th>\n",
       "      <th>label</th>\n",
       "      <th>boolean_label</th>\n",
       "    </tr>\n",
       "  </thead>\n",
       "  <tbody>\n",
       "    <tr>\n",
       "      <th>201</th>\n",
       "      <td>25689199</td>\n",
       "      <td>Cervical cancer screening in a sexually transm...</td>\n",
       "      <td>We examined whether a sexually transmitted dis...</td>\n",
       "      <td>methods diagnosis diagnosis</td>\n",
       "      <td>Adult Ambulatory Care Facilities Early Detecti...</td>\n",
       "      <td>T3/T4</td>\n",
       "      <td>0</td>\n",
       "    </tr>\n",
       "    <tr>\n",
       "      <th>281</th>\n",
       "      <td>23441057</td>\n",
       "      <td>PedsQL™ sickle cell disease module: feasibilit...</td>\n",
       "      <td>Sickle cell disease (SCD) is an inherited chro...</td>\n",
       "      <td></td>\n",
       "      <td>Adolescent Adult Anemia, Sickle Cell Child Chi...</td>\n",
       "      <td>T1/T2</td>\n",
       "      <td>0</td>\n",
       "    </tr>\n",
       "    <tr>\n",
       "      <th>76</th>\n",
       "      <td>22001663</td>\n",
       "      <td>Is pain catastrophizing a stable trait or dyna...</td>\n",
       "      <td>This study sought to clarify whether pain-rela...</td>\n",
       "      <td>epidemiology psychology psychology statistics ...</td>\n",
       "      <td>Arthralgia Arthroplasty, Replacement, Knee Cat...</td>\n",
       "      <td>T0</td>\n",
       "      <td>1</td>\n",
       "    </tr>\n",
       "    <tr>\n",
       "      <th>20</th>\n",
       "      <td>22869155</td>\n",
       "      <td>Comprehensive search for Alzheimer disease sus...</td>\n",
       "      <td>To evaluate the association of risk and age at...</td>\n",
       "      <td>genetics mortality genetics genetics genetics ...</td>\n",
       "      <td>Age of Onset Aged Aged, 80 and over Alzheimer ...</td>\n",
       "      <td>T0</td>\n",
       "      <td>1</td>\n",
       "    </tr>\n",
       "    <tr>\n",
       "      <th>89</th>\n",
       "      <td>21645996</td>\n",
       "      <td>Evidence for association of hyperprolinemia wi...</td>\n",
       "      <td>There are multiple genetic links between schiz...</td>\n",
       "      <td>deficiency blood complications drug therapy th...</td>\n",
       "      <td>1-Pyrroline-5-Carboxylate Dehydrogenase Adoles...</td>\n",
       "      <td>T0</td>\n",
       "      <td>1</td>\n",
       "    </tr>\n",
       "    <tr>\n",
       "      <th>139</th>\n",
       "      <td>22433978</td>\n",
       "      <td>Effect of escitalopram on insomnia symptoms an...</td>\n",
       "      <td>The aim of this study was to determine the eff...</td>\n",
       "      <td>administration &amp; dosage therapeutic use drug t...</td>\n",
       "      <td>Adult African Americans Citalopram Double-Blin...</td>\n",
       "      <td>T1/T2</td>\n",
       "      <td>0</td>\n",
       "    </tr>\n",
       "    <tr>\n",
       "      <th>129</th>\n",
       "      <td>22718030</td>\n",
       "      <td>Whey protein supplementation does not affect e...</td>\n",
       "      <td>Little is known about the effects of different...</td>\n",
       "      <td>physiology physiology drug effects physiology ...</td>\n",
       "      <td>Adult Appetite Body Composition Dietary Protei...</td>\n",
       "      <td>T1/T2</td>\n",
       "      <td>0</td>\n",
       "    </tr>\n",
       "    <tr>\n",
       "      <th>206</th>\n",
       "      <td>24357348</td>\n",
       "      <td>Useful tests for hepatic encephalopathy in cli...</td>\n",
       "      <td>Hepatic encephalopathy (HE) is a serious compl...</td>\n",
       "      <td>methods methods diagnosis psychology</td>\n",
       "      <td>Diagnosis, Computer-Assisted Electroencephalog...</td>\n",
       "      <td>T3/T4</td>\n",
       "      <td>0</td>\n",
       "    </tr>\n",
       "    <tr>\n",
       "      <th>175</th>\n",
       "      <td>23413249</td>\n",
       "      <td>The effect of pulse sequence parameters and co...</td>\n",
       "      <td>Both technical and pathophysiologic factors af...</td>\n",
       "      <td>diagnosis pathology diagnosis administration &amp;...</td>\n",
       "      <td>Adult Aged Algorithms Astrocytoma Brain Brain ...</td>\n",
       "      <td>T1/T2</td>\n",
       "      <td>0</td>\n",
       "    </tr>\n",
       "    <tr>\n",
       "      <th>84</th>\n",
       "      <td>24025359</td>\n",
       "      <td>Combining histone deacetylase inhibitors with ...</td>\n",
       "      <td>In the present study we show that histone deac...</td>\n",
       "      <td>genetics pharmacology therapeutic use drug the...</td>\n",
       "      <td>Adenoviridae Animals Antineoplastic Agents Car...</td>\n",
       "      <td>T0</td>\n",
       "      <td>1</td>\n",
       "    </tr>\n",
       "  </tbody>\n",
       "</table>\n",
       "</div>"
      ],
      "text/plain": [
       "         pmid                                              title  \\\n",
       "201  25689199  Cervical cancer screening in a sexually transm...   \n",
       "281  23441057  PedsQL™ sickle cell disease module: feasibilit...   \n",
       "76   22001663  Is pain catastrophizing a stable trait or dyna...   \n",
       "20   22869155  Comprehensive search for Alzheimer disease sus...   \n",
       "89   21645996  Evidence for association of hyperprolinemia wi...   \n",
       "139  22433978  Effect of escitalopram on insomnia symptoms an...   \n",
       "129  22718030  Whey protein supplementation does not affect e...   \n",
       "206  24357348  Useful tests for hepatic encephalopathy in cli...   \n",
       "175  23413249  The effect of pulse sequence parameters and co...   \n",
       "84   24025359  Combining histone deacetylase inhibitors with ...   \n",
       "\n",
       "                                              abstract  \\\n",
       "201  We examined whether a sexually transmitted dis...   \n",
       "281  Sickle cell disease (SCD) is an inherited chro...   \n",
       "76   This study sought to clarify whether pain-rela...   \n",
       "20   To evaluate the association of risk and age at...   \n",
       "89   There are multiple genetic links between schiz...   \n",
       "139  The aim of this study was to determine the eff...   \n",
       "129  Little is known about the effects of different...   \n",
       "206  Hepatic encephalopathy (HE) is a serious compl...   \n",
       "175  Both technical and pathophysiologic factors af...   \n",
       "84   In the present study we show that histone deac...   \n",
       "\n",
       "                                       qualifier_terms  \\\n",
       "201                        methods diagnosis diagnosis   \n",
       "281                                                      \n",
       "76   epidemiology psychology psychology statistics ...   \n",
       "20   genetics mortality genetics genetics genetics ...   \n",
       "89   deficiency blood complications drug therapy th...   \n",
       "139  administration & dosage therapeutic use drug t...   \n",
       "129  physiology physiology drug effects physiology ...   \n",
       "206               methods methods diagnosis psychology   \n",
       "175  diagnosis pathology diagnosis administration &...   \n",
       "84   genetics pharmacology therapeutic use drug the...   \n",
       "\n",
       "                                      descriptor_terms  label  boolean_label  \n",
       "201  Adult Ambulatory Care Facilities Early Detecti...  T3/T4              0  \n",
       "281  Adolescent Adult Anemia, Sickle Cell Child Chi...  T1/T2              0  \n",
       "76   Arthralgia Arthroplasty, Replacement, Knee Cat...     T0              1  \n",
       "20   Age of Onset Aged Aged, 80 and over Alzheimer ...     T0              1  \n",
       "89   1-Pyrroline-5-Carboxylate Dehydrogenase Adoles...     T0              1  \n",
       "139  Adult African Americans Citalopram Double-Blin...  T1/T2              0  \n",
       "129  Adult Appetite Body Composition Dietary Protei...  T1/T2              0  \n",
       "206  Diagnosis, Computer-Assisted Electroencephalog...  T3/T4              0  \n",
       "175  Adult Aged Algorithms Astrocytoma Brain Brain ...  T1/T2              0  \n",
       "84   Adenoviridae Animals Antineoplastic Agents Car...     T0              1  "
      ]
     },
     "execution_count": 57,
     "metadata": {},
     "output_type": "execute_result"
    }
   ],
   "source": [
    "train1[0:10]"
   ]
  },
  {
   "cell_type": "code",
   "execution_count": 59,
   "metadata": {
    "collapsed": true
   },
   "outputs": [],
   "source": [
    "\"\"\"\n",
    "docprob takes two lists\n",
    "* docs: a list of documents, each of which is a list of sentences\n",
    "* models: the candidate word2vec models (each potential class)\n",
    "\n",
    "it returns the array of class probabilities.  Everything is done in-memory.\n",
    "\"\"\"\n",
    "\n",
    "def docprobsentences(docs, mods):\n",
    "    # score() takes a list [s] of sentences here; could also be a sentence generator\n",
    "    sentlist = [s for d in docs for s in d]\n",
    "    # the log likelihood of each sentence in this review under each w2v representation\n",
    "    llhd = np.array( [ m.score(sentlist, len(sentlist)) for m in mods ] )\n",
    "    # now exponentiate to get likelihoods, \n",
    "    lhd = np.exp(llhd - llhd.max(axis=0)) # subtract row max to avoid numeric overload\n",
    "    # normalize across models (stars) to get sentence-star probabilities\n",
    "    #all this transposing business does is make it so the total probability of a word \n",
    "    #   equals 1 between the 2 arrays (positive prob and negative).\n",
    "    #and the pandas data frame just puts everything into rows/columns format for easy viz\n",
    "    prob = pd.DataFrame( (lhd/lhd.sum(axis=0)).transpose() )\n",
    "    # and finally average the sentence probabilities to get the review probability\n",
    "    prob[\"doc\"] = [i for i,d in enumerate(docs) for s in d]\n",
    "    return prob"
   ]
  },
  {
   "cell_type": "code",
   "execution_count": 35,
   "metadata": {
    "collapsed": false
   },
   "outputs": [
    {
     "name": "stdout",
     "output_type": "stream",
     "text": [
      "Parsing sentences from training set\n",
      "Parsing sentences from training set\n",
      "scoring test set\n",
      "0:00:02\n"
     ]
    }
   ],
   "source": [
    "a = datetime.datetime.now().replace(microsecond=0)\n",
    "\n",
    "# ****** Split the labeled and unlabeled training sets into clean sentences\n",
    "#\n",
    "sentences_pos = []  # Initialize an empty list of sentences\n",
    "sentences_neg = []  # Initialize an empty list of sentences\n",
    "\n",
    "inxs_pos = np.where(train1[\"boolean_label\"] == 1)[0].tolist()\n",
    "inxs_neg = np.where(train1[\"boolean_label\"] == 0)[0].tolist()\n",
    "\n",
    "print \"Parsing sentences from training set\"\n",
    "for inx in inxs_pos:\n",
    "    review = train1[\"abstract\"].iloc[inx]\n",
    "    sentences_pos += KaggleWord2VecUtility.review_to_sentences(review, tokenizer)\n",
    "\n",
    "for inx in inxs_neg:\n",
    "    review = train1[\"abstract\"].iloc[inx]\n",
    "    sentences_neg += KaggleWord2VecUtility.review_to_sentences(review, tokenizer)    \n",
    "\n",
    "\n",
    "# ****** Split the labeled and unlabeled training sets into clean sentences\n",
    "#\n",
    "sentences = []  # Initialize an empty list of sentences\n",
    "\n",
    "print \"Parsing sentences from training set\"\n",
    "for review in train1[\"abstract\"]:\n",
    "    sentences += KaggleWord2VecUtility.review_to_sentences(review, tokenizer)\n",
    "        \n",
    "from gensim.models import Word2Vec\n",
    "import multiprocessing\n",
    "\n",
    "## create a w2v learner \n",
    "basemodel = Word2Vec(\n",
    "    workers=multiprocessing.cpu_count(), # use your cores\n",
    "    iter=3, # iter = sweeps of SGD through the data; more is better\n",
    "    hs=1, negative=0 # we only have scoring for the hierarchical softmax setup\n",
    "    )       \n",
    "basemodel.build_vocab(sentences) \n",
    "        \n",
    "from copy import deepcopy\n",
    "models = [deepcopy(basemodel) for i in range(2)]\n",
    "models[0].train(sentences_neg, total_examples=len(sentences_neg) )\n",
    "models[1].train(sentences_pos, total_examples=len(sentences_pos) )\n",
    "\n",
    "# read in the test set as a list of a list of words\n",
    "docs = []\n",
    "for review in test1[\"abstract\"]:\n",
    "    docs.append(KaggleWord2VecUtility.review_to_sentences(review, tokenizer))\n",
    "\n",
    "print \"scoring test set\"\n",
    "# get the probs (note we give docprob our test set plus the models)\n",
    "#probs = docprob(docs,models).astype(object)\n",
    "probssentencesArticle = docprobsentences(docs,models).astype(object)\n",
    "        \n",
    "b = datetime.datetime.now().replace(microsecond=0)\n",
    "print(b-a)"
   ]
  },
  {
   "cell_type": "code",
   "execution_count": 21,
   "metadata": {
    "collapsed": false
   },
   "outputs": [
    {
     "name": "stdout",
     "output_type": "stream",
     "text": [
      "(1541, 3)\n"
     ]
    }
   ],
   "source": [
    "print probssentencesArticle.shape"
   ]
  },
  {
   "cell_type": "code",
   "execution_count": 30,
   "metadata": {
    "collapsed": false
   },
   "outputs": [
    {
     "name": "stdout",
     "output_type": "stream",
     "text": [
      "177\n"
     ]
    }
   ],
   "source": [
    "#print probssentencesArticle\n",
    "print len(probssentencesArticle['doc'].unique())"
   ]
  },
  {
   "cell_type": "code",
   "execution_count": 29,
   "metadata": {
    "collapsed": true
   },
   "outputs": [],
   "source": [
    "pickle.dump(probssentencesArticle, open('./pickled_objects/probssentencesArticle.p', 'wb'))"
   ]
  },
  {
   "cell_type": "code",
   "execution_count": null,
   "metadata": {
    "collapsed": true
   },
   "outputs": [],
   "source": []
  },
  {
   "cell_type": "markdown",
   "metadata": {},
   "source": [
    "### Do the same for probssentences_train"
   ]
  },
  {
   "cell_type": "code",
   "execution_count": 31,
   "metadata": {
    "collapsed": true
   },
   "outputs": [],
   "source": [
    "# read in the training set as a list of a list of words\n",
    "docs_train = []\n",
    "for review in train1[\"abstract\"]:\n",
    "    docs_train.append(KaggleWord2VecUtility.review_to_sentences(review, tokenizer))"
   ]
  },
  {
   "cell_type": "code",
   "execution_count": 36,
   "metadata": {
    "collapsed": false
   },
   "outputs": [],
   "source": [
    "probssentences_train_Article = docprobsentences(docs_train,models).astype(object)"
   ]
  },
  {
   "cell_type": "code",
   "execution_count": 37,
   "metadata": {
    "collapsed": false
   },
   "outputs": [
    {
     "name": "stdout",
     "output_type": "stream",
     "text": [
      "(1507, 3)\n"
     ]
    }
   ],
   "source": [
    "print probssentences_train_Article.shape"
   ]
  },
  {
   "cell_type": "code",
   "execution_count": 40,
   "metadata": {
    "collapsed": false
   },
   "outputs": [
    {
     "name": "stdout",
     "output_type": "stream",
     "text": [
      "177\n"
     ]
    }
   ],
   "source": [
    "print len(probssentences_train_Article['doc'].unique())"
   ]
  },
  {
   "cell_type": "code",
   "execution_count": 42,
   "metadata": {
    "collapsed": false
   },
   "outputs": [],
   "source": [
    "pickle.dump(probssentences_train_Article, open('./pickled_objects/probssentences_train_Article.p', 'wb'))"
   ]
  },
  {
   "cell_type": "code",
   "execution_count": 43,
   "metadata": {
    "collapsed": true
   },
   "outputs": [],
   "source": [
    "pickle.dump(test1, open('./pickled_objects/articleTest1.p', 'wb'))"
   ]
  },
  {
   "cell_type": "code",
   "execution_count": 44,
   "metadata": {
    "collapsed": true
   },
   "outputs": [],
   "source": [
    "pickle.dump(train1, open('./pickled_objects/articleTrain1.p', 'wb'))"
   ]
  },
  {
   "cell_type": "code",
   "execution_count": 45,
   "metadata": {
    "collapsed": false
   },
   "outputs": [
    {
     "name": "stdout",
     "output_type": "stream",
     "text": [
      "(177, 7)\n",
      "(177, 7)\n"
     ]
    }
   ],
   "source": [
    "print train1.shape\n",
    "print test1.shape"
   ]
  },
  {
   "cell_type": "code",
   "execution_count": 47,
   "metadata": {
    "collapsed": false
   },
   "outputs": [
    {
     "data": {
      "text/html": [
       "<div>\n",
       "<table border=\"1\" class=\"dataframe\">\n",
       "  <thead>\n",
       "    <tr style=\"text-align: right;\">\n",
       "      <th></th>\n",
       "      <th>pmid</th>\n",
       "      <th>title</th>\n",
       "      <th>abstract</th>\n",
       "      <th>qualifier_terms</th>\n",
       "      <th>descriptor_terms</th>\n",
       "      <th>label</th>\n",
       "      <th>boolean_label</th>\n",
       "    </tr>\n",
       "  </thead>\n",
       "  <tbody>\n",
       "    <tr>\n",
       "      <th>324</th>\n",
       "      <td>24556849</td>\n",
       "      <td>Emergence of mild cognitive impairment in late...</td>\n",
       "      <td>It is difficult to reliably detect the earlies...</td>\n",
       "      <td>prevention &amp; control diagnosis etiology psycho...</td>\n",
       "      <td>Age Factors Alzheimer Disease Cognition Compar...</td>\n",
       "      <td>T3/T4</td>\n",
       "      <td>0</td>\n",
       "    </tr>\n",
       "    <tr>\n",
       "      <th>272</th>\n",
       "      <td>23688215</td>\n",
       "      <td>Recognition of famous names predicts cognitive...</td>\n",
       "      <td>The ability to recognize familiar people is im...</td>\n",
       "      <td>diagnosis physiopathology psychology physiopat...</td>\n",
       "      <td>Aged Aged, 80 and over Alzheimer Disease Brain...</td>\n",
       "      <td>T0</td>\n",
       "      <td>1</td>\n",
       "    </tr>\n",
       "    <tr>\n",
       "      <th>240</th>\n",
       "      <td>21702704</td>\n",
       "      <td>Examining the aging process through the stress...</td>\n",
       "      <td>The aging process is marked by a series of tra...</td>\n",
       "      <td>psychology psychology psychology physiopathology</td>\n",
       "      <td>Adaptation, Psychological Aged Aging Automobil...</td>\n",
       "      <td>TX</td>\n",
       "      <td>0</td>\n",
       "    </tr>\n",
       "    <tr>\n",
       "      <th>169</th>\n",
       "      <td>20461380</td>\n",
       "      <td>A first in human study of SB-743921, a kinesin...</td>\n",
       "      <td>To determine the maximum-tolerated dose (MTD),...</td>\n",
       "      <td>pharmacology therapeutic use pharmacology ther...</td>\n",
       "      <td>Adult Aged Aged, 80 and over Antineoplastic Ag...</td>\n",
       "      <td>T1/T2</td>\n",
       "      <td>0</td>\n",
       "    </tr>\n",
       "    <tr>\n",
       "      <th>158</th>\n",
       "      <td>21318565</td>\n",
       "      <td>A prospective open-label study of aripiprazole...</td>\n",
       "      <td>Fragile X syndrome (FXS) is the most common in...</td>\n",
       "      <td>drug effects administration &amp; dosage adverse e...</td>\n",
       "      <td>Adolescent Adult Aggression Antipsychotic Agen...</td>\n",
       "      <td>T1/T2</td>\n",
       "      <td>0</td>\n",
       "    </tr>\n",
       "    <tr>\n",
       "      <th>97</th>\n",
       "      <td>21106989</td>\n",
       "      <td>CP-690,550, a therapeutic agent, inhibits cyto...</td>\n",
       "      <td>The retrovirus, human T-cell-lymphotrophic vir...</td>\n",
       "      <td>drug effects metabolism pharmacology drug effe...</td>\n",
       "      <td>Adult Animals Cell Line, Tumor Cell Proliferat...</td>\n",
       "      <td>T0</td>\n",
       "      <td>1</td>\n",
       "    </tr>\n",
       "    <tr>\n",
       "      <th>210</th>\n",
       "      <td>22686210</td>\n",
       "      <td>The relevancy of community-based methods: usin...</td>\n",
       "      <td>The rates of obesity, diabetes, and heart dise...</td>\n",
       "      <td>epidemiology methods statistics &amp; numerical da...</td>\n",
       "      <td>Adult Alaska Community-Based Participatory Res...</td>\n",
       "      <td>T3/T4</td>\n",
       "      <td>0</td>\n",
       "    </tr>\n",
       "    <tr>\n",
       "      <th>121</th>\n",
       "      <td>24623140</td>\n",
       "      <td>Cytosolic phospholipase A2 protein as a novel ...</td>\n",
       "      <td>The objective of this study was to investigate...</td>\n",
       "      <td>administration &amp; dosage methods genetics admin...</td>\n",
       "      <td>Animals Butadienes Drug Delivery Systems Enzym...</td>\n",
       "      <td>T0</td>\n",
       "      <td>1</td>\n",
       "    </tr>\n",
       "    <tr>\n",
       "      <th>179</th>\n",
       "      <td>23756294</td>\n",
       "      <td>Utilization of a benchmarking database to info...</td>\n",
       "      <td>An integral part of NICHE (Nurses Improving Ca...</td>\n",
       "      <td>psychology</td>\n",
       "      <td>Aged Attitude of Health Personnel Benchmarking...</td>\n",
       "      <td>T3/T4</td>\n",
       "      <td>0</td>\n",
       "    </tr>\n",
       "    <tr>\n",
       "      <th>329</th>\n",
       "      <td>22613170</td>\n",
       "      <td>Frontal gray matter reduction after breast can...</td>\n",
       "      <td>Cognitive changes related to cancer and its tr...</td>\n",
       "      <td>adverse effects therapeutic use pathology drug...</td>\n",
       "      <td>Adult Aged Antineoplastic Combined Chemotherap...</td>\n",
       "      <td>T3/T4</td>\n",
       "      <td>0</td>\n",
       "    </tr>\n",
       "  </tbody>\n",
       "</table>\n",
       "</div>"
      ],
      "text/plain": [
       "         pmid                                              title  \\\n",
       "324  24556849  Emergence of mild cognitive impairment in late...   \n",
       "272  23688215  Recognition of famous names predicts cognitive...   \n",
       "240  21702704  Examining the aging process through the stress...   \n",
       "169  20461380  A first in human study of SB-743921, a kinesin...   \n",
       "158  21318565  A prospective open-label study of aripiprazole...   \n",
       "97   21106989  CP-690,550, a therapeutic agent, inhibits cyto...   \n",
       "210  22686210  The relevancy of community-based methods: usin...   \n",
       "121  24623140  Cytosolic phospholipase A2 protein as a novel ...   \n",
       "179  23756294  Utilization of a benchmarking database to info...   \n",
       "329  22613170  Frontal gray matter reduction after breast can...   \n",
       "\n",
       "                                              abstract  \\\n",
       "324  It is difficult to reliably detect the earlies...   \n",
       "272  The ability to recognize familiar people is im...   \n",
       "240  The aging process is marked by a series of tra...   \n",
       "169  To determine the maximum-tolerated dose (MTD),...   \n",
       "158  Fragile X syndrome (FXS) is the most common in...   \n",
       "97   The retrovirus, human T-cell-lymphotrophic vir...   \n",
       "210  The rates of obesity, diabetes, and heart dise...   \n",
       "121  The objective of this study was to investigate...   \n",
       "179  An integral part of NICHE (Nurses Improving Ca...   \n",
       "329  Cognitive changes related to cancer and its tr...   \n",
       "\n",
       "                                       qualifier_terms  \\\n",
       "324  prevention & control diagnosis etiology psycho...   \n",
       "272  diagnosis physiopathology psychology physiopat...   \n",
       "240   psychology psychology psychology physiopathology   \n",
       "169  pharmacology therapeutic use pharmacology ther...   \n",
       "158  drug effects administration & dosage adverse e...   \n",
       "97   drug effects metabolism pharmacology drug effe...   \n",
       "210  epidemiology methods statistics & numerical da...   \n",
       "121  administration & dosage methods genetics admin...   \n",
       "179                                         psychology   \n",
       "329  adverse effects therapeutic use pathology drug...   \n",
       "\n",
       "                                      descriptor_terms  label  boolean_label  \n",
       "324  Age Factors Alzheimer Disease Cognition Compar...  T3/T4              0  \n",
       "272  Aged Aged, 80 and over Alzheimer Disease Brain...     T0              1  \n",
       "240  Adaptation, Psychological Aged Aging Automobil...     TX              0  \n",
       "169  Adult Aged Aged, 80 and over Antineoplastic Ag...  T1/T2              0  \n",
       "158  Adolescent Adult Aggression Antipsychotic Agen...  T1/T2              0  \n",
       "97   Adult Animals Cell Line, Tumor Cell Proliferat...     T0              1  \n",
       "210  Adult Alaska Community-Based Participatory Res...  T3/T4              0  \n",
       "121  Animals Butadienes Drug Delivery Systems Enzym...     T0              1  \n",
       "179  Aged Attitude of Health Personnel Benchmarking...  T3/T4              0  \n",
       "329  Adult Aged Antineoplastic Combined Chemotherap...  T3/T4              0  "
      ]
     },
     "execution_count": 47,
     "metadata": {},
     "output_type": "execute_result"
    }
   ],
   "source": [
    "train1[0:10]"
   ]
  },
  {
   "cell_type": "code",
   "execution_count": null,
   "metadata": {
    "collapsed": true
   },
   "outputs": [],
   "source": []
  },
  {
   "cell_type": "code",
   "execution_count": null,
   "metadata": {
    "collapsed": true
   },
   "outputs": [],
   "source": []
  },
  {
   "cell_type": "code",
   "execution_count": null,
   "metadata": {
    "collapsed": true
   },
   "outputs": [],
   "source": []
  },
  {
   "cell_type": "code",
   "execution_count": null,
   "metadata": {
    "collapsed": true
   },
   "outputs": [],
   "source": []
  },
  {
   "cell_type": "code",
   "execution_count": null,
   "metadata": {
    "collapsed": true
   },
   "outputs": [],
   "source": []
  },
  {
   "cell_type": "markdown",
   "metadata": {},
   "source": [
    "### Kaggle Word2VecUtility"
   ]
  },
  {
   "cell_type": "code",
   "execution_count": 17,
   "metadata": {
    "collapsed": true
   },
   "outputs": [],
   "source": [
    "import re\n",
    "import nltk\n",
    "\n",
    "import pandas as pd\n",
    "import numpy as np\n",
    "\n",
    "from bs4 import BeautifulSoup\n",
    "from nltk.corpus import stopwords\n",
    "\n",
    "\n",
    "class KaggleWord2VecUtility(object):\n",
    "    \"\"\"KaggleWord2VecUtility is a utility class for processing raw HTML text into segments for further learning\"\"\"\n",
    "\n",
    "    @staticmethod\n",
    "    def review_to_wordlist( review, remove_stopwords=False ):\n",
    "        # Function to convert a document to a sequence of words,\n",
    "        # optionally removing stop words.  Returns a list of words.\n",
    "        #\n",
    "        # 1. Remove HTML\n",
    "        review_text = BeautifulSoup(review).get_text()\n",
    "        #\n",
    "        # 2. Remove non-letters\n",
    "        review_text = re.sub(\"[^a-zA-Z]\",\" \", review_text)\n",
    "        #\n",
    "        # 3. Convert words to lower case and split them\n",
    "        words = review_text.lower().split()\n",
    "        #\n",
    "        # 4. Optionally remove stop words (false by default)\n",
    "        if remove_stopwords:\n",
    "            stops = set(stopwords.words(\"english\"))\n",
    "            words = [w for w in words if not w in stops]\n",
    "        #\n",
    "        # 5. Return a list of words\n",
    "        return(words)\n",
    "    \n",
    "    @staticmethod\n",
    "    def review_to_words( review, remove_stopwords=False ):\n",
    "        # Function to convert a raw review to a string of words\n",
    "        # The input is a single string (a raw movie review), and \n",
    "        # the output is a single string (a preprocessed movie review)\n",
    "        #\n",
    "        # 1. Remove HTML\n",
    "        review_text = BeautifulSoup(review).get_text() \n",
    "        #\n",
    "        # 2. Remove non-letters        \n",
    "        review_text = re.sub(\"[^a-zA-Z]\", \" \", review_text) \n",
    "        #\n",
    "        # 3. Convert to lower case, split into individual words\n",
    "        words = review_text.lower().split()                             \n",
    "        #\n",
    "        # 4. Optionally remove stop words (false by default)\n",
    "        if remove_stopwords:\n",
    "            stops = set(stopwords.words(\"english\"))\n",
    "            words = [w for w in words if not w in stops]   \n",
    "        #\n",
    "        # 6. Join the words back into one string separated by space, \n",
    "        # and return the result.\n",
    "        return( \" \".join( words ))   \n",
    "\n",
    "    # Define a function to split a review into parsed sentences\n",
    "    @staticmethod\n",
    "    def review_to_sentences( review, tokenizer, remove_stopwords=False ):\n",
    "        # Function to split a review into parsed sentences. Returns a\n",
    "        # list of sentences, where each sentence is a list of words\n",
    "        #\n",
    "        # 1. Use the NLTK tokenizer to split the paragraph into sentences\n",
    "        raw_sentences = tokenizer.tokenize(review.decode('utf8').strip())\n",
    "        #\n",
    "        # 2. Loop over each sentence\n",
    "        sentences = []\n",
    "        for raw_sentence in raw_sentences:\n",
    "            # If a sentence is empty, skip it\n",
    "            if len(raw_sentence) > 0:\n",
    "                # Otherwise, call review_to_wordlist to get a list of words\n",
    "                sentences.append( KaggleWord2VecUtility.review_to_wordlist( raw_sentence, \\\n",
    "                  remove_stopwords ))\n",
    "        #\n",
    "        # Return the list of sentences (each sentence is a list of words,\n",
    "        # so this returns a list of lists\n",
    "        return sentences"
   ]
  }
 ],
 "metadata": {
  "kernelspec": {
   "display_name": "Python 2",
   "language": "python",
   "name": "python2"
  },
  "language_info": {
   "codemirror_mode": {
    "name": "ipython",
    "version": 2
   },
   "file_extension": ".py",
   "mimetype": "text/x-python",
   "name": "python",
   "nbconvert_exporter": "python",
   "pygments_lexer": "ipython2",
   "version": "2.7.11"
  }
 },
 "nbformat": 4,
 "nbformat_minor": 0
}
