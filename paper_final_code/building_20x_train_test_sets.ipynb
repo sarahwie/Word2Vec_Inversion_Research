{
 "cells": [
  {
   "cell_type": "code",
   "execution_count": 2,
   "metadata": {
    "collapsed": true
   },
   "outputs": [],
   "source": [
    "import nltk.data\n",
    "import pandas as pd\n",
    "import pickle\n",
    "import datetime\n",
    "from sklearn.cross_validation import StratifiedKFold\n",
    "import numpy as np"
   ]
  },
  {
   "cell_type": "code",
   "execution_count": 3,
   "metadata": {
    "collapsed": false
   },
   "outputs": [],
   "source": [
    "# Load the punkt tokenizer\n",
    "tokenizer = nltk.data.load('tokenizers/punkt/english.pickle')"
   ]
  },
  {
   "cell_type": "markdown",
   "metadata": {},
   "source": [
    "### movie_reviews"
   ]
  },
  {
   "cell_type": "code",
   "execution_count": 4,
   "metadata": {
    "collapsed": false
   },
   "outputs": [],
   "source": [
    "# Read data from files\n",
    "df = pd.read_csv( 'labeledTrainData.tsv', header=0, delimiter=\"\\t\", quoting=3 )\n",
    "unlabeled_train = pd.read_csv( \"unlabeledTrainData.tsv\", header=0,  delimiter=\"\\t\", quoting=3)"
   ]
  },
  {
   "cell_type": "code",
   "execution_count": 5,
   "metadata": {
    "collapsed": false
   },
   "outputs": [
    {
     "data": {
      "text/html": [
       "<div>\n",
       "<table border=\"1\" class=\"dataframe\">\n",
       "  <thead>\n",
       "    <tr style=\"text-align: right;\">\n",
       "      <th></th>\n",
       "      <th>id</th>\n",
       "      <th>sentiment</th>\n",
       "      <th>review</th>\n",
       "    </tr>\n",
       "  </thead>\n",
       "  <tbody>\n",
       "    <tr>\n",
       "      <th>0</th>\n",
       "      <td>\"5814_8\"</td>\n",
       "      <td>1</td>\n",
       "      <td>\"With all this stuff going down at the moment ...</td>\n",
       "    </tr>\n",
       "    <tr>\n",
       "      <th>1</th>\n",
       "      <td>\"2381_9\"</td>\n",
       "      <td>1</td>\n",
       "      <td>\"\\\"The Classic War of the Worlds\\\" by Timothy ...</td>\n",
       "    </tr>\n",
       "    <tr>\n",
       "      <th>2</th>\n",
       "      <td>\"7759_3\"</td>\n",
       "      <td>0</td>\n",
       "      <td>\"The film starts with a manager (Nicholas Bell...</td>\n",
       "    </tr>\n",
       "    <tr>\n",
       "      <th>3</th>\n",
       "      <td>\"3630_4\"</td>\n",
       "      <td>0</td>\n",
       "      <td>\"It must be assumed that those who praised thi...</td>\n",
       "    </tr>\n",
       "    <tr>\n",
       "      <th>4</th>\n",
       "      <td>\"9495_8\"</td>\n",
       "      <td>1</td>\n",
       "      <td>\"Superbly trashy and wondrously unpretentious ...</td>\n",
       "    </tr>\n",
       "    <tr>\n",
       "      <th>5</th>\n",
       "      <td>\"8196_8\"</td>\n",
       "      <td>1</td>\n",
       "      <td>\"I dont know why people think this is such a b...</td>\n",
       "    </tr>\n",
       "    <tr>\n",
       "      <th>6</th>\n",
       "      <td>\"7166_2\"</td>\n",
       "      <td>0</td>\n",
       "      <td>\"This movie could have been very good, but com...</td>\n",
       "    </tr>\n",
       "    <tr>\n",
       "      <th>7</th>\n",
       "      <td>\"10633_1\"</td>\n",
       "      <td>0</td>\n",
       "      <td>\"I watched this video at a friend's house. I'm...</td>\n",
       "    </tr>\n",
       "    <tr>\n",
       "      <th>8</th>\n",
       "      <td>\"319_1\"</td>\n",
       "      <td>0</td>\n",
       "      <td>\"A friend of mine bought this film for £1, and...</td>\n",
       "    </tr>\n",
       "    <tr>\n",
       "      <th>9</th>\n",
       "      <td>\"8713_10\"</td>\n",
       "      <td>1</td>\n",
       "      <td>\"&lt;br /&gt;&lt;br /&gt;This movie is full of references....</td>\n",
       "    </tr>\n",
       "  </tbody>\n",
       "</table>\n",
       "</div>"
      ],
      "text/plain": [
       "          id  sentiment                                             review\n",
       "0   \"5814_8\"          1  \"With all this stuff going down at the moment ...\n",
       "1   \"2381_9\"          1  \"\\\"The Classic War of the Worlds\\\" by Timothy ...\n",
       "2   \"7759_3\"          0  \"The film starts with a manager (Nicholas Bell...\n",
       "3   \"3630_4\"          0  \"It must be assumed that those who praised thi...\n",
       "4   \"9495_8\"          1  \"Superbly trashy and wondrously unpretentious ...\n",
       "5   \"8196_8\"          1  \"I dont know why people think this is such a b...\n",
       "6   \"7166_2\"          0  \"This movie could have been very good, but com...\n",
       "7  \"10633_1\"          0  \"I watched this video at a friend's house. I'm...\n",
       "8    \"319_1\"          0  \"A friend of mine bought this film for £1, and...\n",
       "9  \"8713_10\"          1  \"<br /><br />This movie is full of references...."
      ]
     },
     "execution_count": 5,
     "metadata": {},
     "output_type": "execute_result"
    }
   ],
   "source": [
    "df[0:10]"
   ]
  },
  {
   "cell_type": "code",
   "execution_count": 6,
   "metadata": {
    "collapsed": true
   },
   "outputs": [],
   "source": [
    "df.columns = ['id', 'boolean_label', 'abstract']"
   ]
  },
  {
   "cell_type": "markdown",
   "metadata": {},
   "source": [
    "### confirmed that different indices are being selected by the CV method by comparing two runs of the same code below"
   ]
  },
  {
   "cell_type": "code",
   "execution_count": 7,
   "metadata": {
    "collapsed": false
   },
   "outputs": [
    {
     "name": "stdout",
     "output_type": "stream",
     "text": [
      "0:00:01\n"
     ]
    }
   ],
   "source": [
    "a = datetime.datetime.now().replace(microsecond=0)\n",
    "\n",
    "y = df['boolean_label'].values\n",
    "\n",
    "trainIndices = []\n",
    "testIndices = []\n",
    "\n",
    "for k in range(25):\n",
    "\n",
    "    inxTrain = []\n",
    "    inxTest = []\n",
    "    #set random state\n",
    "    skf = StratifiedKFold(y, n_folds=5, shuffle=True)\n",
    "\n",
    "    for train_index, test_index in skf:\n",
    "\n",
    "        #print(train_index)\n",
    "        #print(test_index)\n",
    "        #print(\"----------\")\n",
    "        inxTrain.append(train_index)\n",
    "        inxTest.append(test_index)\n",
    "        \n",
    "    trainIndices.append(inxTrain)\n",
    "    testIndices.append(inxTest)\n",
    "                        \n",
    "b = datetime.datetime.now().replace(microsecond=0)\n",
    "print(b-a)"
   ]
  },
  {
   "cell_type": "code",
   "execution_count": 8,
   "metadata": {
    "collapsed": false
   },
   "outputs": [
    {
     "data": {
      "text/plain": [
       "5"
      ]
     },
     "execution_count": 8,
     "metadata": {},
     "output_type": "execute_result"
    }
   ],
   "source": [
    "len(trainIndices[0])\n",
    "#len(testIndices)"
   ]
  },
  {
   "cell_type": "code",
   "execution_count": 22,
   "metadata": {
    "collapsed": false
   },
   "outputs": [
    {
     "data": {
      "text/html": [
       "<div>\n",
       "<table border=\"1\" class=\"dataframe\">\n",
       "  <thead>\n",
       "    <tr style=\"text-align: right;\">\n",
       "      <th></th>\n",
       "      <th>id</th>\n",
       "      <th>boolean_label</th>\n",
       "      <th>abstract</th>\n",
       "    </tr>\n",
       "  </thead>\n",
       "  <tbody>\n",
       "    <tr>\n",
       "      <th>1</th>\n",
       "      <td>\"2381_9\"</td>\n",
       "      <td>1</td>\n",
       "      <td>\"\\\"The Classic War of the Worlds\\\" by Timothy ...</td>\n",
       "    </tr>\n",
       "    <tr>\n",
       "      <th>2</th>\n",
       "      <td>\"7759_3\"</td>\n",
       "      <td>0</td>\n",
       "      <td>\"The film starts with a manager (Nicholas Bell...</td>\n",
       "    </tr>\n",
       "    <tr>\n",
       "      <th>3</th>\n",
       "      <td>\"3630_4\"</td>\n",
       "      <td>0</td>\n",
       "      <td>\"It must be assumed that those who praised thi...</td>\n",
       "    </tr>\n",
       "    <tr>\n",
       "      <th>5</th>\n",
       "      <td>\"8196_8\"</td>\n",
       "      <td>1</td>\n",
       "      <td>\"I dont know why people think this is such a b...</td>\n",
       "    </tr>\n",
       "    <tr>\n",
       "      <th>6</th>\n",
       "      <td>\"7166_2\"</td>\n",
       "      <td>0</td>\n",
       "      <td>\"This movie could have been very good, but com...</td>\n",
       "    </tr>\n",
       "    <tr>\n",
       "      <th>7</th>\n",
       "      <td>\"10633_1\"</td>\n",
       "      <td>0</td>\n",
       "      <td>\"I watched this video at a friend's house. I'm...</td>\n",
       "    </tr>\n",
       "    <tr>\n",
       "      <th>8</th>\n",
       "      <td>\"319_1\"</td>\n",
       "      <td>0</td>\n",
       "      <td>\"A friend of mine bought this film for £1, and...</td>\n",
       "    </tr>\n",
       "    <tr>\n",
       "      <th>9</th>\n",
       "      <td>\"8713_10\"</td>\n",
       "      <td>1</td>\n",
       "      <td>\"&lt;br /&gt;&lt;br /&gt;This movie is full of references....</td>\n",
       "    </tr>\n",
       "    <tr>\n",
       "      <th>10</th>\n",
       "      <td>\"2486_3\"</td>\n",
       "      <td>0</td>\n",
       "      <td>\"What happens when an army of wetbacks, towelh...</td>\n",
       "    </tr>\n",
       "    <tr>\n",
       "      <th>11</th>\n",
       "      <td>\"6811_10\"</td>\n",
       "      <td>1</td>\n",
       "      <td>\"Although I generally do not like remakes beli...</td>\n",
       "    </tr>\n",
       "    <tr>\n",
       "      <th>12</th>\n",
       "      <td>\"11744_9\"</td>\n",
       "      <td>1</td>\n",
       "      <td>\"\\\"Mr. Harvey Lights a Candle\\\" is anchored by...</td>\n",
       "    </tr>\n",
       "    <tr>\n",
       "      <th>13</th>\n",
       "      <td>\"7369_1\"</td>\n",
       "      <td>0</td>\n",
       "      <td>\"I had a feeling that after \\\"Submerged\\\", thi...</td>\n",
       "    </tr>\n",
       "    <tr>\n",
       "      <th>14</th>\n",
       "      <td>\"12081_1\"</td>\n",
       "      <td>0</td>\n",
       "      <td>\"note to George Litman, and others: the Myster...</td>\n",
       "    </tr>\n",
       "    <tr>\n",
       "      <th>15</th>\n",
       "      <td>\"3561_4\"</td>\n",
       "      <td>0</td>\n",
       "      <td>\"Stephen King adaptation (scripted by King him...</td>\n",
       "    </tr>\n",
       "    <tr>\n",
       "      <th>16</th>\n",
       "      <td>\"4489_1\"</td>\n",
       "      <td>0</td>\n",
       "      <td>\"`The Matrix' was an exciting summer blockbust...</td>\n",
       "    </tr>\n",
       "    <tr>\n",
       "      <th>17</th>\n",
       "      <td>\"3951_2\"</td>\n",
       "      <td>0</td>\n",
       "      <td>\"Ulli Lommel's 1980 film 'The Boogey Man' is n...</td>\n",
       "    </tr>\n",
       "    <tr>\n",
       "      <th>19</th>\n",
       "      <td>\"9352_10\"</td>\n",
       "      <td>1</td>\n",
       "      <td>\"Most people, especially young people, may not...</td>\n",
       "    </tr>\n",
       "    <tr>\n",
       "      <th>21</th>\n",
       "      <td>\"10782_7\"</td>\n",
       "      <td>1</td>\n",
       "      <td>\"Michael Stearns plays Mike, a sexually frustr...</td>\n",
       "    </tr>\n",
       "    <tr>\n",
       "      <th>22</th>\n",
       "      <td>\"5414_10\"</td>\n",
       "      <td>1</td>\n",
       "      <td>\"This happy-go-luck 1939 military swashbuckler...</td>\n",
       "    </tr>\n",
       "    <tr>\n",
       "      <th>23</th>\n",
       "      <td>\"10492_1\"</td>\n",
       "      <td>0</td>\n",
       "      <td>\"I would love to have that two hours of my lif...</td>\n",
       "    </tr>\n",
       "    <tr>\n",
       "      <th>24</th>\n",
       "      <td>\"3350_3\"</td>\n",
       "      <td>0</td>\n",
       "      <td>\"The script for this movie was probably found ...</td>\n",
       "    </tr>\n",
       "    <tr>\n",
       "      <th>25</th>\n",
       "      <td>\"6581_7\"</td>\n",
       "      <td>1</td>\n",
       "      <td>\"Looking for Quo Vadis at my local video store...</td>\n",
       "    </tr>\n",
       "    <tr>\n",
       "      <th>26</th>\n",
       "      <td>\"2203_3\"</td>\n",
       "      <td>0</td>\n",
       "      <td>\"Note to all mad scientists everywhere: if you...</td>\n",
       "    </tr>\n",
       "    <tr>\n",
       "      <th>27</th>\n",
       "      <td>\"689_1\"</td>\n",
       "      <td>0</td>\n",
       "      <td>\"What the ........... is this ? This must, wit...</td>\n",
       "    </tr>\n",
       "    <tr>\n",
       "      <th>28</th>\n",
       "      <td>\"9152_1\"</td>\n",
       "      <td>0</td>\n",
       "      <td>\"Intrigued by the synopsis (every gay video th...</td>\n",
       "    </tr>\n",
       "    <tr>\n",
       "      <th>29</th>\n",
       "      <td>\"6077_1\"</td>\n",
       "      <td>0</td>\n",
       "      <td>\"Would anyone really watch this RUBBISH if it ...</td>\n",
       "    </tr>\n",
       "    <tr>\n",
       "      <th>31</th>\n",
       "      <td>\"9727_7\"</td>\n",
       "      <td>1</td>\n",
       "      <td>\"Simon Pegg plays a rude crude and often out o...</td>\n",
       "    </tr>\n",
       "    <tr>\n",
       "      <th>32</th>\n",
       "      <td>\"1297_8\"</td>\n",
       "      <td>1</td>\n",
       "      <td>\"Faithful adaptation of witty and interesting ...</td>\n",
       "    </tr>\n",
       "    <tr>\n",
       "      <th>33</th>\n",
       "      <td>\"5586_8\"</td>\n",
       "      <td>1</td>\n",
       "      <td>\"Eva (Hedy Lamarr) has just got married with a...</td>\n",
       "    </tr>\n",
       "    <tr>\n",
       "      <th>34</th>\n",
       "      <td>\"1119_1\"</td>\n",
       "      <td>0</td>\n",
       "      <td>\"Even if this film was allegedly a joke in res...</td>\n",
       "    </tr>\n",
       "    <tr>\n",
       "      <th>...</th>\n",
       "      <td>...</td>\n",
       "      <td>...</td>\n",
       "      <td>...</td>\n",
       "    </tr>\n",
       "    <tr>\n",
       "      <th>24961</th>\n",
       "      <td>\"9280_9\"</td>\n",
       "      <td>1</td>\n",
       "      <td>\"In Iran, women are officially banned from men...</td>\n",
       "    </tr>\n",
       "    <tr>\n",
       "      <th>24962</th>\n",
       "      <td>\"2041_2\"</td>\n",
       "      <td>0</td>\n",
       "      <td>\"Well I'll start with the good points. The mov...</td>\n",
       "    </tr>\n",
       "    <tr>\n",
       "      <th>24964</th>\n",
       "      <td>\"7532_4\"</td>\n",
       "      <td>0</td>\n",
       "      <td>\"Something I really love about this woman's sh...</td>\n",
       "    </tr>\n",
       "    <tr>\n",
       "      <th>24966</th>\n",
       "      <td>\"1184_3\"</td>\n",
       "      <td>0</td>\n",
       "      <td>\"this movie had a fairly good sounding plot, b...</td>\n",
       "    </tr>\n",
       "    <tr>\n",
       "      <th>24967</th>\n",
       "      <td>\"7061_1\"</td>\n",
       "      <td>0</td>\n",
       "      <td>\"I'm still trying to figure out if there was a...</td>\n",
       "    </tr>\n",
       "    <tr>\n",
       "      <th>24968</th>\n",
       "      <td>\"3402_2\"</td>\n",
       "      <td>0</td>\n",
       "      <td>\"Here's why the Jane Show won't work. Once aga...</td>\n",
       "    </tr>\n",
       "    <tr>\n",
       "      <th>24969</th>\n",
       "      <td>\"11416_10\"</td>\n",
       "      <td>1</td>\n",
       "      <td>\"An excellent family movie... gives a lot to t...</td>\n",
       "    </tr>\n",
       "    <tr>\n",
       "      <th>24970</th>\n",
       "      <td>\"9389_7\"</td>\n",
       "      <td>1</td>\n",
       "      <td>\"Red Rock West (1993)&lt;br /&gt;&lt;br /&gt;Nicolas Cage ...</td>\n",
       "    </tr>\n",
       "    <tr>\n",
       "      <th>24971</th>\n",
       "      <td>\"9251_9\"</td>\n",
       "      <td>1</td>\n",
       "      <td>\"what can i say?, ms Erika Eleniak is my favor...</td>\n",
       "    </tr>\n",
       "    <tr>\n",
       "      <th>24972</th>\n",
       "      <td>\"1422_10\"</td>\n",
       "      <td>1</td>\n",
       "      <td>\"The spoiler warning is for those people who w...</td>\n",
       "    </tr>\n",
       "    <tr>\n",
       "      <th>24974</th>\n",
       "      <td>\"7492_7\"</td>\n",
       "      <td>1</td>\n",
       "      <td>\"Though not a horror film in the traditional s...</td>\n",
       "    </tr>\n",
       "    <tr>\n",
       "      <th>24975</th>\n",
       "      <td>\"7689_10\"</td>\n",
       "      <td>1</td>\n",
       "      <td>\"This was what black society was like before t...</td>\n",
       "    </tr>\n",
       "    <tr>\n",
       "      <th>24976</th>\n",
       "      <td>\"12370_4\"</td>\n",
       "      <td>0</td>\n",
       "      <td>\"They probably should have called this movie T...</td>\n",
       "    </tr>\n",
       "    <tr>\n",
       "      <th>24977</th>\n",
       "      <td>\"5625_8\"</td>\n",
       "      <td>1</td>\n",
       "      <td>\"Attractive Marjorie(Farrah Fawcett)lives in f...</td>\n",
       "    </tr>\n",
       "    <tr>\n",
       "      <th>24978</th>\n",
       "      <td>\"9397_9\"</td>\n",
       "      <td>1</td>\n",
       "      <td>\"Vaguely reminiscent of great 1940's westerns,...</td>\n",
       "    </tr>\n",
       "    <tr>\n",
       "      <th>24979</th>\n",
       "      <td>\"5992_7\"</td>\n",
       "      <td>1</td>\n",
       "      <td>\"I admit I had no idea what to expect before v...</td>\n",
       "    </tr>\n",
       "    <tr>\n",
       "      <th>24981</th>\n",
       "      <td>\"9627_10\"</td>\n",
       "      <td>1</td>\n",
       "      <td>\"This is by far the funniest short made by the...</td>\n",
       "    </tr>\n",
       "    <tr>\n",
       "      <th>24982</th>\n",
       "      <td>\"3822_2\"</td>\n",
       "      <td>0</td>\n",
       "      <td>\"To be a Buster Keaton fan is to have your hea...</td>\n",
       "    </tr>\n",
       "    <tr>\n",
       "      <th>24983</th>\n",
       "      <td>\"5983_4\"</td>\n",
       "      <td>0</td>\n",
       "      <td>\"I was one of those \\\"few Americans\\\" that gre...</td>\n",
       "    </tr>\n",
       "    <tr>\n",
       "      <th>24984</th>\n",
       "      <td>\"8021_2\"</td>\n",
       "      <td>0</td>\n",
       "      <td>\"Visually disjointed and full of itself, the d...</td>\n",
       "    </tr>\n",
       "    <tr>\n",
       "      <th>24986</th>\n",
       "      <td>\"6034_10\"</td>\n",
       "      <td>1</td>\n",
       "      <td>\"Last November, I had a chance to see this fil...</td>\n",
       "    </tr>\n",
       "    <tr>\n",
       "      <th>24987</th>\n",
       "      <td>\"1988_9\"</td>\n",
       "      <td>1</td>\n",
       "      <td>\"First off, I'd like to make a correction on a...</td>\n",
       "    </tr>\n",
       "    <tr>\n",
       "      <th>24988</th>\n",
       "      <td>\"7623_9\"</td>\n",
       "      <td>1</td>\n",
       "      <td>\"While originally reluctant to jump on the ban...</td>\n",
       "    </tr>\n",
       "    <tr>\n",
       "      <th>24989</th>\n",
       "      <td>\"5974_7\"</td>\n",
       "      <td>1</td>\n",
       "      <td>\"I heard about this movie when watching VH1's ...</td>\n",
       "    </tr>\n",
       "    <tr>\n",
       "      <th>24991</th>\n",
       "      <td>\"9416_3\"</td>\n",
       "      <td>0</td>\n",
       "      <td>\"Steve McQueen has certainly a lot of loyal fa...</td>\n",
       "    </tr>\n",
       "    <tr>\n",
       "      <th>24992</th>\n",
       "      <td>\"10994_1\"</td>\n",
       "      <td>0</td>\n",
       "      <td>\"Sometimes you wonder how some people get fund...</td>\n",
       "    </tr>\n",
       "    <tr>\n",
       "      <th>24993</th>\n",
       "      <td>\"10957_3\"</td>\n",
       "      <td>0</td>\n",
       "      <td>\"I am a student of film, and have been for sev...</td>\n",
       "    </tr>\n",
       "    <tr>\n",
       "      <th>24995</th>\n",
       "      <td>\"3453_3\"</td>\n",
       "      <td>0</td>\n",
       "      <td>\"It seems like more consideration has gone int...</td>\n",
       "    </tr>\n",
       "    <tr>\n",
       "      <th>24997</th>\n",
       "      <td>\"10905_3\"</td>\n",
       "      <td>0</td>\n",
       "      <td>\"Guy is a loser. Can't get girls, needs to bui...</td>\n",
       "    </tr>\n",
       "    <tr>\n",
       "      <th>24999</th>\n",
       "      <td>\"8478_8\"</td>\n",
       "      <td>1</td>\n",
       "      <td>\"I saw this movie as a child and it broke my h...</td>\n",
       "    </tr>\n",
       "  </tbody>\n",
       "</table>\n",
       "<p>20000 rows × 3 columns</p>\n",
       "</div>"
      ],
      "text/plain": [
       "               id  boolean_label  \\\n",
       "1        \"2381_9\"              1   \n",
       "2        \"7759_3\"              0   \n",
       "3        \"3630_4\"              0   \n",
       "5        \"8196_8\"              1   \n",
       "6        \"7166_2\"              0   \n",
       "7       \"10633_1\"              0   \n",
       "8         \"319_1\"              0   \n",
       "9       \"8713_10\"              1   \n",
       "10       \"2486_3\"              0   \n",
       "11      \"6811_10\"              1   \n",
       "12      \"11744_9\"              1   \n",
       "13       \"7369_1\"              0   \n",
       "14      \"12081_1\"              0   \n",
       "15       \"3561_4\"              0   \n",
       "16       \"4489_1\"              0   \n",
       "17       \"3951_2\"              0   \n",
       "19      \"9352_10\"              1   \n",
       "21      \"10782_7\"              1   \n",
       "22      \"5414_10\"              1   \n",
       "23      \"10492_1\"              0   \n",
       "24       \"3350_3\"              0   \n",
       "25       \"6581_7\"              1   \n",
       "26       \"2203_3\"              0   \n",
       "27        \"689_1\"              0   \n",
       "28       \"9152_1\"              0   \n",
       "29       \"6077_1\"              0   \n",
       "31       \"9727_7\"              1   \n",
       "32       \"1297_8\"              1   \n",
       "33       \"5586_8\"              1   \n",
       "34       \"1119_1\"              0   \n",
       "...           ...            ...   \n",
       "24961    \"9280_9\"              1   \n",
       "24962    \"2041_2\"              0   \n",
       "24964    \"7532_4\"              0   \n",
       "24966    \"1184_3\"              0   \n",
       "24967    \"7061_1\"              0   \n",
       "24968    \"3402_2\"              0   \n",
       "24969  \"11416_10\"              1   \n",
       "24970    \"9389_7\"              1   \n",
       "24971    \"9251_9\"              1   \n",
       "24972   \"1422_10\"              1   \n",
       "24974    \"7492_7\"              1   \n",
       "24975   \"7689_10\"              1   \n",
       "24976   \"12370_4\"              0   \n",
       "24977    \"5625_8\"              1   \n",
       "24978    \"9397_9\"              1   \n",
       "24979    \"5992_7\"              1   \n",
       "24981   \"9627_10\"              1   \n",
       "24982    \"3822_2\"              0   \n",
       "24983    \"5983_4\"              0   \n",
       "24984    \"8021_2\"              0   \n",
       "24986   \"6034_10\"              1   \n",
       "24987    \"1988_9\"              1   \n",
       "24988    \"7623_9\"              1   \n",
       "24989    \"5974_7\"              1   \n",
       "24991    \"9416_3\"              0   \n",
       "24992   \"10994_1\"              0   \n",
       "24993   \"10957_3\"              0   \n",
       "24995    \"3453_3\"              0   \n",
       "24997   \"10905_3\"              0   \n",
       "24999    \"8478_8\"              1   \n",
       "\n",
       "                                                abstract  \n",
       "1      \"\\\"The Classic War of the Worlds\\\" by Timothy ...  \n",
       "2      \"The film starts with a manager (Nicholas Bell...  \n",
       "3      \"It must be assumed that those who praised thi...  \n",
       "5      \"I dont know why people think this is such a b...  \n",
       "6      \"This movie could have been very good, but com...  \n",
       "7      \"I watched this video at a friend's house. I'm...  \n",
       "8      \"A friend of mine bought this film for £1, and...  \n",
       "9      \"<br /><br />This movie is full of references....  \n",
       "10     \"What happens when an army of wetbacks, towelh...  \n",
       "11     \"Although I generally do not like remakes beli...  \n",
       "12     \"\\\"Mr. Harvey Lights a Candle\\\" is anchored by...  \n",
       "13     \"I had a feeling that after \\\"Submerged\\\", thi...  \n",
       "14     \"note to George Litman, and others: the Myster...  \n",
       "15     \"Stephen King adaptation (scripted by King him...  \n",
       "16     \"`The Matrix' was an exciting summer blockbust...  \n",
       "17     \"Ulli Lommel's 1980 film 'The Boogey Man' is n...  \n",
       "19     \"Most people, especially young people, may not...  \n",
       "21     \"Michael Stearns plays Mike, a sexually frustr...  \n",
       "22     \"This happy-go-luck 1939 military swashbuckler...  \n",
       "23     \"I would love to have that two hours of my lif...  \n",
       "24     \"The script for this movie was probably found ...  \n",
       "25     \"Looking for Quo Vadis at my local video store...  \n",
       "26     \"Note to all mad scientists everywhere: if you...  \n",
       "27     \"What the ........... is this ? This must, wit...  \n",
       "28     \"Intrigued by the synopsis (every gay video th...  \n",
       "29     \"Would anyone really watch this RUBBISH if it ...  \n",
       "31     \"Simon Pegg plays a rude crude and often out o...  \n",
       "32     \"Faithful adaptation of witty and interesting ...  \n",
       "33     \"Eva (Hedy Lamarr) has just got married with a...  \n",
       "34     \"Even if this film was allegedly a joke in res...  \n",
       "...                                                  ...  \n",
       "24961  \"In Iran, women are officially banned from men...  \n",
       "24962  \"Well I'll start with the good points. The mov...  \n",
       "24964  \"Something I really love about this woman's sh...  \n",
       "24966  \"this movie had a fairly good sounding plot, b...  \n",
       "24967  \"I'm still trying to figure out if there was a...  \n",
       "24968  \"Here's why the Jane Show won't work. Once aga...  \n",
       "24969  \"An excellent family movie... gives a lot to t...  \n",
       "24970  \"Red Rock West (1993)<br /><br />Nicolas Cage ...  \n",
       "24971  \"what can i say?, ms Erika Eleniak is my favor...  \n",
       "24972  \"The spoiler warning is for those people who w...  \n",
       "24974  \"Though not a horror film in the traditional s...  \n",
       "24975  \"This was what black society was like before t...  \n",
       "24976  \"They probably should have called this movie T...  \n",
       "24977  \"Attractive Marjorie(Farrah Fawcett)lives in f...  \n",
       "24978  \"Vaguely reminiscent of great 1940's westerns,...  \n",
       "24979  \"I admit I had no idea what to expect before v...  \n",
       "24981  \"This is by far the funniest short made by the...  \n",
       "24982  \"To be a Buster Keaton fan is to have your hea...  \n",
       "24983  \"I was one of those \\\"few Americans\\\" that gre...  \n",
       "24984  \"Visually disjointed and full of itself, the d...  \n",
       "24986  \"Last November, I had a chance to see this fil...  \n",
       "24987  \"First off, I'd like to make a correction on a...  \n",
       "24988  \"While originally reluctant to jump on the ban...  \n",
       "24989  \"I heard about this movie when watching VH1's ...  \n",
       "24991  \"Steve McQueen has certainly a lot of loyal fa...  \n",
       "24992  \"Sometimes you wonder how some people get fund...  \n",
       "24993  \"I am a student of film, and have been for sev...  \n",
       "24995  \"It seems like more consideration has gone int...  \n",
       "24997  \"Guy is a loser. Can't get girls, needs to bui...  \n",
       "24999  \"I saw this movie as a child and it broke my h...  \n",
       "\n",
       "[20000 rows x 3 columns]"
      ]
     },
     "execution_count": 22,
     "metadata": {},
     "output_type": "execute_result"
    }
   ],
   "source": [
    "df.iloc[trainIndices[0][1]]"
   ]
  },
  {
   "cell_type": "code",
   "execution_count": 71,
   "metadata": {
    "collapsed": false
   },
   "outputs": [],
   "source": [
    "pickle.dump(trainIndices, open('/mnt/mypartition/PAPER/trainIndicesMR.p', 'wb'))"
   ]
  },
  {
   "cell_type": "code",
   "execution_count": 72,
   "metadata": {
    "collapsed": true
   },
   "outputs": [],
   "source": [
    "pickle.dump(testIndices, open('/mnt/mypartition/PAPER/testIndicesMR.p', 'wb'))"
   ]
  },
  {
   "cell_type": "markdown",
   "metadata": {},
   "source": [
    "### Amazon fine food reviews"
   ]
  },
  {
   "cell_type": "code",
   "execution_count": 4,
   "metadata": {
    "collapsed": false
   },
   "outputs": [],
   "source": [
    "df = pd.read_csv('Reviews.csv')"
   ]
  },
  {
   "cell_type": "code",
   "execution_count": 43,
   "metadata": {
    "collapsed": false
   },
   "outputs": [
    {
     "data": {
      "text/plain": [
       "'I have bought several of the Vitality canned dog food products and have found them all to be of good quality. The product looks more like a stew than a processed meat and it smells better. My Labrador is finicky and she appreciates this product better than  most.'"
      ]
     },
     "execution_count": 43,
     "metadata": {},
     "output_type": "execute_result"
    }
   ],
   "source": [
    "df['Text'].loc[0]"
   ]
  },
  {
   "cell_type": "code",
   "execution_count": 5,
   "metadata": {
    "collapsed": true
   },
   "outputs": [],
   "source": [
    "df.columns = ['Id', 'ProductId', 'UserId', \"ProfileName\", 'HelpfulnessNumerator', 'HelpfulnessDenominator', 'label', 'Time', 'title', 'abstract']"
   ]
  },
  {
   "cell_type": "code",
   "execution_count": 45,
   "metadata": {
    "collapsed": false
   },
   "outputs": [
    {
     "data": {
      "text/html": [
       "<div>\n",
       "<table border=\"1\" class=\"dataframe\">\n",
       "  <thead>\n",
       "    <tr style=\"text-align: right;\">\n",
       "      <th></th>\n",
       "      <th>Id</th>\n",
       "      <th>ProductId</th>\n",
       "      <th>UserId</th>\n",
       "      <th>ProfileName</th>\n",
       "      <th>HelpfulnessNumerator</th>\n",
       "      <th>HelpfulnessDenominator</th>\n",
       "      <th>label</th>\n",
       "      <th>Time</th>\n",
       "      <th>title</th>\n",
       "      <th>abstract</th>\n",
       "    </tr>\n",
       "  </thead>\n",
       "  <tbody>\n",
       "    <tr>\n",
       "      <th>0</th>\n",
       "      <td>1</td>\n",
       "      <td>B001E4KFG0</td>\n",
       "      <td>A3SGXH7AUHU8GW</td>\n",
       "      <td>delmartian</td>\n",
       "      <td>1</td>\n",
       "      <td>1</td>\n",
       "      <td>5</td>\n",
       "      <td>1303862400</td>\n",
       "      <td>Good Quality Dog Food</td>\n",
       "      <td>I have bought several of the Vitality canned d...</td>\n",
       "    </tr>\n",
       "    <tr>\n",
       "      <th>1</th>\n",
       "      <td>2</td>\n",
       "      <td>B00813GRG4</td>\n",
       "      <td>A1D87F6ZCVE5NK</td>\n",
       "      <td>dll pa</td>\n",
       "      <td>0</td>\n",
       "      <td>0</td>\n",
       "      <td>1</td>\n",
       "      <td>1346976000</td>\n",
       "      <td>Not as Advertised</td>\n",
       "      <td>Product arrived labeled as Jumbo Salted Peanut...</td>\n",
       "    </tr>\n",
       "  </tbody>\n",
       "</table>\n",
       "</div>"
      ],
      "text/plain": [
       "   Id   ProductId          UserId ProfileName  HelpfulnessNumerator  \\\n",
       "0   1  B001E4KFG0  A3SGXH7AUHU8GW  delmartian                     1   \n",
       "1   2  B00813GRG4  A1D87F6ZCVE5NK      dll pa                     0   \n",
       "\n",
       "   HelpfulnessDenominator  label        Time                  title  \\\n",
       "0                       1      5  1303862400  Good Quality Dog Food   \n",
       "1                       0      1  1346976000      Not as Advertised   \n",
       "\n",
       "                                            abstract  \n",
       "0  I have bought several of the Vitality canned d...  \n",
       "1  Product arrived labeled as Jumbo Salted Peanut...  "
      ]
     },
     "execution_count": 45,
     "metadata": {},
     "output_type": "execute_result"
    }
   ],
   "source": [
    "df[0:2]"
   ]
  },
  {
   "cell_type": "code",
   "execution_count": 6,
   "metadata": {
    "collapsed": false
   },
   "outputs": [],
   "source": [
    "#randomly subset those with label 5 to be more similar to actual amount (*** and most importantly to reduce size of dataset)\n",
    "df_5 = df.loc[df['label'] == 5]\n",
    "df_5 = df_5.sample(n=50000, random_state=10)"
   ]
  },
  {
   "cell_type": "code",
   "execution_count": 10,
   "metadata": {
    "collapsed": false
   },
   "outputs": [
    {
     "name": "stdout",
     "output_type": "stream",
     "text": [
      "459791    459792\n",
      "87685      87686\n",
      "114816    114817\n",
      "69163      69164\n",
      "403978    403979\n",
      "489490    489491\n",
      "16699      16700\n",
      "167783    167784\n",
      "3031        3032\n",
      "123399    123400\n",
      "18678      18679\n",
      "308376    308377\n",
      "477631    477632\n",
      "208595    208596\n",
      "318447    318448\n",
      "566580    566581\n",
      "139461    139462\n",
      "368180    368181\n",
      "46761      46762\n",
      "51156      51157\n",
      "425272    425273\n",
      "94097      94098\n",
      "378813    378814\n",
      "117134    117135\n",
      "255187    255188\n",
      "175663    175664\n",
      "378800    378801\n",
      "468850    468851\n",
      "283333    283334\n",
      "218783    218784\n",
      "           ...  \n",
      "360349    360350\n",
      "256097    256098\n",
      "100767    100768\n",
      "166940    166941\n",
      "210771    210772\n",
      "170471    170472\n",
      "176188    176189\n",
      "527239    527240\n",
      "471804    471805\n",
      "529558    529559\n",
      "275867    275868\n",
      "473884    473885\n",
      "421308    421309\n",
      "382277    382278\n",
      "551521    551522\n",
      "289265    289266\n",
      "298675    298676\n",
      "261497    261498\n",
      "187481    187482\n",
      "71664      71665\n",
      "509082    509083\n",
      "223115    223116\n",
      "538357    538358\n",
      "477887    477888\n",
      "376105    376106\n",
      "318347    318348\n",
      "105912    105913\n",
      "524759    524760\n",
      "3080        3081\n",
      "91122      91123\n",
      "Name: Id, dtype: int64\n"
     ]
    }
   ],
   "source": [
    "print(df_5['Id'])"
   ]
  },
  {
   "cell_type": "code",
   "execution_count": 49,
   "metadata": {
    "collapsed": true
   },
   "outputs": [],
   "source": [
    "df_allElse = df.loc[df['label'] != 5]\n",
    "df = pd.concat([df_allElse, df_5])"
   ]
  },
  {
   "cell_type": "code",
   "execution_count": 56,
   "metadata": {
    "collapsed": false
   },
   "outputs": [
    {
     "name": "stdout",
     "output_type": "stream",
     "text": [
      "0:00:02\n"
     ]
    }
   ],
   "source": [
    "a = datetime.datetime.now().replace(microsecond=0)\n",
    "\n",
    "y = df['label'].values\n",
    "\n",
    "trainIndices = []\n",
    "testIndices = []\n",
    "\n",
    "for k in range(25):\n",
    "\n",
    "    inxTrain = []\n",
    "    inxTest = []\n",
    "    #set random state\n",
    "    skf = StratifiedKFold(y, n_folds=5, shuffle=True)\n",
    "\n",
    "    for train_index, test_index in skf:\n",
    "\n",
    "        #print(train_index)\n",
    "        #print(test_index)\n",
    "        #print(\"----------\")\n",
    "        inxTrain.append(train_index)\n",
    "        inxTest.append(test_index)\n",
    "        \n",
    "    trainIndices.append(inxTrain)\n",
    "    testIndices.append(inxTest)\n",
    "                        \n",
    "b = datetime.datetime.now().replace(microsecond=0)\n",
    "print(b-a)"
   ]
  },
  {
   "cell_type": "code",
   "execution_count": 60,
   "metadata": {
    "collapsed": false
   },
   "outputs": [
    {
     "data": {
      "text/plain": [
       "5"
      ]
     },
     "execution_count": 60,
     "metadata": {},
     "output_type": "execute_result"
    }
   ],
   "source": [
    "len(trainIndices[24])\n",
    "#len(testIndices)"
   ]
  },
  {
   "cell_type": "code",
   "execution_count": 61,
   "metadata": {
    "collapsed": true
   },
   "outputs": [],
   "source": [
    "pickle.dump(trainIndices, open('/mnt/mypartition/PAPER/trainIndicesAFFR.p', 'wb'))"
   ]
  },
  {
   "cell_type": "code",
   "execution_count": 62,
   "metadata": {
    "collapsed": true
   },
   "outputs": [],
   "source": [
    "pickle.dump(testIndices, open('/mnt/mypartition/PAPER/testIndicesAFFR.p', 'wb'))"
   ]
  },
  {
   "cell_type": "markdown",
   "metadata": {},
   "source": [
    "### Twitter dataset"
   ]
  },
  {
   "cell_type": "code",
   "execution_count": 5,
   "metadata": {
    "collapsed": false
   },
   "outputs": [],
   "source": [
    "#df=pd.read_csv('sentiment_analysis_twitter_full.csv', header=0, sep=',', error_bad_lines=False)\n",
    "df=pd.read_csv('subset100000.csv', header=0, sep=',', error_bad_lines=False)"
   ]
  },
  {
   "cell_type": "code",
   "execution_count": 6,
   "metadata": {
    "collapsed": true
   },
   "outputs": [],
   "source": [
    "df.columns = ['id', 'boolean_label', 'sentiment_source', 'abstract']"
   ]
  },
  {
   "cell_type": "code",
   "execution_count": 7,
   "metadata": {
    "collapsed": false
   },
   "outputs": [
    {
     "name": "stdout",
     "output_type": "stream",
     "text": [
      "0:00:01\n"
     ]
    }
   ],
   "source": [
    "a = datetime.datetime.now().replace(microsecond=0)\n",
    "\n",
    "y = df['boolean_label'].values\n",
    "\n",
    "trainIndices = []\n",
    "testIndices = []\n",
    "\n",
    "for k in range(25):\n",
    "\n",
    "    inxTrain = []\n",
    "    inxTest = []\n",
    "    #set random state\n",
    "    skf = StratifiedKFold(y, n_folds=5, shuffle=True)\n",
    "\n",
    "    for train_index, test_index in skf:\n",
    "\n",
    "        inxTrain.append(train_index)\n",
    "        inxTest.append(test_index)\n",
    "        \n",
    "    trainIndices.append(inxTrain)\n",
    "    testIndices.append(inxTest)\n",
    "                        \n",
    "b = datetime.datetime.now().replace(microsecond=0)\n",
    "print(b-a)"
   ]
  },
  {
   "cell_type": "code",
   "execution_count": 8,
   "metadata": {
    "collapsed": false
   },
   "outputs": [
    {
     "data": {
      "text/plain": [
       "[array([    0,     1,     2, ..., 99996, 99997, 99998]),\n",
       " array([    0,     1,     3, ..., 99995, 99996, 99997]),\n",
       " array([    0,     1,     2, ..., 99994, 99996, 99998]),\n",
       " array([    2,     3,     4, ..., 99995, 99997, 99998]),\n",
       " array([    0,     1,     2, ..., 99996, 99997, 99998])]"
      ]
     },
     "execution_count": 8,
     "metadata": {},
     "output_type": "execute_result"
    }
   ],
   "source": [
    "trainIndices[0]"
   ]
  },
  {
   "cell_type": "code",
   "execution_count": 9,
   "metadata": {
    "collapsed": false
   },
   "outputs": [
    {
     "data": {
      "text/plain": [
       "[array([    6,    10,    12, ..., 99980, 99992, 99993]),\n",
       " array([    2,     9,    11, ..., 99979, 99987, 99998]),\n",
       " array([    3,     4,    20, ..., 99990, 99995, 99997]),\n",
       " array([    0,     1,     5, ..., 99986, 99994, 99996]),\n",
       " array([   26,    32,    40, ..., 99967, 99977, 99991])]"
      ]
     },
     "execution_count": 9,
     "metadata": {},
     "output_type": "execute_result"
    }
   ],
   "source": [
    "testIndices[0]"
   ]
  },
  {
   "cell_type": "code",
   "execution_count": 10,
   "metadata": {
    "collapsed": false
   },
   "outputs": [
    {
     "data": {
      "text/plain": [
       "79998"
      ]
     },
     "execution_count": 10,
     "metadata": {},
     "output_type": "execute_result"
    }
   ],
   "source": [
    "len(trainIndices[0][0])"
   ]
  },
  {
   "cell_type": "code",
   "execution_count": 11,
   "metadata": {
    "collapsed": false
   },
   "outputs": [
    {
     "data": {
      "text/plain": [
       "20001"
      ]
     },
     "execution_count": 11,
     "metadata": {},
     "output_type": "execute_result"
    }
   ],
   "source": [
    "len(testIndices[0][0])"
   ]
  },
  {
   "cell_type": "code",
   "execution_count": 13,
   "metadata": {
    "collapsed": false
   },
   "outputs": [],
   "source": [
    "pickle.dump(trainIndices, open('/mnt/mypartition/paper_final_code/trainIndicesTSAsub.p', 'wb'))"
   ]
  },
  {
   "cell_type": "code",
   "execution_count": 12,
   "metadata": {
    "collapsed": false
   },
   "outputs": [],
   "source": [
    "pickle.dump(testIndices, open('/mnt/mypartition/paper_final_code/testIndicesTSAsub.p', 'wb'))"
   ]
  },
  {
   "cell_type": "code",
   "execution_count": null,
   "metadata": {
    "collapsed": true
   },
   "outputs": [],
   "source": []
  }
 ],
 "metadata": {
  "anaconda-cloud": {},
  "kernelspec": {
   "display_name": "Python [default]",
   "language": "python",
   "name": "python2"
  },
  "language_info": {
   "codemirror_mode": {
    "name": "ipython",
    "version": 2
   },
   "file_extension": ".py",
   "mimetype": "text/x-python",
   "name": "python",
   "nbconvert_exporter": "python",
   "pygments_lexer": "ipython2",
   "version": "2.7.12"
  }
 },
 "nbformat": 4,
 "nbformat_minor": 1
}
