{
 "cells": [
  {
   "cell_type": "code",
   "execution_count": 10,
   "metadata": {
    "collapsed": true
   },
   "outputs": [],
   "source": [
    "import pickle\n",
    "import numpy as np\n",
    "import datetime\n",
    "import nltk"
   ]
  },
  {
   "cell_type": "code",
   "execution_count": 3,
   "metadata": {
    "collapsed": false
   },
   "outputs": [],
   "source": [
    "df = pickle.load(open('/mnt/mypartition/pubmed_nlp_research/C_article_replication_and_translational_classification/pickled_objects/dfJournals_trans_categories.p', 'rb'))"
   ]
  },
  {
   "cell_type": "code",
   "execution_count": 6,
   "metadata": {
    "collapsed": false
   },
   "outputs": [
    {
     "name": "stdout",
     "output_type": "stream",
     "text": [
      "['sentiment' 'title' 'abstract' 'qualifier_terms' 'descriptor_terms']\n",
      "['T0' 'T1/T2' 'T3/T4']\n"
     ]
    }
   ],
   "source": [
    "#check labels- great\n",
    "print df.columns.values\n",
    "print df['sentiment'].unique()\n",
    "\n",
    "df.columns = ['label', 'title', 'abstract', 'qualifier_terms', 'descriptor_terms']"
   ]
  },
  {
   "cell_type": "code",
   "execution_count": 11,
   "metadata": {
    "collapsed": false
   },
   "outputs": [],
   "source": [
    "# Load the punkt tokenizer\n",
    "tokenizer = nltk.data.load('tokenizers/punkt/english.pickle')"
   ]
  },
  {
   "cell_type": "code",
   "execution_count": 7,
   "metadata": {
    "collapsed": false
   },
   "outputs": [
    {
     "data": {
      "text/html": [
       "<div>\n",
       "<table border=\"1\" class=\"dataframe\">\n",
       "  <thead>\n",
       "    <tr style=\"text-align: right;\">\n",
       "      <th></th>\n",
       "      <th>label</th>\n",
       "      <th>title</th>\n",
       "      <th>abstract</th>\n",
       "      <th>qualifier_terms</th>\n",
       "      <th>descriptor_terms</th>\n",
       "    </tr>\n",
       "  </thead>\n",
       "  <tbody>\n",
       "    <tr>\n",
       "      <th>0</th>\n",
       "      <td>T0</td>\n",
       "      <td>Quantification of the relative contributions o...</td>\n",
       "      <td>Amyotrophic lateral sclerosis (ALS) and fronto...</td>\n",
       "      <td></td>\n",
       "      <td></td>\n",
       "    </tr>\n",
       "    <tr>\n",
       "      <th>1</th>\n",
       "      <td>T0</td>\n",
       "      <td>Ubiquitin Specific Protease 36 (USP36) control...</td>\n",
       "      <td>Ubiquitination of the TrkA neurotrophin recept...</td>\n",
       "      <td></td>\n",
       "      <td></td>\n",
       "    </tr>\n",
       "    <tr>\n",
       "      <th>2</th>\n",
       "      <td>T0</td>\n",
       "      <td>Functional Diversity of Cytotoxic tRNase/immun...</td>\n",
       "      <td>Contact-dependent growth inhibition (CDI) is a...</td>\n",
       "      <td></td>\n",
       "      <td></td>\n",
       "    </tr>\n",
       "    <tr>\n",
       "      <th>3</th>\n",
       "      <td>T0</td>\n",
       "      <td>Identification of a distinct substrate binding...</td>\n",
       "      <td>The type III secretion system (T3SS) effector ...</td>\n",
       "      <td></td>\n",
       "      <td></td>\n",
       "    </tr>\n",
       "    <tr>\n",
       "      <th>4</th>\n",
       "      <td>T0</td>\n",
       "      <td>Role of chondroitin sulfate (CS) modification ...</td>\n",
       "      <td>Protein tyrosine phosphatase receptor type Z (...</td>\n",
       "      <td></td>\n",
       "      <td></td>\n",
       "    </tr>\n",
       "    <tr>\n",
       "      <th>5</th>\n",
       "      <td>T0</td>\n",
       "      <td>Chemically programmed bispecific antibodies in...</td>\n",
       "      <td>Chemically programmed bispecific antibodies (b...</td>\n",
       "      <td></td>\n",
       "      <td></td>\n",
       "    </tr>\n",
       "    <tr>\n",
       "      <th>6</th>\n",
       "      <td>T0</td>\n",
       "      <td>Non-mutagenic Suppression of Enterocyte Ferrop...</td>\n",
       "      <td>Iron transfer across the basolateral membrane ...</td>\n",
       "      <td></td>\n",
       "      <td></td>\n",
       "    </tr>\n",
       "    <tr>\n",
       "      <th>7</th>\n",
       "      <td>T0</td>\n",
       "      <td>Structural plasticity of cholesteryl ester tra...</td>\n",
       "      <td>Cholesteryl ester transfer protein (CETP) medi...</td>\n",
       "      <td></td>\n",
       "      <td></td>\n",
       "    </tr>\n",
       "    <tr>\n",
       "      <th>8</th>\n",
       "      <td>T0</td>\n",
       "      <td>Identification of a Membrane-Bound Prepore Spe...</td>\n",
       "      <td>Pore-forming toxins (PFT) are cytolytic protei...</td>\n",
       "      <td></td>\n",
       "      <td></td>\n",
       "    </tr>\n",
       "    <tr>\n",
       "      <th>9</th>\n",
       "      <td>T0</td>\n",
       "      <td>EspR-dependent ESAT-6 secretion of Mycobacteri...</td>\n",
       "      <td>Attenuation of M. bovis BCG strain is related ...</td>\n",
       "      <td></td>\n",
       "      <td></td>\n",
       "    </tr>\n",
       "  </tbody>\n",
       "</table>\n",
       "</div>"
      ],
      "text/plain": [
       "  label                                              title  \\\n",
       "0    T0  Quantification of the relative contributions o...   \n",
       "1    T0  Ubiquitin Specific Protease 36 (USP36) control...   \n",
       "2    T0  Functional Diversity of Cytotoxic tRNase/immun...   \n",
       "3    T0  Identification of a distinct substrate binding...   \n",
       "4    T0  Role of chondroitin sulfate (CS) modification ...   \n",
       "5    T0  Chemically programmed bispecific antibodies in...   \n",
       "6    T0  Non-mutagenic Suppression of Enterocyte Ferrop...   \n",
       "7    T0  Structural plasticity of cholesteryl ester tra...   \n",
       "8    T0  Identification of a Membrane-Bound Prepore Spe...   \n",
       "9    T0  EspR-dependent ESAT-6 secretion of Mycobacteri...   \n",
       "\n",
       "                                            abstract qualifier_terms  \\\n",
       "0  Amyotrophic lateral sclerosis (ALS) and fronto...                   \n",
       "1  Ubiquitination of the TrkA neurotrophin recept...                   \n",
       "2  Contact-dependent growth inhibition (CDI) is a...                   \n",
       "3  The type III secretion system (T3SS) effector ...                   \n",
       "4  Protein tyrosine phosphatase receptor type Z (...                   \n",
       "5  Chemically programmed bispecific antibodies (b...                   \n",
       "6  Iron transfer across the basolateral membrane ...                   \n",
       "7  Cholesteryl ester transfer protein (CETP) medi...                   \n",
       "8  Pore-forming toxins (PFT) are cytolytic protei...                   \n",
       "9  Attenuation of M. bovis BCG strain is related ...                   \n",
       "\n",
       "  descriptor_terms  \n",
       "0                   \n",
       "1                   \n",
       "2                   \n",
       "3                   \n",
       "4                   \n",
       "5                   \n",
       "6                   \n",
       "7                   \n",
       "8                   \n",
       "9                   "
      ]
     },
     "execution_count": 7,
     "metadata": {},
     "output_type": "execute_result"
    }
   ],
   "source": [
    "df[0:10]"
   ]
  },
  {
   "cell_type": "markdown",
   "metadata": {},
   "source": [
    "### Generate probssentences "
   ]
  },
  {
   "cell_type": "code",
   "execution_count": 12,
   "metadata": {
    "collapsed": true
   },
   "outputs": [],
   "source": [
    "#add boolean labels\n",
    "df['boolean_label'] = 1\n",
    "for row in df.iterrows():\n",
    "    if row[1]['label'] != 'T0':\n",
    "        df.set_value(row[0], 'boolean_label', 0)"
   ]
  },
  {
   "cell_type": "code",
   "execution_count": 16,
   "metadata": {
    "collapsed": false
   },
   "outputs": [],
   "source": [
    "#not doing stratified but just shuffling to match method used for probssentences (movie reviews)\n",
    "#do a larger split\n",
    "fracTrain = 0.80\n",
    "nSamples = df.shape[0]\n",
    "order = np.random.permutation(nSamples) # come up with a random ordering\n",
    "splitIndex = int(np.round(nSamples*fracTrain))\n",
    "train1 = df.ix[order[:splitIndex],:]\n",
    "test1 = df.ix[order[splitIndex:],:]"
   ]
  },
  {
   "cell_type": "code",
   "execution_count": 17,
   "metadata": {
    "collapsed": false
   },
   "outputs": [
    {
     "name": "stdout",
     "output_type": "stream",
     "text": [
      "(77639, 6)\n",
      "(19410, 6)\n"
     ]
    }
   ],
   "source": [
    "print train1.shape\n",
    "print test1.shape"
   ]
  },
  {
   "cell_type": "code",
   "execution_count": 18,
   "metadata": {
    "collapsed": false
   },
   "outputs": [
    {
     "data": {
      "text/html": [
       "<div>\n",
       "<table border=\"1\" class=\"dataframe\">\n",
       "  <thead>\n",
       "    <tr style=\"text-align: right;\">\n",
       "      <th></th>\n",
       "      <th>label</th>\n",
       "      <th>title</th>\n",
       "      <th>abstract</th>\n",
       "      <th>qualifier_terms</th>\n",
       "      <th>descriptor_terms</th>\n",
       "      <th>boolean_label</th>\n",
       "    </tr>\n",
       "  </thead>\n",
       "  <tbody>\n",
       "    <tr>\n",
       "      <th>83452</th>\n",
       "      <td>T3/T4</td>\n",
       "      <td>Validity and Reliability of the US National Ca...</td>\n",
       "      <td>To integrate the patient perspective into adve...</td>\n",
       "      <td>classification adverse effects adverse effects...</td>\n",
       "      <td>Adult Adverse Drug Reaction Reporting Systems ...</td>\n",
       "      <td>0</td>\n",
       "    </tr>\n",
       "    <tr>\n",
       "      <th>29602</th>\n",
       "      <td>T0</td>\n",
       "      <td>Monospecific inhibitors show that both mannan-...</td>\n",
       "      <td>The lectin pathway is an antibody-independent ...</td>\n",
       "      <td>antagonists &amp; inhibitors chemistry metabolism ...</td>\n",
       "      <td>Complement Pathway, Mannose-Binding Lectin Cry...</td>\n",
       "      <td>1</td>\n",
       "    </tr>\n",
       "    <tr>\n",
       "      <th>13691</th>\n",
       "      <td>T0</td>\n",
       "      <td>NdhP is an exclusive subunit of large complex ...</td>\n",
       "      <td>Two major complexes of NADPH dehydrogenase (ND...</td>\n",
       "      <td>chemistry metabolism chemistry deficiency gene...</td>\n",
       "      <td>Amino Acid Sequence Cell Respiration Electron ...</td>\n",
       "      <td>1</td>\n",
       "    </tr>\n",
       "    <tr>\n",
       "      <th>49017</th>\n",
       "      <td>T1/T2</td>\n",
       "      <td>Phase I pharmacokinetic study of S-1 granules ...</td>\n",
       "      <td>We performed a pharmacokinetic phase I trial o...</td>\n",
       "      <td>administration &amp; dosage pharmacokinetics thera...</td>\n",
       "      <td>Aged Antineoplastic Combined Chemotherapy Prot...</td>\n",
       "      <td>0</td>\n",
       "    </tr>\n",
       "    <tr>\n",
       "      <th>67554</th>\n",
       "      <td>T3/T4</td>\n",
       "      <td>Increasing medical team cohesion and leadershi...</td>\n",
       "      <td>Current national health care issues of afforda...</td>\n",
       "      <td>standards standards organization &amp; administration</td>\n",
       "      <td>Adult Clinical Competence Family Practice Feed...</td>\n",
       "      <td>0</td>\n",
       "    </tr>\n",
       "    <tr>\n",
       "      <th>69119</th>\n",
       "      <td>T3/T4</td>\n",
       "      <td>[New approach in the surgical treatment of mit...</td>\n",
       "      <td>Severe mitral regurgitation due to prolapse of...</td>\n",
       "      <td>methods pathology physiopathology pathology ph...</td>\n",
       "      <td>Clinical Trials as Topic Echocardiography, Tra...</td>\n",
       "      <td>0</td>\n",
       "    </tr>\n",
       "    <tr>\n",
       "      <th>20993</th>\n",
       "      <td>T0</td>\n",
       "      <td>STAT5 outcompetes STAT3 to regulate the expres...</td>\n",
       "      <td>Inappropriate activation of the transcription ...</td>\n",
       "      <td>metabolism genetics metabolism genetics metabo...</td>\n",
       "      <td>Acetylation Breast Breast Neoplasms Cell Line,...</td>\n",
       "      <td>1</td>\n",
       "    </tr>\n",
       "    <tr>\n",
       "      <th>67148</th>\n",
       "      <td>T3/T4</td>\n",
       "      <td>Triangulating data to improve care: case study.</td>\n",
       "      <td>The implementation of neonatal nursing indicat...</td>\n",
       "      <td>methods methods organization &amp; administration ...</td>\n",
       "      <td>Benchmarking England Health Plan Implementatio...</td>\n",
       "      <td>0</td>\n",
       "    </tr>\n",
       "    <tr>\n",
       "      <th>6725</th>\n",
       "      <td>T0</td>\n",
       "      <td>Interplay between TAp73 Protein and Selected A...</td>\n",
       "      <td>Unlike p53, which is mutated at a high rate in...</td>\n",
       "      <td>genetics biosynthesis genetics genetics metabo...</td>\n",
       "      <td>Cell Line, Tumor Cell Proliferation Cyclin D1 ...</td>\n",
       "      <td>1</td>\n",
       "    </tr>\n",
       "    <tr>\n",
       "      <th>33652</th>\n",
       "      <td>T0</td>\n",
       "      <td>Cell adhesion receptor GPR133 couples to Gs pr...</td>\n",
       "      <td>Adhesion G protein-coupled receptors (GPCR), w...</td>\n",
       "      <td>metabolism metabolism metabolism metabolism</td>\n",
       "      <td>Animals COS Cells Cell Adhesion Cell Adhesion ...</td>\n",
       "      <td>1</td>\n",
       "    </tr>\n",
       "  </tbody>\n",
       "</table>\n",
       "</div>"
      ],
      "text/plain": [
       "       label                                              title  \\\n",
       "83452  T3/T4  Validity and Reliability of the US National Ca...   \n",
       "29602     T0  Monospecific inhibitors show that both mannan-...   \n",
       "13691     T0  NdhP is an exclusive subunit of large complex ...   \n",
       "49017  T1/T2  Phase I pharmacokinetic study of S-1 granules ...   \n",
       "67554  T3/T4  Increasing medical team cohesion and leadershi...   \n",
       "69119  T3/T4  [New approach in the surgical treatment of mit...   \n",
       "20993     T0  STAT5 outcompetes STAT3 to regulate the expres...   \n",
       "67148  T3/T4    Triangulating data to improve care: case study.   \n",
       "6725      T0  Interplay between TAp73 Protein and Selected A...   \n",
       "33652     T0  Cell adhesion receptor GPR133 couples to Gs pr...   \n",
       "\n",
       "                                                abstract  \\\n",
       "83452  To integrate the patient perspective into adve...   \n",
       "29602  The lectin pathway is an antibody-independent ...   \n",
       "13691  Two major complexes of NADPH dehydrogenase (ND...   \n",
       "49017  We performed a pharmacokinetic phase I trial o...   \n",
       "67554  Current national health care issues of afforda...   \n",
       "69119  Severe mitral regurgitation due to prolapse of...   \n",
       "20993  Inappropriate activation of the transcription ...   \n",
       "67148  The implementation of neonatal nursing indicat...   \n",
       "6725   Unlike p53, which is mutated at a high rate in...   \n",
       "33652  Adhesion G protein-coupled receptors (GPCR), w...   \n",
       "\n",
       "                                         qualifier_terms  \\\n",
       "83452  classification adverse effects adverse effects...   \n",
       "29602  antagonists & inhibitors chemistry metabolism ...   \n",
       "13691  chemistry metabolism chemistry deficiency gene...   \n",
       "49017  administration & dosage pharmacokinetics thera...   \n",
       "67554  standards standards organization & administration   \n",
       "69119  methods pathology physiopathology pathology ph...   \n",
       "20993  metabolism genetics metabolism genetics metabo...   \n",
       "67148  methods methods organization & administration ...   \n",
       "6725   genetics biosynthesis genetics genetics metabo...   \n",
       "33652        metabolism metabolism metabolism metabolism   \n",
       "\n",
       "                                        descriptor_terms  boolean_label  \n",
       "83452  Adult Adverse Drug Reaction Reporting Systems ...              0  \n",
       "29602  Complement Pathway, Mannose-Binding Lectin Cry...              1  \n",
       "13691  Amino Acid Sequence Cell Respiration Electron ...              1  \n",
       "49017  Aged Antineoplastic Combined Chemotherapy Prot...              0  \n",
       "67554  Adult Clinical Competence Family Practice Feed...              0  \n",
       "69119  Clinical Trials as Topic Echocardiography, Tra...              0  \n",
       "20993  Acetylation Breast Breast Neoplasms Cell Line,...              1  \n",
       "67148  Benchmarking England Health Plan Implementatio...              0  \n",
       "6725   Cell Line, Tumor Cell Proliferation Cyclin D1 ...              1  \n",
       "33652  Animals COS Cells Cell Adhesion Cell Adhesion ...              1  "
      ]
     },
     "execution_count": 18,
     "metadata": {},
     "output_type": "execute_result"
    }
   ],
   "source": [
    "train1[0:10]"
   ]
  },
  {
   "cell_type": "code",
   "execution_count": 19,
   "metadata": {
    "collapsed": true
   },
   "outputs": [],
   "source": [
    "\"\"\"\n",
    "docprob takes two lists\n",
    "* docs: a list of documents, each of which is a list of sentences\n",
    "* models: the candidate word2vec models (each potential class)\n",
    "\n",
    "it returns the array of class probabilities.  Everything is done in-memory.\n",
    "\"\"\"\n",
    "\n",
    "def docprobsentences(docs, mods):\n",
    "    # score() takes a list [s] of sentences here; could also be a sentence generator\n",
    "    sentlist = [s for d in docs for s in d]\n",
    "    # the log likelihood of each sentence in this review under each w2v representation\n",
    "    llhd = np.array( [ m.score(sentlist, len(sentlist)) for m in mods ] )\n",
    "    # now exponentiate to get likelihoods, \n",
    "    lhd = np.exp(llhd - llhd.max(axis=0)) # subtract row max to avoid numeric overload\n",
    "    # normalize across models (stars) to get sentence-star probabilities\n",
    "    #all this transposing business does is make it so the total probability of a word \n",
    "    #   equals 1 between the 2 arrays (positive prob and negative).\n",
    "    #and the pandas data frame just puts everything into rows/columns format for easy viz\n",
    "    prob = pd.DataFrame( (lhd/lhd.sum(axis=0)).transpose() )\n",
    "    # and finally average the sentence probabilities to get the review probability\n",
    "    prob[\"doc\"] = [i for i,d in enumerate(docs) for s in d]\n",
    "    return prob"
   ]
  },
  {
   "cell_type": "code",
   "execution_count": 23,
   "metadata": {
    "collapsed": false
   },
   "outputs": [
    {
     "name": "stdout",
     "output_type": "stream",
     "text": [
      "Parsing sentences from training set\n",
      "Building Word2Vec model\n",
      "Parsing sentences from test set\n"
     ]
    },
    {
     "name": "stderr",
     "output_type": "stream",
     "text": [
      "/home/nlp-vm/anaconda2/lib/python2.7/site-packages/bs4/__init__.py:207: UserWarning: \"http://www.controlled-trials.com/isrctn/pf/24165302.\" looks like a URL. Beautiful Soup is not an HTTP client. You should probably use an HTTP client to get the document behind the URL, and feed that document to Beautiful Soup.\n",
      "  '\"%s\" looks like a URL. Beautiful Soup is not an HTTP client. You should probably use an HTTP client to get the document behind the URL, and feed that document to Beautiful Soup.' % markup)\n",
      "/home/nlp-vm/anaconda2/lib/python2.7/site-packages/bs4/__init__.py:207: UserWarning: \"http://www.fp7-improved.eu/\" looks like a URL. Beautiful Soup is not an HTTP client. You should probably use an HTTP client to get the document behind the URL, and feed that document to Beautiful Soup.\n",
      "  '\"%s\" looks like a URL. Beautiful Soup is not an HTTP client. You should probably use an HTTP client to get the document behind the URL, and feed that document to Beautiful Soup.' % markup)\n"
     ]
    },
    {
     "name": "stdout",
     "output_type": "stream",
     "text": [
      "scoring test set\n",
      "0:08:54\n"
     ]
    }
   ],
   "source": [
    "a = datetime.datetime.now().replace(microsecond=0)\n",
    "\n",
    "# ****** Split the labeled and unlabeled training sets into clean sentences\n",
    "#\n",
    "sentences_pos = []  # Initialize an empty list of sentences\n",
    "sentences_neg = []  # Initialize an empty list of sentences\n",
    "\n",
    "inxs_pos = np.where(train1[\"boolean_label\"] == 1)[0].tolist()\n",
    "inxs_neg = np.where(train1[\"boolean_label\"] == 0)[0].tolist()\n",
    "\n",
    "print \"Parsing sentences from training set\"\n",
    "for inx in inxs_pos:\n",
    "    review = train1[\"abstract\"].iloc[inx]\n",
    "    sentences_pos += KaggleWord2VecUtility.review_to_sentences(review, tokenizer)\n",
    "\n",
    "for inx in inxs_neg:\n",
    "    review = train1[\"abstract\"].iloc[inx]\n",
    "    sentences_neg += KaggleWord2VecUtility.review_to_sentences(review, tokenizer)    \n",
    "\n",
    "\n",
    "# ****** Split the labeled and unlabeled training sets into clean sentences\n",
    "#\n",
    "sentences = []  # Initialize an empty list of sentences\n",
    "docsTrain = []\n",
    "for review in train1[\"abstract\"]:\n",
    "    result = KaggleWord2VecUtility.review_to_sentences(review, tokenizer)\n",
    "    sentences += result\n",
    "    docsTrain.append(result)\n",
    "        \n",
    "        \n",
    "print \"Building Word2Vec model\"\n",
    "from gensim.models import Word2Vec\n",
    "import multiprocessing\n",
    "\n",
    "## create a w2v learner \n",
    "basemodel = Word2Vec(\n",
    "    workers=multiprocessing.cpu_count(), # use your cores\n",
    "    iter=3, # iter = sweeps of SGD through the data; more is better\n",
    "    hs=1, negative=0 # we only have scoring for the hierarchical softmax setup\n",
    "    )       \n",
    "basemodel.build_vocab(sentences) \n",
    "        \n",
    "from copy import deepcopy\n",
    "models = [deepcopy(basemodel) for i in range(2)]\n",
    "models[0].train(sentences_neg, total_examples=len(sentences_neg) )\n",
    "models[1].train(sentences_pos, total_examples=len(sentences_pos) )\n",
    "\n",
    "print \"Parsing sentences from test set\"\n",
    "# read in the test set as a list of a list of words\n",
    "docs = []\n",
    "for review in test1[\"abstract\"]:\n",
    "    docs.append(KaggleWord2VecUtility.review_to_sentences(review, tokenizer))\n",
    "\n",
    "print \"scoring test set\"\n",
    "# get the probs (note we give docprob our test set plus the models)\n",
    "#probs = docprob(docs,models).astype(object)\n",
    "probssentencesArticle = docprobsentences(docs,models).astype(object)\n",
    "\n",
    "probssentences_train = docprobsentences(docsTrain,models).astype(object)\n",
    "\n",
    "pickle.dump(probssentencesArticle, open('./pickled_objects/probssentencesJournalsDataset.p', 'wb'))\n",
    "pickle.dump(probssentences_train, open('./pickled_objects/probssentencesJournalsDataset_train.p', 'wb'))\n",
    "        \n",
    "b = datetime.datetime.now().replace(microsecond=0)\n",
    "print(b-a)"
   ]
  },
  {
   "cell_type": "code",
   "execution_count": 21,
   "metadata": {
    "collapsed": false
   },
   "outputs": [
    {
     "name": "stdout",
     "output_type": "stream",
     "text": [
      "(1541, 3)\n"
     ]
    }
   ],
   "source": [
    "print probssentencesArticle.shape"
   ]
  },
  {
   "cell_type": "code",
   "execution_count": 30,
   "metadata": {
    "collapsed": false
   },
   "outputs": [
    {
     "name": "stdout",
     "output_type": "stream",
     "text": [
      "177\n"
     ]
    }
   ],
   "source": [
    "#print probssentencesArticle\n",
    "print len(probssentencesArticle['doc'].unique())"
   ]
  },
  {
   "cell_type": "code",
   "execution_count": 29,
   "metadata": {
    "collapsed": true
   },
   "outputs": [],
   "source": [
    "pickle.dump(probssentencesArticle, open('./pickled_objects/probssentencesJournalsDataset.p', 'wb'))"
   ]
  },
  {
   "cell_type": "code",
   "execution_count": null,
   "metadata": {
    "collapsed": true
   },
   "outputs": [],
   "source": []
  },
  {
   "cell_type": "markdown",
   "metadata": {},
   "source": [
    "### Do the same for probssentences_train"
   ]
  },
  {
   "cell_type": "code",
   "execution_count": 31,
   "metadata": {
    "collapsed": true
   },
   "outputs": [],
   "source": [
    "# read in the training set as a list of a list of words\n",
    "docs_train = []\n",
    "for review in train1[\"abstract\"]:\n",
    "    docs_train.append(KaggleWord2VecUtility.review_to_sentences(review, tokenizer))"
   ]
  },
  {
   "cell_type": "code",
   "execution_count": 36,
   "metadata": {
    "collapsed": false
   },
   "outputs": [],
   "source": [
    "probssentences_train_Article = docprobsentences(docs_train,models).astype(object)"
   ]
  },
  {
   "cell_type": "code",
   "execution_count": 37,
   "metadata": {
    "collapsed": false
   },
   "outputs": [
    {
     "name": "stdout",
     "output_type": "stream",
     "text": [
      "(1507, 3)\n"
     ]
    }
   ],
   "source": [
    "print probssentences_train_Article.shape"
   ]
  },
  {
   "cell_type": "code",
   "execution_count": 40,
   "metadata": {
    "collapsed": false
   },
   "outputs": [
    {
     "name": "stdout",
     "output_type": "stream",
     "text": [
      "177\n"
     ]
    }
   ],
   "source": [
    "print len(probssentences_train_Article['doc'].unique())"
   ]
  },
  {
   "cell_type": "code",
   "execution_count": 42,
   "metadata": {
    "collapsed": false
   },
   "outputs": [],
   "source": [
    "pickle.dump(probssentences_train_Article, open('./pickled_objects/probssentences_train_Article.p', 'wb'))"
   ]
  },
  {
   "cell_type": "code",
   "execution_count": 43,
   "metadata": {
    "collapsed": true
   },
   "outputs": [],
   "source": [
    "pickle.dump(test1, open('./pickled_objects/articleTest1.p', 'wb'))"
   ]
  },
  {
   "cell_type": "code",
   "execution_count": 44,
   "metadata": {
    "collapsed": true
   },
   "outputs": [],
   "source": [
    "pickle.dump(train1, open('./pickled_objects/articleTrain1.p', 'wb'))"
   ]
  },
  {
   "cell_type": "code",
   "execution_count": 45,
   "metadata": {
    "collapsed": false
   },
   "outputs": [
    {
     "name": "stdout",
     "output_type": "stream",
     "text": [
      "(177, 7)\n",
      "(177, 7)\n"
     ]
    }
   ],
   "source": [
    "print train1.shape\n",
    "print test1.shape"
   ]
  },
  {
   "cell_type": "code",
   "execution_count": 47,
   "metadata": {
    "collapsed": false
   },
   "outputs": [
    {
     "data": {
      "text/html": [
       "<div>\n",
       "<table border=\"1\" class=\"dataframe\">\n",
       "  <thead>\n",
       "    <tr style=\"text-align: right;\">\n",
       "      <th></th>\n",
       "      <th>pmid</th>\n",
       "      <th>title</th>\n",
       "      <th>abstract</th>\n",
       "      <th>qualifier_terms</th>\n",
       "      <th>descriptor_terms</th>\n",
       "      <th>label</th>\n",
       "      <th>boolean_label</th>\n",
       "    </tr>\n",
       "  </thead>\n",
       "  <tbody>\n",
       "    <tr>\n",
       "      <th>324</th>\n",
       "      <td>24556849</td>\n",
       "      <td>Emergence of mild cognitive impairment in late...</td>\n",
       "      <td>It is difficult to reliably detect the earlies...</td>\n",
       "      <td>prevention &amp; control diagnosis etiology psycho...</td>\n",
       "      <td>Age Factors Alzheimer Disease Cognition Compar...</td>\n",
       "      <td>T3/T4</td>\n",
       "      <td>0</td>\n",
       "    </tr>\n",
       "    <tr>\n",
       "      <th>272</th>\n",
       "      <td>23688215</td>\n",
       "      <td>Recognition of famous names predicts cognitive...</td>\n",
       "      <td>The ability to recognize familiar people is im...</td>\n",
       "      <td>diagnosis physiopathology psychology physiopat...</td>\n",
       "      <td>Aged Aged, 80 and over Alzheimer Disease Brain...</td>\n",
       "      <td>T0</td>\n",
       "      <td>1</td>\n",
       "    </tr>\n",
       "    <tr>\n",
       "      <th>240</th>\n",
       "      <td>21702704</td>\n",
       "      <td>Examining the aging process through the stress...</td>\n",
       "      <td>The aging process is marked by a series of tra...</td>\n",
       "      <td>psychology psychology psychology physiopathology</td>\n",
       "      <td>Adaptation, Psychological Aged Aging Automobil...</td>\n",
       "      <td>TX</td>\n",
       "      <td>0</td>\n",
       "    </tr>\n",
       "    <tr>\n",
       "      <th>169</th>\n",
       "      <td>20461380</td>\n",
       "      <td>A first in human study of SB-743921, a kinesin...</td>\n",
       "      <td>To determine the maximum-tolerated dose (MTD),...</td>\n",
       "      <td>pharmacology therapeutic use pharmacology ther...</td>\n",
       "      <td>Adult Aged Aged, 80 and over Antineoplastic Ag...</td>\n",
       "      <td>T1/T2</td>\n",
       "      <td>0</td>\n",
       "    </tr>\n",
       "    <tr>\n",
       "      <th>158</th>\n",
       "      <td>21318565</td>\n",
       "      <td>A prospective open-label study of aripiprazole...</td>\n",
       "      <td>Fragile X syndrome (FXS) is the most common in...</td>\n",
       "      <td>drug effects administration &amp; dosage adverse e...</td>\n",
       "      <td>Adolescent Adult Aggression Antipsychotic Agen...</td>\n",
       "      <td>T1/T2</td>\n",
       "      <td>0</td>\n",
       "    </tr>\n",
       "    <tr>\n",
       "      <th>97</th>\n",
       "      <td>21106989</td>\n",
       "      <td>CP-690,550, a therapeutic agent, inhibits cyto...</td>\n",
       "      <td>The retrovirus, human T-cell-lymphotrophic vir...</td>\n",
       "      <td>drug effects metabolism pharmacology drug effe...</td>\n",
       "      <td>Adult Animals Cell Line, Tumor Cell Proliferat...</td>\n",
       "      <td>T0</td>\n",
       "      <td>1</td>\n",
       "    </tr>\n",
       "    <tr>\n",
       "      <th>210</th>\n",
       "      <td>22686210</td>\n",
       "      <td>The relevancy of community-based methods: usin...</td>\n",
       "      <td>The rates of obesity, diabetes, and heart dise...</td>\n",
       "      <td>epidemiology methods statistics &amp; numerical da...</td>\n",
       "      <td>Adult Alaska Community-Based Participatory Res...</td>\n",
       "      <td>T3/T4</td>\n",
       "      <td>0</td>\n",
       "    </tr>\n",
       "    <tr>\n",
       "      <th>121</th>\n",
       "      <td>24623140</td>\n",
       "      <td>Cytosolic phospholipase A2 protein as a novel ...</td>\n",
       "      <td>The objective of this study was to investigate...</td>\n",
       "      <td>administration &amp; dosage methods genetics admin...</td>\n",
       "      <td>Animals Butadienes Drug Delivery Systems Enzym...</td>\n",
       "      <td>T0</td>\n",
       "      <td>1</td>\n",
       "    </tr>\n",
       "    <tr>\n",
       "      <th>179</th>\n",
       "      <td>23756294</td>\n",
       "      <td>Utilization of a benchmarking database to info...</td>\n",
       "      <td>An integral part of NICHE (Nurses Improving Ca...</td>\n",
       "      <td>psychology</td>\n",
       "      <td>Aged Attitude of Health Personnel Benchmarking...</td>\n",
       "      <td>T3/T4</td>\n",
       "      <td>0</td>\n",
       "    </tr>\n",
       "    <tr>\n",
       "      <th>329</th>\n",
       "      <td>22613170</td>\n",
       "      <td>Frontal gray matter reduction after breast can...</td>\n",
       "      <td>Cognitive changes related to cancer and its tr...</td>\n",
       "      <td>adverse effects therapeutic use pathology drug...</td>\n",
       "      <td>Adult Aged Antineoplastic Combined Chemotherap...</td>\n",
       "      <td>T3/T4</td>\n",
       "      <td>0</td>\n",
       "    </tr>\n",
       "  </tbody>\n",
       "</table>\n",
       "</div>"
      ],
      "text/plain": [
       "         pmid                                              title  \\\n",
       "324  24556849  Emergence of mild cognitive impairment in late...   \n",
       "272  23688215  Recognition of famous names predicts cognitive...   \n",
       "240  21702704  Examining the aging process through the stress...   \n",
       "169  20461380  A first in human study of SB-743921, a kinesin...   \n",
       "158  21318565  A prospective open-label study of aripiprazole...   \n",
       "97   21106989  CP-690,550, a therapeutic agent, inhibits cyto...   \n",
       "210  22686210  The relevancy of community-based methods: usin...   \n",
       "121  24623140  Cytosolic phospholipase A2 protein as a novel ...   \n",
       "179  23756294  Utilization of a benchmarking database to info...   \n",
       "329  22613170  Frontal gray matter reduction after breast can...   \n",
       "\n",
       "                                              abstract  \\\n",
       "324  It is difficult to reliably detect the earlies...   \n",
       "272  The ability to recognize familiar people is im...   \n",
       "240  The aging process is marked by a series of tra...   \n",
       "169  To determine the maximum-tolerated dose (MTD),...   \n",
       "158  Fragile X syndrome (FXS) is the most common in...   \n",
       "97   The retrovirus, human T-cell-lymphotrophic vir...   \n",
       "210  The rates of obesity, diabetes, and heart dise...   \n",
       "121  The objective of this study was to investigate...   \n",
       "179  An integral part of NICHE (Nurses Improving Ca...   \n",
       "329  Cognitive changes related to cancer and its tr...   \n",
       "\n",
       "                                       qualifier_terms  \\\n",
       "324  prevention & control diagnosis etiology psycho...   \n",
       "272  diagnosis physiopathology psychology physiopat...   \n",
       "240   psychology psychology psychology physiopathology   \n",
       "169  pharmacology therapeutic use pharmacology ther...   \n",
       "158  drug effects administration & dosage adverse e...   \n",
       "97   drug effects metabolism pharmacology drug effe...   \n",
       "210  epidemiology methods statistics & numerical da...   \n",
       "121  administration & dosage methods genetics admin...   \n",
       "179                                         psychology   \n",
       "329  adverse effects therapeutic use pathology drug...   \n",
       "\n",
       "                                      descriptor_terms  label  boolean_label  \n",
       "324  Age Factors Alzheimer Disease Cognition Compar...  T3/T4              0  \n",
       "272  Aged Aged, 80 and over Alzheimer Disease Brain...     T0              1  \n",
       "240  Adaptation, Psychological Aged Aging Automobil...     TX              0  \n",
       "169  Adult Aged Aged, 80 and over Antineoplastic Ag...  T1/T2              0  \n",
       "158  Adolescent Adult Aggression Antipsychotic Agen...  T1/T2              0  \n",
       "97   Adult Animals Cell Line, Tumor Cell Proliferat...     T0              1  \n",
       "210  Adult Alaska Community-Based Participatory Res...  T3/T4              0  \n",
       "121  Animals Butadienes Drug Delivery Systems Enzym...     T0              1  \n",
       "179  Aged Attitude of Health Personnel Benchmarking...  T3/T4              0  \n",
       "329  Adult Aged Antineoplastic Combined Chemotherap...  T3/T4              0  "
      ]
     },
     "execution_count": 47,
     "metadata": {},
     "output_type": "execute_result"
    }
   ],
   "source": [
    "train1[0:10]"
   ]
  },
  {
   "cell_type": "code",
   "execution_count": null,
   "metadata": {
    "collapsed": true
   },
   "outputs": [],
   "source": []
  },
  {
   "cell_type": "code",
   "execution_count": null,
   "metadata": {
    "collapsed": true
   },
   "outputs": [],
   "source": []
  },
  {
   "cell_type": "code",
   "execution_count": null,
   "metadata": {
    "collapsed": true
   },
   "outputs": [],
   "source": []
  },
  {
   "cell_type": "code",
   "execution_count": null,
   "metadata": {
    "collapsed": true
   },
   "outputs": [],
   "source": []
  },
  {
   "cell_type": "code",
   "execution_count": null,
   "metadata": {
    "collapsed": true
   },
   "outputs": [],
   "source": []
  },
  {
   "cell_type": "markdown",
   "metadata": {},
   "source": [
    "### Kaggle Word2VecUtility"
   ]
  },
  {
   "cell_type": "code",
   "execution_count": 21,
   "metadata": {
    "collapsed": true
   },
   "outputs": [],
   "source": [
    "import re\n",
    "import nltk\n",
    "\n",
    "import pandas as pd\n",
    "import numpy as np\n",
    "\n",
    "from bs4 import BeautifulSoup\n",
    "from nltk.corpus import stopwords\n",
    "\n",
    "\n",
    "class KaggleWord2VecUtility(object):\n",
    "    \"\"\"KaggleWord2VecUtility is a utility class for processing raw HTML text into segments for further learning\"\"\"\n",
    "\n",
    "    @staticmethod\n",
    "    def review_to_wordlist( review, remove_stopwords=False ):\n",
    "        # Function to convert a document to a sequence of words,\n",
    "        # optionally removing stop words.  Returns a list of words.\n",
    "        #\n",
    "        # 1. Remove HTML\n",
    "        review_text = BeautifulSoup(review).get_text()\n",
    "        #\n",
    "        # 2. Remove non-letters\n",
    "        review_text = re.sub(\"[^a-zA-Z]\",\" \", review_text)\n",
    "        #\n",
    "        # 3. Convert words to lower case and split them\n",
    "        words = review_text.lower().split()\n",
    "        #\n",
    "        # 4. Optionally remove stop words (false by default)\n",
    "        if remove_stopwords:\n",
    "            stops = set(stopwords.words(\"english\"))\n",
    "            words = [w for w in words if not w in stops]\n",
    "        #\n",
    "        # 5. Return a list of words\n",
    "        return(words)\n",
    "    \n",
    "    @staticmethod\n",
    "    def review_to_words( review, remove_stopwords=False ):\n",
    "        # Function to convert a raw review to a string of words\n",
    "        # The input is a single string (a raw movie review), and \n",
    "        # the output is a single string (a preprocessed movie review)\n",
    "        #\n",
    "        # 1. Remove HTML\n",
    "        review_text = BeautifulSoup(review).get_text() \n",
    "        #\n",
    "        # 2. Remove non-letters        \n",
    "        review_text = re.sub(\"[^a-zA-Z]\", \" \", review_text) \n",
    "        #\n",
    "        # 3. Convert to lower case, split into individual words\n",
    "        words = review_text.lower().split()                             \n",
    "        #\n",
    "        # 4. Optionally remove stop words (false by default)\n",
    "        if remove_stopwords:\n",
    "            stops = set(stopwords.words(\"english\"))\n",
    "            words = [w for w in words if not w in stops]   \n",
    "        #\n",
    "        # 6. Join the words back into one string separated by space, \n",
    "        # and return the result.\n",
    "        return( \" \".join( words ))   \n",
    "\n",
    "    # Define a function to split a review into parsed sentences\n",
    "    @staticmethod\n",
    "    def review_to_sentences( review, tokenizer, remove_stopwords=False ):\n",
    "        # Function to split a review into parsed sentences. Returns a\n",
    "        # list of sentences, where each sentence is a list of words\n",
    "        #\n",
    "        # 1. Use the NLTK tokenizer to split the paragraph into sentences\n",
    "        raw_sentences = tokenizer.tokenize(review.decode('utf8').strip())\n",
    "        #\n",
    "        # 2. Loop over each sentence\n",
    "        sentences = []\n",
    "        for raw_sentence in raw_sentences:\n",
    "            # If a sentence is empty, skip it\n",
    "            if len(raw_sentence) > 0:\n",
    "                # Otherwise, call review_to_wordlist to get a list of words\n",
    "                sentences.append( KaggleWord2VecUtility.review_to_wordlist( raw_sentence, \\\n",
    "                  remove_stopwords ))\n",
    "        #\n",
    "        # Return the list of sentences (each sentence is a list of words,\n",
    "        # so this returns a list of lists\n",
    "        return sentences"
   ]
  }
 ],
 "metadata": {
  "kernelspec": {
   "display_name": "Python 2",
   "language": "python",
   "name": "python2"
  },
  "language_info": {
   "codemirror_mode": {
    "name": "ipython",
    "version": 2
   },
   "file_extension": ".py",
   "mimetype": "text/x-python",
   "name": "python",
   "nbconvert_exporter": "python",
   "pygments_lexer": "ipython2",
   "version": "2.7.11"
  }
 },
 "nbformat": 4,
 "nbformat_minor": 0
}
