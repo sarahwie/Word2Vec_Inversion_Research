{
 "cells": [
  {
   "cell_type": "code",
   "execution_count": 8,
   "metadata": {
    "collapsed": true
   },
   "outputs": [],
   "source": [
    "import pickle\n",
    "import sys\n",
    "import os\n",
    "import datetime\n",
    "\n",
    "import sklearn\n",
    "import pandas as pd\n",
    "import numpy as np\n",
    "from sklearn.cross_validation import StratifiedKFold\n",
    "from sklearn.feature_extraction.text import TfidfVectorizer\n",
    "from sklearn.multiclass import OneVsRestClassifier\n",
    "from sklearn.ensemble import RandomForestClassifier\n",
    "from sklearn.metrics import roc_auc_score\n",
    "from sklearn.metrics import roc_curve, auc\n",
    "from sklearn.preprocessing import label_binarize\n",
    "import matplotlib.pyplot as plt"
   ]
  },
  {
   "cell_type": "code",
   "execution_count": 9,
   "metadata": {
    "collapsed": false
   },
   "outputs": [],
   "source": [
    "# Read data from files\n",
    "df = pd.read_csv('Reviews.csv')"
   ]
  },
  {
   "cell_type": "code",
   "execution_count": 10,
   "metadata": {
    "collapsed": true
   },
   "outputs": [],
   "source": [
    "df.columns = ['Id', 'ProductId', 'UserId', \"ProfileName\", 'HelpfulnessNumerator', 'HelpfulnessDenominator', 'label', 'Time', 'title', 'abstract']"
   ]
  },
  {
   "cell_type": "code",
   "execution_count": 11,
   "metadata": {
    "collapsed": false
   },
   "outputs": [
    {
     "data": {
      "text/html": [
       "<div>\n",
       "<table border=\"1\" class=\"dataframe\">\n",
       "  <thead>\n",
       "    <tr style=\"text-align: right;\">\n",
       "      <th></th>\n",
       "      <th>Id</th>\n",
       "      <th>ProductId</th>\n",
       "      <th>UserId</th>\n",
       "      <th>ProfileName</th>\n",
       "      <th>HelpfulnessNumerator</th>\n",
       "      <th>HelpfulnessDenominator</th>\n",
       "      <th>label</th>\n",
       "      <th>Time</th>\n",
       "      <th>title</th>\n",
       "      <th>abstract</th>\n",
       "    </tr>\n",
       "  </thead>\n",
       "  <tbody>\n",
       "    <tr>\n",
       "      <th>0</th>\n",
       "      <td>1</td>\n",
       "      <td>B001E4KFG0</td>\n",
       "      <td>A3SGXH7AUHU8GW</td>\n",
       "      <td>delmartian</td>\n",
       "      <td>1</td>\n",
       "      <td>1</td>\n",
       "      <td>5</td>\n",
       "      <td>1303862400</td>\n",
       "      <td>Good Quality Dog Food</td>\n",
       "      <td>I have bought several of the Vitality canned d...</td>\n",
       "    </tr>\n",
       "    <tr>\n",
       "      <th>1</th>\n",
       "      <td>2</td>\n",
       "      <td>B00813GRG4</td>\n",
       "      <td>A1D87F6ZCVE5NK</td>\n",
       "      <td>dll pa</td>\n",
       "      <td>0</td>\n",
       "      <td>0</td>\n",
       "      <td>1</td>\n",
       "      <td>1346976000</td>\n",
       "      <td>Not as Advertised</td>\n",
       "      <td>Product arrived labeled as Jumbo Salted Peanut...</td>\n",
       "    </tr>\n",
       "  </tbody>\n",
       "</table>\n",
       "</div>"
      ],
      "text/plain": [
       "   Id   ProductId          UserId ProfileName  HelpfulnessNumerator  \\\n",
       "0   1  B001E4KFG0  A3SGXH7AUHU8GW  delmartian                     1   \n",
       "1   2  B00813GRG4  A1D87F6ZCVE5NK      dll pa                     0   \n",
       "\n",
       "   HelpfulnessDenominator  label        Time                  title  \\\n",
       "0                       1      5  1303862400  Good Quality Dog Food   \n",
       "1                       0      1  1346976000      Not as Advertised   \n",
       "\n",
       "                                            abstract  \n",
       "0  I have bought several of the Vitality canned d...  \n",
       "1  Product arrived labeled as Jumbo Salted Peanut...  "
      ]
     },
     "execution_count": 11,
     "metadata": {},
     "output_type": "execute_result"
    }
   ],
   "source": [
    "df[0:2]"
   ]
  },
  {
   "cell_type": "code",
   "execution_count": 12,
   "metadata": {
    "collapsed": true
   },
   "outputs": [],
   "source": [
    "#randomly subset those with label 5 to be more similar to actual amount (*** and most importantly to reduce size of dataset)\n",
    "df_5 = df.loc[df['label'] == 5]\n",
    "df_5 = df_5.sample(n=50000, random_state=10)\n",
    "print len(df_5)"
   ]
  },
  {
   "cell_type": "code",
   "execution_count": 13,
   "metadata": {
    "collapsed": false
   },
   "outputs": [
    {
     "name": "stdout",
     "output_type": "stream",
     "text": [
      "205332\n"
     ]
    }
   ],
   "source": [
    "print len(df.loc[df['label'] != 5])\n",
    "df_allElse = df.loc[df['label'] != 5]"
   ]
  },
  {
   "cell_type": "code",
   "execution_count": 17,
   "metadata": {
    "collapsed": false
   },
   "outputs": [
    {
     "name": "stdout",
     "output_type": "stream",
     "text": [
      "255332\n"
     ]
    }
   ],
   "source": [
    "df = pd.concat([df_allElse, df_5])\n",
    "print len(df)"
   ]
  },
  {
   "cell_type": "markdown",
   "metadata": {},
   "source": [
    "### 5-fold cross validation to create bags of words and random forests"
   ]
  },
  {
   "cell_type": "code",
   "execution_count": 18,
   "metadata": {
    "collapsed": false
   },
   "outputs": [
    {
     "name": "stdout",
     "output_type": "stream",
     "text": [
      "('ROUND', 1)\n",
      "Cleaning and parsing the training set abstracts...\n",
      "\n",
      "204265\n",
      "Creating the bag of words...\n",
      "\n",
      "Cleaning and parsing the test set abstracts...\n",
      "\n",
      "Adding tfidf weights and converting to Bag of Words...\n",
      "Training the random forest...\n",
      "Using the random forest to make sentiment label predictions...\n",
      "Scoring the test set\n",
      "{0: 0.7642716318468824, 1: 0.69189420071649144, 2: 0.69394892572259159, 3: 0.71699524681116911, 4: 0.65852990965982416}\n",
      "('ROUND', 2)\n",
      "Cleaning and parsing the training set abstracts...\n",
      "\n",
      "204265\n",
      "Creating the bag of words...\n",
      "\n",
      "Cleaning and parsing the test set abstracts...\n",
      "\n",
      "Adding tfidf weights and converting to Bag of Words...\n",
      "Training the random forest...\n",
      "Using the random forest to make sentiment label predictions...\n",
      "Scoring the test set\n",
      "{0: 0.76087296903290735, 1: 0.69351193328206606, 2: 0.69987059551621256, 3: 0.71802271254118355, 4: 0.65404809701219946}\n",
      "('ROUND', 3)\n",
      "Cleaning and parsing the training set abstracts...\n",
      "\n",
      "204265\n",
      "Creating the bag of words...\n",
      "\n",
      "Cleaning and parsing the test set abstracts...\n",
      "\n",
      "Adding tfidf weights and converting to Bag of Words...\n",
      "Training the random forest...\n",
      "Using the random forest to make sentiment label predictions...\n",
      "Scoring the test set\n",
      "{0: 0.76502697203240566, 1: 0.69090395229756385, 2: 0.69638789443056937, 3: 0.71828024927489653, 4: 0.65515555920812329}\n",
      "('ROUND', 4)\n",
      "Cleaning and parsing the training set abstracts...\n",
      "\n",
      "204266\n",
      "Creating the bag of words...\n",
      "\n",
      "Cleaning and parsing the test set abstracts...\n",
      "\n",
      "Adding tfidf weights and converting to Bag of Words...\n",
      "Training the random forest...\n",
      "Using the random forest to make sentiment label predictions...\n",
      "Scoring the test set\n",
      "{0: 0.75965174441189387, 1: 0.69233625183866643, 2: 0.69093540367879425, 3: 0.72016341674842943, 4: 0.65552620659426297}\n",
      "('ROUND', 5)\n",
      "Cleaning and parsing the training set abstracts...\n",
      "\n",
      "204267\n",
      "Creating the bag of words...\n",
      "\n",
      "Cleaning and parsing the test set abstracts...\n",
      "\n",
      "Adding tfidf weights and converting to Bag of Words...\n",
      "Training the random forest...\n",
      "Using the random forest to make sentiment label predictions...\n",
      "Scoring the test set\n",
      "{0: 0.76696872326757548, 1: 0.69596911114363447, 2: 0.69297528377347761, 3: 0.71800105733181729, 4: 0.65294444173870703}\n",
      "('average of Score 1 model:', 0.76335840811833289)\n",
      "('average of Score 2 model:', 0.6929230898556844)\n",
      "('average of Score 3 model:', 0.69482362062432912)\n",
      "('average of Score 4 model:', 0.71829253654149916)\n",
      "('average of Score 5 model:', 0.65524084284262341)\n",
      "\n",
      "('average across all models:', 0.70492769959649393)\n",
      "6:56:13\n"
     ]
    }
   ],
   "source": [
    "a = datetime.datetime.now().replace(microsecond=0)\n",
    "\n",
    "y = df['label'].values\n",
    "skf = StratifiedKFold(y, n_folds=5, shuffle=True, random_state=10)\n",
    "\n",
    "#if we want to set max features or not for the BOWs\n",
    "maxF = 5000\n",
    "\n",
    "j = 1\n",
    "avg = []\n",
    "avg1 = []\n",
    "avg2 = []\n",
    "avg3 = []\n",
    "avg4 = []\n",
    "avg5 = []\n",
    "for train_index, test_index in skf:\n",
    "\n",
    "    print(\"ROUND\", j)\n",
    "    j = j + 1\n",
    "    #use the indexes to subset the df pandas dataframe\n",
    "    train1, test1 = df.iloc[train_index], df.iloc[test_index]\n",
    "\n",
    "    print \"Cleaning and parsing the training set abstracts...\\n\"\n",
    "    # Initialize an empty list to hold the clean reviews\n",
    "    clean_train_reviews = []\n",
    "\n",
    "    # Loop over each review; create an index i that goes from 0 to the length\n",
    "    # of the pandas df column\n",
    "    for i in range(train1[\"abstract\"].size):\n",
    "        # Call our function for each one, and add the result to the list of clean reviews\n",
    "        words = KaggleWord2VecUtility.review_to_words( train1[\"abstract\"].iloc[i])\n",
    "        clean_train_reviews.append(words)\n",
    "\n",
    "    print len(clean_train_reviews)\n",
    "\n",
    "    #with tfidf word weighting\n",
    "    #uses L2 norm by default\n",
    "    print \"Creating the bag of words...\\n\"\n",
    "\n",
    "    # Initialize the \"TfidfVectorizer\" object, which is scikit-learn's\n",
    "    # bag of words tool.  \n",
    "    vectorizer = TfidfVectorizer(analyzer = \"word\",   \\\n",
    "                             tokenizer = None,    \\\n",
    "                             preprocessor = None, \\\n",
    "                            #already removed stopwords when preprocessing reviews into words\n",
    "                             stop_words = None,\n",
    "                            max_features = maxF)\n",
    "\n",
    "    # fit_transform() does two functions: First, it fits the model\n",
    "    # and learns the vocabulary; second, it transforms our training data\n",
    "    # into feature vectors. The input to fit_transform should be a list of \n",
    "    # strings.\n",
    "    train_data_features = vectorizer.fit_transform(clean_train_reviews)\n",
    "\n",
    "    # Numpy arrays are easy to work with, so convert the result to an \n",
    "    # array\n",
    "    train_data_features = train_data_features.toarray()\n",
    "\n",
    "    #Moving on to test set...\n",
    "    # Create an empty list and append the clean reviews one by one\n",
    "    clean_test_reviews = [] \n",
    "\n",
    "    print \"Cleaning and parsing the test set abstracts...\\n\"\n",
    "    for i in range(test1[\"abstract\"].size):    \n",
    "        words = KaggleWord2VecUtility.review_to_words( test1[\"abstract\"].iloc[i])\n",
    "        clean_test_reviews.append(words)\n",
    "\n",
    "    print \"Adding tfidf weights and converting to Bag of Words...\"\n",
    "    # Get a bag of words for the test set, and convert to a numpy array\n",
    "    test_data_features = vectorizer.transform(clean_test_reviews)\n",
    "    test_data_features = test_data_features.toarray()\n",
    "\n",
    "    #------------------------------------------------------------------------------------------------------------    \n",
    "    print \"Training the random forest...\"\n",
    "\n",
    "    #binarize labels\n",
    "    x = label_binarize(train1['label'], classes=[1,2,3,4,5])\n",
    "    n_classes = x.shape[1]\n",
    "\n",
    "    x_test = label_binarize(test1['label'], classes=[1,2,3,4,5])\n",
    "\n",
    "    # Initialize a Random Forest classifier with 100 trees\n",
    "    forest = OneVsRestClassifier(RandomForestClassifier(n_estimators = 100, max_depth=1000, n_jobs=-1))\n",
    "\n",
    "    # Fit the forest to the training set, using the bag of words as \n",
    "    # features and the sentiment labels as the response variable\n",
    "    #\n",
    "    # This may take a few minutes to run\n",
    "    forest = forest.fit( train_data_features, x )\n",
    "\n",
    "    print \"Using the random forest to make sentiment label predictions...\"\n",
    "    result = forest.predict(test_data_features)\n",
    "\n",
    "    print \"Scoring the test set\"\n",
    "\n",
    "    # Compute ROC curve and ROC area for each class\n",
    "    fpr = dict()\n",
    "    tpr = dict()\n",
    "    roc_auc = dict()\n",
    "    for i in range(n_classes):\n",
    "        fpr[i], tpr[i], _ = roc_curve(x_test[:, i], result[:, i])\n",
    "        roc_auc[i] = auc(fpr[i], tpr[i])\n",
    "\n",
    "    print roc_auc\n",
    "\n",
    "    avg1.append(roc_auc[0])\n",
    "    avg2.append(roc_auc[1])\n",
    "    avg3.append(roc_auc[2])\n",
    "    avg4.append(roc_auc[3])\n",
    "    avg5.append(roc_auc[4])\n",
    "\n",
    "    avg.append(roc_auc[0])\n",
    "    avg.append(roc_auc[1])\n",
    "    avg.append(roc_auc[2])\n",
    "    avg.append(roc_auc[3])\n",
    "    avg.append(roc_auc[4])\n",
    "    \n",
    "print(\"average of Score 1 model:\", sum(avg1)/float(len(avg1)))\n",
    "print(\"average of Score 2 model:\", sum(avg2)/float(len(avg2)))\n",
    "print(\"average of Score 3 model:\", sum(avg3)/float(len(avg3)))\n",
    "print(\"average of Score 4 model:\", sum(avg4)/float(len(avg4)))\n",
    "print(\"average of Score 5 model:\", sum(avg5)/float(len(avg5)))\n",
    "print \"\"\n",
    "print(\"average across all models:\", sum(avg)/float(len(avg)))\n",
    "\n",
    "b = datetime.datetime.now().replace(microsecond=0)\n",
    "print(b-a)"
   ]
  },
  {
   "cell_type": "code",
   "execution_count": null,
   "metadata": {
    "collapsed": true
   },
   "outputs": [],
   "source": []
  },
  {
   "cell_type": "code",
   "execution_count": null,
   "metadata": {
    "collapsed": true
   },
   "outputs": [],
   "source": []
  },
  {
   "cell_type": "code",
   "execution_count": 16,
   "metadata": {
    "collapsed": true
   },
   "outputs": [],
   "source": [
    "import re\n",
    "import nltk\n",
    "\n",
    "import pandas as pd\n",
    "import numpy as np\n",
    "\n",
    "from bs4 import BeautifulSoup\n",
    "from nltk.corpus import stopwords\n",
    "\n",
    "from nltk import PorterStemmer\n",
    "\n",
    "class KaggleWord2VecUtility(object):\n",
    "    \"\"\"KaggleWord2VecUtility is a utility class for processing raw HTML text into segments for further learning\"\"\"\n",
    "\n",
    "    @staticmethod\n",
    "    def review_to_wordlist( review, remove_stopwords=False ):\n",
    "        # Function to convert a document to a sequence of words,\n",
    "        # optionally removing stop words.  Returns a list of words.\n",
    "        #\n",
    "        # 1. Remove HTML\n",
    "        review_text = BeautifulSoup(review).get_text()\n",
    "        #\n",
    "        # 2. Remove non-letters\n",
    "        review_text = re.sub(\"[^a-zA-Z]\",\" \", review_text)\n",
    "        #\n",
    "        # 3. Convert words to lower case and split them\n",
    "        words = review_text.lower().split()\n",
    "        #\n",
    "        # 4. Optionally remove stop words (false by default)\n",
    "        if remove_stopwords:\n",
    "            stops = set(stopwords.words(\"english\"))\n",
    "            words = [w for w in words if not w in stops]\n",
    "        #\n",
    "        # 5. Return a list of words\n",
    "        return(words)\n",
    "    \n",
    "    @staticmethod\n",
    "    def review_to_words( review, remove_stopwords=False, stemmer=False ):\n",
    "        # Function to convert a raw review to a string of words\n",
    "        # The input is a single string (a raw movie review), and \n",
    "        # the output is a single string (a preprocessed movie review)\n",
    "        #\n",
    "        # 1. Remove HTML\n",
    "        review_text = BeautifulSoup(review).get_text() \n",
    "        #\n",
    "        # 2. Remove non-letters        \n",
    "        review_text = re.sub(\"[^a-zA-Z]\", \" \", review_text) \n",
    "        #\n",
    "        # 3. Convert to lower case, split into individual words\n",
    "        words = review_text.lower().split()                             \n",
    "        #\n",
    "        # 4. Optionally remove stop words (false by default)\n",
    "        if remove_stopwords:\n",
    "            stops = set(stopwords.words(\"english\"))\n",
    "            words = [w for w in words if not w in stops]   \n",
    "            \n",
    "        if stemmer:\n",
    "            words = [PorterStemmer().stem_word(w) for w in words]\n",
    "        #\n",
    "        # 6. Join the words back into one string separated by space, \n",
    "        # and return the result.\n",
    "        return( \" \".join( words ))   \n",
    "\n",
    "    # Define a function to split a review into parsed sentences\n",
    "    @staticmethod\n",
    "    def review_to_sentences( review, tokenizer, remove_stopwords=False ):\n",
    "        # Function to split a review into parsed sentences. Returns a\n",
    "        # list of sentences, where each sentence is a list of words\n",
    "        #\n",
    "        # 1. Use the NLTK tokenizer to split the paragraph into sentences\n",
    "        raw_sentences = tokenizer.tokenize(review.decode('utf8').strip())\n",
    "        #\n",
    "        # 2. Loop over each sentence\n",
    "        sentences = []\n",
    "        for raw_sentence in raw_sentences:\n",
    "            # If a sentence is empty, skip it\n",
    "            if len(raw_sentence) > 0:\n",
    "                # Otherwise, call review_to_wordlist to get a list of words\n",
    "                sentences.append( KaggleWord2VecUtility.review_to_wordlist( raw_sentence, \\\n",
    "                  remove_stopwords ))\n",
    "        #\n",
    "        # Return the list of sentences (each sentence is a list of words,\n",
    "        # so this returns a list of lists\n",
    "        return sentences"
   ]
  },
  {
   "cell_type": "code",
   "execution_count": null,
   "metadata": {
    "collapsed": true
   },
   "outputs": [],
   "source": []
  },
  {
   "cell_type": "code",
   "execution_count": null,
   "metadata": {
    "collapsed": true
   },
   "outputs": [],
   "source": []
  },
  {
   "cell_type": "code",
   "execution_count": null,
   "metadata": {
    "collapsed": true
   },
   "outputs": [],
   "source": []
  },
  {
   "cell_type": "code",
   "execution_count": null,
   "metadata": {
    "collapsed": true
   },
   "outputs": [],
   "source": []
  },
  {
   "cell_type": "code",
   "execution_count": null,
   "metadata": {
    "collapsed": true
   },
   "outputs": [],
   "source": []
  }
 ],
 "metadata": {
  "anaconda-cloud": {},
  "kernelspec": {
   "display_name": "Python [default]",
   "language": "python",
   "name": "python2"
  },
  "language_info": {
   "codemirror_mode": {
    "name": "ipython",
    "version": 2
   },
   "file_extension": ".py",
   "mimetype": "text/x-python",
   "name": "python",
   "nbconvert_exporter": "python",
   "pygments_lexer": "ipython2",
   "version": "2.7.12"
  }
 },
 "nbformat": 4,
 "nbformat_minor": 0
}
