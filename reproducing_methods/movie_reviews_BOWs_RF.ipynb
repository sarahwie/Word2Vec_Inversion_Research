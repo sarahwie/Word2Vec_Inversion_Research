{
 "cells": [
  {
   "cell_type": "code",
   "execution_count": 2,
   "metadata": {
    "collapsed": true
   },
   "outputs": [],
   "source": [
    "import pickle\n",
    "import sys\n",
    "import os\n",
    "import datetime\n",
    "\n",
    "import sklearn\n",
    "import pandas as pd\n",
    "import numpy as np\n",
    "from sklearn.cross_validation import StratifiedKFold\n",
    "from sklearn.feature_extraction.text import TfidfVectorizer\n",
    "from sklearn.multiclass import OneVsRestClassifier\n",
    "from sklearn.ensemble import RandomForestClassifier\n",
    "from sklearn.metrics import roc_auc_score\n",
    "from sklearn.metrics import roc_curve, auc\n",
    "from sklearn.preprocessing import label_binarize\n",
    "import matplotlib.pyplot as plt"
   ]
  },
  {
   "cell_type": "code",
   "execution_count": 3,
   "metadata": {
    "collapsed": false
   },
   "outputs": [],
   "source": [
    "# Read data from files\n",
    "df = pd.read_csv( 'labeledTrainData.tsv', header=0, delimiter=\"\\t\", quoting=3 )"
   ]
  },
  {
   "cell_type": "code",
   "execution_count": 4,
   "metadata": {
    "collapsed": true
   },
   "outputs": [],
   "source": [
    "df.columns = ['id', 'boolean_label', 'abstract']"
   ]
  },
  {
   "cell_type": "code",
   "execution_count": 5,
   "metadata": {
    "collapsed": false
   },
   "outputs": [
    {
     "data": {
      "text/html": [
       "<div>\n",
       "<table border=\"1\" class=\"dataframe\">\n",
       "  <thead>\n",
       "    <tr style=\"text-align: right;\">\n",
       "      <th></th>\n",
       "      <th>id</th>\n",
       "      <th>boolean_label</th>\n",
       "      <th>abstract</th>\n",
       "    </tr>\n",
       "  </thead>\n",
       "  <tbody>\n",
       "    <tr>\n",
       "      <th>0</th>\n",
       "      <td>\"5814_8\"</td>\n",
       "      <td>1</td>\n",
       "      <td>\"With all this stuff going down at the moment ...</td>\n",
       "    </tr>\n",
       "    <tr>\n",
       "      <th>1</th>\n",
       "      <td>\"2381_9\"</td>\n",
       "      <td>1</td>\n",
       "      <td>\"\\\"The Classic War of the Worlds\\\" by Timothy ...</td>\n",
       "    </tr>\n",
       "  </tbody>\n",
       "</table>\n",
       "</div>"
      ],
      "text/plain": [
       "         id  boolean_label                                           abstract\n",
       "0  \"5814_8\"              1  \"With all this stuff going down at the moment ...\n",
       "1  \"2381_9\"              1  \"\\\"The Classic War of the Worlds\\\" by Timothy ..."
      ]
     },
     "execution_count": 5,
     "metadata": {},
     "output_type": "execute_result"
    }
   ],
   "source": [
    "df[0:2]"
   ]
  },
  {
   "cell_type": "code",
   "execution_count": 8,
   "metadata": {
    "collapsed": false
   },
   "outputs": [
    {
     "name": "stdout",
     "output_type": "stream",
     "text": [
      "('ROUND', 1)\n",
      "Cleaning and parsing the training set abstracts...\n",
      "\n"
     ]
    },
    {
     "name": "stderr",
     "output_type": "stream",
     "text": [
      "/home/sarahwie/anaconda2/lib/python2.7/site-packages/bs4/__init__.py:166: UserWarning: No parser was explicitly specified, so I'm using the best available HTML parser for this system (\"lxml\"). This usually isn't a problem, but if you run this code on another system, or in a different virtual environment, it may use a different parser and behave differently.\n",
      "\n",
      "To get rid of this warning, change this:\n",
      "\n",
      " BeautifulSoup([your markup])\n",
      "\n",
      "to this:\n",
      "\n",
      " BeautifulSoup([your markup], \"lxml\")\n",
      "\n",
      "  markup_type=markup_type))\n"
     ]
    },
    {
     "name": "stdout",
     "output_type": "stream",
     "text": [
      "20000\n",
      "Creating the bag of words...\n",
      "\n",
      "Cleaning and parsing the test set abstracts...\n",
      "\n",
      "Adding tfidf weights and converting to Bag of Words...\n",
      "Training the random forest...\n",
      "Using the random forest to make sentiment label predictions...\n",
      "Scoring the test set\n",
      "0.836\n",
      "('ROUND', 2)\n",
      "Cleaning and parsing the training set abstracts...\n",
      "\n",
      "20000\n",
      "Creating the bag of words...\n",
      "\n",
      "Cleaning and parsing the test set abstracts...\n",
      "\n",
      "Adding tfidf weights and converting to Bag of Words...\n",
      "Training the random forest...\n",
      "Using the random forest to make sentiment label predictions...\n",
      "Scoring the test set\n",
      "0.8358\n",
      "('ROUND', 3)\n",
      "Cleaning and parsing the training set abstracts...\n",
      "\n",
      "20000\n",
      "Creating the bag of words...\n",
      "\n",
      "Cleaning and parsing the test set abstracts...\n",
      "\n",
      "Adding tfidf weights and converting to Bag of Words...\n",
      "Training the random forest...\n",
      "Using the random forest to make sentiment label predictions...\n",
      "Scoring the test set\n",
      "0.8354\n",
      "('ROUND', 4)\n",
      "Cleaning and parsing the training set abstracts...\n",
      "\n",
      "20000\n",
      "Creating the bag of words...\n",
      "\n",
      "Cleaning and parsing the test set abstracts...\n",
      "\n",
      "Adding tfidf weights and converting to Bag of Words...\n",
      "Training the random forest...\n",
      "Using the random forest to make sentiment label predictions...\n",
      "Scoring the test set\n",
      "0.843\n",
      "('ROUND', 5)\n",
      "Cleaning and parsing the training set abstracts...\n",
      "\n",
      "20000\n",
      "Creating the bag of words...\n",
      "\n",
      "Cleaning and parsing the test set abstracts...\n",
      "\n",
      "Adding tfidf weights and converting to Bag of Words...\n",
      "Training the random forest...\n",
      "Using the random forest to make sentiment label predictions...\n",
      "Scoring the test set\n",
      "0.8394\n",
      "('average:', 0.83792000000000011)\n",
      "0:02:53\n"
     ]
    }
   ],
   "source": [
    "a = datetime.datetime.now().replace(microsecond=0)\n",
    "\n",
    "y = df['boolean_label'].values\n",
    "skf = StratifiedKFold(y, n_folds=5, shuffle=True, random_state=10)\n",
    "\n",
    "#if we want to set max features or not for the BOWs\n",
    "maxF = 5000\n",
    "\n",
    "j = 1\n",
    "avg = []\n",
    "for train_index, test_index in skf:\n",
    "\n",
    "    print(\"ROUND\", j)\n",
    "    j = j + 1\n",
    "    #use the indexes to subset the df pandas dataframe\n",
    "    train1, test1 = df.iloc[train_index], df.iloc[test_index]\n",
    "\n",
    "    print \"Cleaning and parsing the training set abstracts...\\n\"\n",
    "    # Initialize an empty list to hold the clean reviews\n",
    "    clean_train_reviews = []\n",
    "\n",
    "    # Loop over each review; create an index i that goes from 0 to the length\n",
    "    # of the pandas df column\n",
    "    for i in range(train1[\"abstract\"].size):\n",
    "        # Call our function for each one, and add the result to the list of clean reviews\n",
    "        words = KaggleWord2VecUtility.review_to_words( train1[\"abstract\"].iloc[i])\n",
    "        clean_train_reviews.append(words)\n",
    "\n",
    "    print len(clean_train_reviews)\n",
    "\n",
    "    #with tfidf word weighting\n",
    "    #uses L2 norm by default\n",
    "    print \"Creating the bag of words...\\n\"\n",
    "\n",
    "    # Initialize the \"TfidfVectorizer\" object, which is scikit-learn's\n",
    "    # bag of words tool.  \n",
    "    vectorizer = TfidfVectorizer(analyzer = \"word\",   \\\n",
    "                             tokenizer = None,    \\\n",
    "                             preprocessor = None, \\\n",
    "                            #already removed stopwords when preprocessing reviews into words\n",
    "                             stop_words = None,\n",
    "                            max_features = maxF)\n",
    "\n",
    "    # fit_transform() does two functions: First, it fits the model\n",
    "    # and learns the vocabulary; second, it transforms our training data\n",
    "    # into feature vectors. The input to fit_transform should be a list of \n",
    "    # strings.\n",
    "    train_data_features = vectorizer.fit_transform(clean_train_reviews)\n",
    "\n",
    "    # Numpy arrays are easy to work with, so convert the result to an \n",
    "    # array\n",
    "    train_data_features = train_data_features.toarray()\n",
    "\n",
    "    #Moving on to test set...\n",
    "    # Create an empty list and append the clean reviews one by one\n",
    "    clean_test_reviews = [] \n",
    "\n",
    "    print \"Cleaning and parsing the test set abstracts...\\n\"\n",
    "    for i in range(test1[\"abstract\"].size):    \n",
    "        words = KaggleWord2VecUtility.review_to_words( test1[\"abstract\"].iloc[i])\n",
    "        clean_test_reviews.append(words)\n",
    "\n",
    "    print \"Adding tfidf weights and converting to Bag of Words...\"\n",
    "    # Get a bag of words for the test set, and convert to a numpy array\n",
    "    test_data_features = vectorizer.transform(clean_test_reviews)\n",
    "    test_data_features = test_data_features.toarray()\n",
    "\n",
    "    #------------------------------------------------------------------------------------------------------------    \n",
    "    print \"Training the random forest...\"\n",
    "\n",
    "    # Initialize a Random Forest classifier with 100 trees\n",
    "    forest = RandomForestClassifier(n_estimators = 100, max_depth=1000, n_jobs=-1)\n",
    "\n",
    "    # Fit the forest to the training set, using the bag of words as \n",
    "    # features and the sentiment labels as the response variable\n",
    "    #\n",
    "    # This may take a few minutes to run\n",
    "    forest = forest.fit( train_data_features, train1['boolean_label'])\n",
    "\n",
    "    print \"Using the random forest to make sentiment label predictions...\"\n",
    "    result = forest.predict(test_data_features)\n",
    "\n",
    "    print \"Scoring the test set\"\n",
    "\n",
    "    roc_auc = roc_auc_score(test1[\"boolean_label\"], result)\n",
    "    \n",
    "    print roc_auc\n",
    "\n",
    "    avg.append(roc_auc)\n",
    "\n",
    "print(\"average:\", sum(avg)/float(len(avg)))\n",
    "\n",
    "b = datetime.datetime.now().replace(microsecond=0)\n",
    "print(b-a)"
   ]
  },
  {
   "cell_type": "code",
   "execution_count": null,
   "metadata": {
    "collapsed": true
   },
   "outputs": [],
   "source": []
  },
  {
   "cell_type": "code",
   "execution_count": null,
   "metadata": {
    "collapsed": true
   },
   "outputs": [],
   "source": []
  },
  {
   "cell_type": "code",
   "execution_count": 7,
   "metadata": {
    "collapsed": true
   },
   "outputs": [],
   "source": [
    "import re\n",
    "import nltk\n",
    "\n",
    "import pandas as pd\n",
    "import numpy as np\n",
    "\n",
    "from bs4 import BeautifulSoup\n",
    "from nltk.corpus import stopwords\n",
    "\n",
    "from nltk import PorterStemmer\n",
    "\n",
    "class KaggleWord2VecUtility(object):\n",
    "    \"\"\"KaggleWord2VecUtility is a utility class for processing raw HTML text into segments for further learning\"\"\"\n",
    "\n",
    "    @staticmethod\n",
    "    def review_to_wordlist( review, remove_stopwords=False ):\n",
    "        # Function to convert a document to a sequence of words,\n",
    "        # optionally removing stop words.  Returns a list of words.\n",
    "        #\n",
    "        # 1. Remove HTML\n",
    "        review_text = BeautifulSoup(review).get_text()\n",
    "        #\n",
    "        # 2. Remove non-letters\n",
    "        review_text = re.sub(\"[^a-zA-Z]\",\" \", review_text)\n",
    "        #\n",
    "        # 3. Convert words to lower case and split them\n",
    "        words = review_text.lower().split()\n",
    "        #\n",
    "        # 4. Optionally remove stop words (false by default)\n",
    "        if remove_stopwords:\n",
    "            stops = set(stopwords.words(\"english\"))\n",
    "            words = [w for w in words if not w in stops]\n",
    "        #\n",
    "        # 5. Return a list of words\n",
    "        return(words)\n",
    "    \n",
    "    @staticmethod\n",
    "    def review_to_words( review, remove_stopwords=False, stemmer=False ):\n",
    "        # Function to convert a raw review to a string of words\n",
    "        # The input is a single string (a raw movie review), and \n",
    "        # the output is a single string (a preprocessed movie review)\n",
    "        #\n",
    "        # 1. Remove HTML\n",
    "        review_text = BeautifulSoup(review).get_text() \n",
    "        #\n",
    "        # 2. Remove non-letters        \n",
    "        review_text = re.sub(\"[^a-zA-Z]\", \" \", review_text) \n",
    "        #\n",
    "        # 3. Convert to lower case, split into individual words\n",
    "        words = review_text.lower().split()                             \n",
    "        #\n",
    "        # 4. Optionally remove stop words (false by default)\n",
    "        if remove_stopwords:\n",
    "            stops = set(stopwords.words(\"english\"))\n",
    "            words = [w for w in words if not w in stops]   \n",
    "            \n",
    "        if stemmer:\n",
    "            words = [PorterStemmer().stem_word(w) for w in words]\n",
    "        #\n",
    "        # 6. Join the words back into one string separated by space, \n",
    "        # and return the result.\n",
    "        return( \" \".join( words ))   \n",
    "\n",
    "    # Define a function to split a review into parsed sentences\n",
    "    @staticmethod\n",
    "    def review_to_sentences( review, tokenizer, remove_stopwords=False ):\n",
    "        # Function to split a review into parsed sentences. Returns a\n",
    "        # list of sentences, where each sentence is a list of words\n",
    "        #\n",
    "        # 1. Use the NLTK tokenizer to split the paragraph into sentences\n",
    "        raw_sentences = tokenizer.tokenize(review.decode('utf8').strip())\n",
    "        #\n",
    "        # 2. Loop over each sentence\n",
    "        sentences = []\n",
    "        for raw_sentence in raw_sentences:\n",
    "            # If a sentence is empty, skip it\n",
    "            if len(raw_sentence) > 0:\n",
    "                # Otherwise, call review_to_wordlist to get a list of words\n",
    "                sentences.append( KaggleWord2VecUtility.review_to_wordlist( raw_sentence, \\\n",
    "                  remove_stopwords ))\n",
    "        #\n",
    "        # Return the list of sentences (each sentence is a list of words,\n",
    "        # so this returns a list of lists\n",
    "        return sentences"
   ]
  },
  {
   "cell_type": "code",
   "execution_count": null,
   "metadata": {
    "collapsed": true
   },
   "outputs": [],
   "source": []
  },
  {
   "cell_type": "code",
   "execution_count": null,
   "metadata": {
    "collapsed": true
   },
   "outputs": [],
   "source": []
  },
  {
   "cell_type": "code",
   "execution_count": null,
   "metadata": {
    "collapsed": true
   },
   "outputs": [],
   "source": []
  },
  {
   "cell_type": "code",
   "execution_count": null,
   "metadata": {
    "collapsed": true
   },
   "outputs": [],
   "source": []
  },
  {
   "cell_type": "code",
   "execution_count": null,
   "metadata": {
    "collapsed": true
   },
   "outputs": [],
   "source": []
  }
 ],
 "metadata": {
  "anaconda-cloud": {},
  "kernelspec": {
   "display_name": "Python [default]",
   "language": "python",
   "name": "python2"
  },
  "language_info": {
   "codemirror_mode": {
    "name": "ipython",
    "version": 2
   },
   "file_extension": ".py",
   "mimetype": "text/x-python",
   "name": "python",
   "nbconvert_exporter": "python",
   "pygments_lexer": "ipython2",
   "version": "2.7.12"
  }
 },
 "nbformat": 4,
 "nbformat_minor": 0
}
