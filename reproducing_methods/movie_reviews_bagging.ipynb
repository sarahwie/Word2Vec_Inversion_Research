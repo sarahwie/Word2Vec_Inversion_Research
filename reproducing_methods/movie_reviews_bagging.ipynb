{
 "cells": [
  {
   "cell_type": "code",
   "execution_count": 103,
   "metadata": {
    "collapsed": false
   },
   "outputs": [],
   "source": [
    "#import pickle\n",
    "#import os\n",
    "import sys\n",
    "import datetime\n",
    "import pandas as pd\n",
    "import numpy as np\n",
    "import nltk.data\n",
    "from gensim.models import Word2Vec\n",
    "#import multiprocessing\n",
    "from copy import deepcopy\n",
    "from sklearn.metrics import roc_auc_score    \n",
    "from sklearn.cross_validation import StratifiedKFold\n",
    "#import array\n",
    "import random"
   ]
  },
  {
   "cell_type": "code",
   "execution_count": 4,
   "metadata": {
    "collapsed": false
   },
   "outputs": [],
   "source": [
    "np.random.seed(10)"
   ]
  },
  {
   "cell_type": "code",
   "execution_count": 7,
   "metadata": {
    "collapsed": false
   },
   "outputs": [],
   "source": [
    "import os.path\n",
    "sys.path.append(os.path.expanduser('~/code/eol_hsrl_python'))\n",
    "os.environ['PYTHONHASHSEED']='10'\n",
    "#is this working?? no idea"
   ]
  },
  {
   "cell_type": "code",
   "execution_count": 10,
   "metadata": {
    "collapsed": false
   },
   "outputs": [],
   "source": [
    "# Load the punkt tokenizer\n",
    "tokenizer = nltk.data.load('tokenizers/punkt/english.pickle')"
   ]
  },
  {
   "cell_type": "markdown",
   "metadata": {},
   "source": [
    "### Read in datafile"
   ]
  },
  {
   "cell_type": "code",
   "execution_count": 15,
   "metadata": {
    "collapsed": false
   },
   "outputs": [],
   "source": [
    "# Read data from files\n",
    "df = pd.read_csv( 'labeledTrainData.tsv', header=0, delimiter=\"\\t\", quoting=3 )\n",
    "unlabeled_train = pd.read_csv( \"unlabeledTrainData.tsv\", header=0,  delimiter=\"\\t\", quoting=3 )"
   ]
  },
  {
   "cell_type": "code",
   "execution_count": 19,
   "metadata": {
    "collapsed": false
   },
   "outputs": [
    {
     "data": {
      "text/html": [
       "<div>\n",
       "<table border=\"1\" class=\"dataframe\">\n",
       "  <thead>\n",
       "    <tr style=\"text-align: right;\">\n",
       "      <th></th>\n",
       "      <th>id</th>\n",
       "      <th>boolean_label</th>\n",
       "      <th>abstract</th>\n",
       "    </tr>\n",
       "  </thead>\n",
       "  <tbody>\n",
       "    <tr>\n",
       "      <th>0</th>\n",
       "      <td>\"5814_8\"</td>\n",
       "      <td>1</td>\n",
       "      <td>\"With all this stuff going down at the moment ...</td>\n",
       "    </tr>\n",
       "    <tr>\n",
       "      <th>1</th>\n",
       "      <td>\"2381_9\"</td>\n",
       "      <td>1</td>\n",
       "      <td>\"\\\"The Classic War of the Worlds\\\" by Timothy ...</td>\n",
       "    </tr>\n",
       "    <tr>\n",
       "      <th>2</th>\n",
       "      <td>\"7759_3\"</td>\n",
       "      <td>0</td>\n",
       "      <td>\"The film starts with a manager (Nicholas Bell...</td>\n",
       "    </tr>\n",
       "    <tr>\n",
       "      <th>3</th>\n",
       "      <td>\"3630_4\"</td>\n",
       "      <td>0</td>\n",
       "      <td>\"It must be assumed that those who praised thi...</td>\n",
       "    </tr>\n",
       "    <tr>\n",
       "      <th>4</th>\n",
       "      <td>\"9495_8\"</td>\n",
       "      <td>1</td>\n",
       "      <td>\"Superbly trashy and wondrously unpretentious ...</td>\n",
       "    </tr>\n",
       "    <tr>\n",
       "      <th>5</th>\n",
       "      <td>\"8196_8\"</td>\n",
       "      <td>1</td>\n",
       "      <td>\"I dont know why people think this is such a b...</td>\n",
       "    </tr>\n",
       "    <tr>\n",
       "      <th>6</th>\n",
       "      <td>\"7166_2\"</td>\n",
       "      <td>0</td>\n",
       "      <td>\"This movie could have been very good, but com...</td>\n",
       "    </tr>\n",
       "    <tr>\n",
       "      <th>7</th>\n",
       "      <td>\"10633_1\"</td>\n",
       "      <td>0</td>\n",
       "      <td>\"I watched this video at a friend's house. I'm...</td>\n",
       "    </tr>\n",
       "    <tr>\n",
       "      <th>8</th>\n",
       "      <td>\"319_1\"</td>\n",
       "      <td>0</td>\n",
       "      <td>\"A friend of mine bought this film for £1, and...</td>\n",
       "    </tr>\n",
       "    <tr>\n",
       "      <th>9</th>\n",
       "      <td>\"8713_10\"</td>\n",
       "      <td>1</td>\n",
       "      <td>\"&lt;br /&gt;&lt;br /&gt;This movie is full of references....</td>\n",
       "    </tr>\n",
       "  </tbody>\n",
       "</table>\n",
       "</div>"
      ],
      "text/plain": [
       "          id  boolean_label                                           abstract\n",
       "0   \"5814_8\"              1  \"With all this stuff going down at the moment ...\n",
       "1   \"2381_9\"              1  \"\\\"The Classic War of the Worlds\\\" by Timothy ...\n",
       "2   \"7759_3\"              0  \"The film starts with a manager (Nicholas Bell...\n",
       "3   \"3630_4\"              0  \"It must be assumed that those who praised thi...\n",
       "4   \"9495_8\"              1  \"Superbly trashy and wondrously unpretentious ...\n",
       "5   \"8196_8\"              1  \"I dont know why people think this is such a b...\n",
       "6   \"7166_2\"              0  \"This movie could have been very good, but com...\n",
       "7  \"10633_1\"              0  \"I watched this video at a friend's house. I'm...\n",
       "8    \"319_1\"              0  \"A friend of mine bought this film for £1, and...\n",
       "9  \"8713_10\"              1  \"<br /><br />This movie is full of references...."
      ]
     },
     "execution_count": 19,
     "metadata": {},
     "output_type": "execute_result"
    }
   ],
   "source": [
    "df[0:10]"
   ]
  },
  {
   "cell_type": "code",
   "execution_count": 18,
   "metadata": {
    "collapsed": true
   },
   "outputs": [],
   "source": [
    "df.columns = ['id', 'boolean_label', 'abstract']"
   ]
  },
  {
   "cell_type": "code",
   "execution_count": 65,
   "metadata": {
    "collapsed": true
   },
   "outputs": [],
   "source": [
    "\"\"\"\n",
    "docprob takes two lists\n",
    "* docs: a list of documents, each of which is a list of sentences\n",
    "* models: the candidate word2vec models (each potential class)\n",
    "\n",
    "it returns the array of class probabilities.  Everything is done in-memory.\n",
    "\"\"\"\n",
    "\n",
    "def docprob(docs, mods):\n",
    "    # score() takes a list [s] of sentences here; could also be a sentence generator\n",
    "    sentlist = [s for d in docs for s in d]\n",
    "    # the log likelihood of each sentence in this review under each w2v representation\n",
    "    llhd = np.array( [ m.score(sentlist, len(sentlist)) for m in mods ] )\n",
    "    # now exponentiate to get likelihoods, \n",
    "    lhd = np.exp(llhd - llhd.max(axis=0)) # subtract row max to avoid numeric overload\n",
    "    # normalize across models (stars) to get sentence-star probabilities\n",
    "    #all this transposing business does is make it so the total probability of a word \n",
    "    #   equals 1 between the 2 arrays (positive prob and negative).\n",
    "    #and the pandas data frame just puts everything into rows/columns format for easy viz\n",
    "    prob = pd.DataFrame( (lhd/lhd.sum(axis=0)).transpose() )\n",
    "    # and finally average the sentence probabilities to get the review probability\n",
    "    prob[\"doc\"] = [i for i,d in enumerate(docs) for s in d]\n",
    "    prob = prob.groupby(\"doc\").mean()\n",
    "    return prob"
   ]
  },
  {
   "cell_type": "markdown",
   "metadata": {},
   "source": [
    "### get training and testing split on entire dataset with CV loop. randomly sample a subset of size 200 and build a Word2Vec model on it, repeat 100 times. Append all trained models to a meta array to store."
   ]
  },
  {
   "cell_type": "code",
   "execution_count": 131,
   "metadata": {
    "collapsed": false
   },
   "outputs": [
    {
     "name": "stdout",
     "output_type": "stream",
     "text": [
      "('ROUND', 1)\n",
      "Parsing test sentences\n",
      "Building and training w2v models\n",
      "Evaluating ensemble models on test set\n",
      "100\n",
      "[1 1 0 ..., 0 1 0]\n",
      "0.7928\n",
      "('ROUND', 2)\n",
      "Parsing test sentences\n",
      "Building and training w2v models\n",
      "Evaluating ensemble models on test set\n",
      "100\n",
      "[0 0 0 ..., 1 1 0]\n",
      "0.7904\n",
      "('ROUND', 3)\n",
      "Parsing test sentences\n",
      "Building and training w2v models\n",
      "Evaluating ensemble models on test set\n",
      "100\n",
      "[1 1 0 ..., 0 0 0]\n",
      "0.8058\n",
      "('ROUND', 4)\n",
      "Parsing test sentences\n",
      "Building and training w2v models\n",
      "Evaluating ensemble models on test set\n",
      "100\n",
      "[1 0 1 ..., 1 0 1]\n",
      "0.8102\n",
      "('ROUND', 5)\n",
      "Parsing test sentences\n",
      "Building and training w2v models\n",
      "Evaluating ensemble models on test set\n",
      "100\n",
      "[0 0 0 ..., 1 0 1]\n",
      "0.8094\n"
     ]
    },
    {
     "ename": "TypeError",
     "evalue": "'numpy.float64' object is not callable",
     "output_type": "error",
     "traceback": [
      "\u001b[0;31m---------------------------------------------------------------------------\u001b[0m",
      "\u001b[0;31mTypeError\u001b[0m                                 Traceback (most recent call last)",
      "\u001b[0;32m<ipython-input-131-efd69e4c3d11>\u001b[0m in \u001b[0;36m<module>\u001b[0;34m()\u001b[0m\n\u001b[1;32m    132\u001b[0m     \u001b[0mcv_score\u001b[0m\u001b[0;34m.\u001b[0m\u001b[0mappend\u001b[0m\u001b[0;34m(\u001b[0m\u001b[0mscore\u001b[0m\u001b[0;34m)\u001b[0m\u001b[0;34m\u001b[0m\u001b[0m\n\u001b[1;32m    133\u001b[0m \u001b[0;34m\u001b[0m\u001b[0m\n\u001b[0;32m--> 134\u001b[0;31m \u001b[0;32mprint\u001b[0m \u001b[0msum\u001b[0m\u001b[0;34m(\u001b[0m\u001b[0mcv_score\u001b[0m\u001b[0;34m)\u001b[0m\u001b[0;34m/\u001b[0m\u001b[0mlen\u001b[0m\u001b[0;34m(\u001b[0m\u001b[0mcv_score\u001b[0m\u001b[0;34m)\u001b[0m\u001b[0;34m\u001b[0m\u001b[0m\n\u001b[0m\u001b[1;32m    135\u001b[0m \u001b[0;34m\u001b[0m\u001b[0m\n\u001b[1;32m    136\u001b[0m \u001b[0mb\u001b[0m \u001b[0;34m=\u001b[0m \u001b[0mdatetime\u001b[0m\u001b[0;34m.\u001b[0m\u001b[0mdatetime\u001b[0m\u001b[0;34m.\u001b[0m\u001b[0mnow\u001b[0m\u001b[0;34m(\u001b[0m\u001b[0;34m)\u001b[0m\u001b[0;34m.\u001b[0m\u001b[0mreplace\u001b[0m\u001b[0;34m(\u001b[0m\u001b[0mmicrosecond\u001b[0m\u001b[0;34m=\u001b[0m\u001b[0;36m0\u001b[0m\u001b[0;34m)\u001b[0m\u001b[0;34m\u001b[0m\u001b[0m\n",
      "\u001b[0;31mTypeError\u001b[0m: 'numpy.float64' object is not callable"
     ]
    }
   ],
   "source": [
    "a = datetime.datetime.now().replace(microsecond=0)\n",
    "\n",
    "y = df['boolean_label'].values\n",
    "\n",
    "#set random state\n",
    "skf = StratifiedKFold(y, n_folds=5, shuffle=True, random_state=10)\n",
    "\n",
    "cv_score = []\n",
    "\n",
    "i = 1\n",
    "for train_index, test_index in skf:\n",
    "\n",
    "    print(\"ROUND\", i)\n",
    "    i = i + 1\n",
    "    #use the indexes to subset the df pandas dataframe\n",
    "    train1, test1 = df.iloc[train_index], df.iloc[test_index]\n",
    "\n",
    "    #BUILD TEST SET\n",
    "    print \"Parsing test sentences\" #into positive and negative groups so know true label\n",
    "\n",
    "    docs = []\n",
    "    for k in range(len(test1)):\n",
    "        review = test1[\"abstract\"].iloc[k]\n",
    "        sents = KaggleWord2VecUtility.review_to_sentences(review, tokenizer)\n",
    "        docs.append(sents)\n",
    "\n",
    "    #ADD: create models array to append all models to\n",
    "    modsMeta = []\n",
    "    metaPreds = []\n",
    "    metaProbs = []\n",
    "\n",
    "    print \"Building and training w2v models\"\n",
    "    #SET UP LOOP TO BUILD 100 SUB-MODELS\n",
    "    for j in range(100):\n",
    "\n",
    "        #get randomly drawn subset from training set-\n",
    "        #NOTE: sampling *with* replacement\n",
    "        #size of 200\n",
    "\n",
    "        indices = random.sample(xrange(train1.shape[0]),200)\n",
    "        indices = np.asarray(indices)\n",
    "\n",
    "        #use the indexes to subset the df pandas dataframe and get the associated rows\n",
    "        train_sub = train1.iloc[indices]\n",
    "        #print train_sub.shape\n",
    "\n",
    "        # Word2Vec Algorithm- only building basemodel vocab and training on randomly drawn subset\n",
    "\n",
    "        sentences = []  # Initialize an empty list of sentences\n",
    "        for l in range(len(train_sub)):\n",
    "            review = train_sub['abstract'].iloc[l]\n",
    "            sentences += KaggleWord2VecUtility.review_to_sentences(review, tokenizer)\n",
    "\n",
    "        #print \"Parsing sentences from unlabeled set\"\n",
    "        #for review in unlabeled_train[\"review\"]:\n",
    "        #    sentences += KaggleWord2VecUtility.review_to_sentences(review, tokenizer)\n",
    "\n",
    "        ## create a w2v learner \n",
    "        basemodel = Word2Vec(\n",
    "            sentences=None,\n",
    "            size=100, #default\n",
    "            window=5, #default\n",
    "            workers=1,   # don't use cores- use single worker thread for fully deterministically-reproducible run\n",
    "            iter=1, # iter = sweeps of SGD through the data; more is better\n",
    "            hs=1, negative=0 # we only have scoring for the hierarchical softmax setup\n",
    "        )\n",
    "\n",
    "        basemodel.build_vocab(sentences) \n",
    "\n",
    "        # ****** Split the training set into clean sentences\n",
    "        #\n",
    "        sentences_pos = []  # Initialize an empty list of sentences\n",
    "        sentences_neg = []  # Initialize an empty list of sentences\n",
    "\n",
    "        #here change to include all journal name labels of positive and negative\n",
    "        inxs_pos = np.where(train_sub['boolean_label'] == 1)[0].tolist()\n",
    "        inxs_neg = np.where(train_sub['boolean_label'] == 0)[0].tolist()\n",
    "\n",
    "        for inx in inxs_pos:\n",
    "            review = train_sub[\"abstract\"].iloc[inx]\n",
    "            sentences_pos += KaggleWord2VecUtility.review_to_sentences(review, tokenizer)\n",
    "\n",
    "        for inx in inxs_neg:\n",
    "            review = train_sub[\"abstract\"].iloc[inx]\n",
    "            sentences_neg += KaggleWord2VecUtility.review_to_sentences(review, tokenizer)\n",
    "\n",
    "        #train models\n",
    "        models = [deepcopy(basemodel) for y in range(2)]\n",
    "        models[0].train(sentences_neg, total_examples=len(sentences_neg) )\n",
    "        models[1].train(sentences_pos, total_examples=len(sentences_pos) )\n",
    "\n",
    "        probs = docprob(docs,models).astype(object)\n",
    "        metaProbs.append(probs)\n",
    "\n",
    "        predictions = np.ones((probs.shape[0]))\n",
    "\n",
    "        predictions[np.where(probs.iloc[:,0] > 0.5)] = 0 # The first column is the negative model\n",
    "\n",
    "        #append 0/1 predictions to array to store\n",
    "        metaPreds.append(predictions)\n",
    "\n",
    "        #append to modsMeta array to store model\n",
    "        modsMeta.append(models)\n",
    "\n",
    "    #NEXT: EVALUATE TEST SET ON THE ENSEMBLE AND ASSIGN HIGHEST VOTED VALUE\n",
    "    print \"Evaluating ensemble models on test set\"\n",
    "    ensemblePreds = []\n",
    "\n",
    "    print len(metaPreds)\n",
    "\n",
    "    #for each test record,\n",
    "    for m in range(len(metaPreds[0])):\n",
    "        sum = 0\n",
    "        #get ensemble prediction\n",
    "        for arr in metaPreds:\n",
    "            #sum the scores received from each model for that review\n",
    "            sum = sum + arr[m]\n",
    "        #take the average to see if more models gave a score of 0 or 1\n",
    "        avg = sum/len(metaPreds)\n",
    "        #append overall 'winning' prediction\n",
    "        if avg >= 0.5:\n",
    "            ensemblePreds.append(1)\n",
    "        else: \n",
    "            ensemblePreds.append(0)\n",
    "\n",
    "    ensemblePreds = np.asarray(ensemblePreds)\n",
    "    print ensemblePreds\n",
    "\n",
    "    score = roc_auc_score(test1[\"boolean_label\"], ensemblePreds)\n",
    "    print score\n",
    "\n",
    "    cv_score.append(score)\n",
    "    \n",
    "print(\"-----------------------------------------------\")\n",
    "print(\"The averaged roc_auc over 5 folds is:\")\n",
    "print np.sum(cv_score, dtype=np.float64)/len(cv_score)\n",
    "                        \n",
    "b = datetime.datetime.now().replace(microsecond=0)\n",
    "print(b-a)"
   ]
  },
  {
   "cell_type": "code",
   "execution_count": 140,
   "metadata": {
    "collapsed": false
   },
   "outputs": [
    {
     "name": "stdout",
     "output_type": "stream",
     "text": [
      "-----------------------------------------------\n",
      "The averaged roc_auc over 5 folds is:\n",
      "0.80172\n"
     ]
    }
   ],
   "source": [
    "print(\"-----------------------------------------------\")\n",
    "print(\"The averaged roc_auc over 5 folds is:\")\n",
    "print np.sum(cv_score, dtype=np.float64)/len(cv_score)"
   ]
  },
  {
   "cell_type": "code",
   "execution_count": 141,
   "metadata": {
    "collapsed": false,
    "scrolled": true
   },
   "outputs": [
    {
     "data": {
      "text/plain": [
       "(20000, 3)"
      ]
     },
     "execution_count": 141,
     "metadata": {},
     "output_type": "execute_result"
    }
   ],
   "source": [
    "train1.shape"
   ]
  },
  {
   "cell_type": "code",
   "execution_count": 142,
   "metadata": {
    "collapsed": false
   },
   "outputs": [
    {
     "data": {
      "text/plain": [
       "(5000, 3)"
      ]
     },
     "execution_count": 142,
     "metadata": {},
     "output_type": "execute_result"
    }
   ],
   "source": [
    "test1.shape"
   ]
  },
  {
   "cell_type": "code",
   "execution_count": 143,
   "metadata": {
    "collapsed": false
   },
   "outputs": [
    {
     "data": {
      "text/plain": [
       "100"
      ]
     },
     "execution_count": 143,
     "metadata": {},
     "output_type": "execute_result"
    }
   ],
   "source": [
    "len(modsMeta)"
   ]
  },
  {
   "cell_type": "code",
   "execution_count": 144,
   "metadata": {
    "collapsed": false
   },
   "outputs": [
    {
     "data": {
      "text/plain": [
       "[[<gensim.models.word2vec.Word2Vec at 0x7f18015f8950>,\n",
       "  <gensim.models.word2vec.Word2Vec at 0x7f180221c510>],\n",
       " [<gensim.models.word2vec.Word2Vec at 0x7f181c4a59d0>,\n",
       "  <gensim.models.word2vec.Word2Vec at 0x7f180d72d7d0>],\n",
       " [<gensim.models.word2vec.Word2Vec at 0x7f181bc23890>,\n",
       "  <gensim.models.word2vec.Word2Vec at 0x7f180cfc61d0>],\n",
       " [<gensim.models.word2vec.Word2Vec at 0x7f18157f1050>,\n",
       "  <gensim.models.word2vec.Word2Vec at 0x7f17ef58ad10>],\n",
       " [<gensim.models.word2vec.Word2Vec at 0x7f1814586bd0>,\n",
       "  <gensim.models.word2vec.Word2Vec at 0x7f17fbf98110>],\n",
       " [<gensim.models.word2vec.Word2Vec at 0x7f180200de10>,\n",
       "  <gensim.models.word2vec.Word2Vec at 0x7f17ef76ad90>],\n",
       " [<gensim.models.word2vec.Word2Vec at 0x7f17f80eacd0>,\n",
       "  <gensim.models.word2vec.Word2Vec at 0x7f180fe293d0>],\n",
       " [<gensim.models.word2vec.Word2Vec at 0x7f180d6c1710>,\n",
       "  <gensim.models.word2vec.Word2Vec at 0x7f17ef0bc2d0>],\n",
       " [<gensim.models.word2vec.Word2Vec at 0x7f181bd96890>,\n",
       "  <gensim.models.word2vec.Word2Vec at 0x7f18019062d0>],\n",
       " [<gensim.models.word2vec.Word2Vec at 0x7f1806a2bb50>,\n",
       "  <gensim.models.word2vec.Word2Vec at 0x7f181429c990>]]"
      ]
     },
     "execution_count": 144,
     "metadata": {},
     "output_type": "execute_result"
    }
   ],
   "source": [
    "#models stored at different memory locations- should check that this is proper\n",
    "modsMeta[0:10]"
   ]
  },
  {
   "cell_type": "code",
   "execution_count": null,
   "metadata": {
    "collapsed": true
   },
   "outputs": [],
   "source": []
  },
  {
   "cell_type": "markdown",
   "metadata": {},
   "source": [
    "### repeat of above but this time using the probability scores sum"
   ]
  },
  {
   "cell_type": "code",
   "execution_count": 109,
   "metadata": {
    "collapsed": false
   },
   "outputs": [
    {
     "name": "stdout",
     "output_type": "stream",
     "text": [
      "('ROUND', 1)\n",
      "Parsing test sentences\n",
      "Building and training w2v models\n",
      "0:00:31\n"
     ]
    }
   ],
   "source": [
    "a = datetime.datetime.now().replace(microsecond=0)\n",
    "\n",
    "y = df['boolean_label'].values\n",
    "\n",
    "#set random state\n",
    "skf = StratifiedKFold(y, n_folds=5, shuffle=True, random_state=10)\n",
    "\n",
    "cv_score = []\n",
    "\n",
    "i = 1\n",
    "for train_index, test_index in skf:\n",
    "    \n",
    "    if i == 1:\n",
    "\n",
    "        print(\"ROUND\", i)\n",
    "        i = i + 1\n",
    "        #use the indexes to subset the df pandas dataframe\n",
    "        train1, test1 = df.iloc[train_index], df.iloc[test_index]\n",
    "\n",
    "        #BUILD TEST SET\n",
    "        print \"Parsing test sentences\" #into positive and negative groups so know true label\n",
    "\n",
    "        docs = []\n",
    "        for k in range(len(test1)):\n",
    "            review = test1[\"abstract\"].iloc[k]\n",
    "            sents = KaggleWord2VecUtility.review_to_sentences(review, tokenizer)\n",
    "            docs.append(sents)\n",
    "\n",
    "        #ADD: create models array to append all models to\n",
    "        modsMeta = []\n",
    "        metaPreds = []\n",
    "        metaProbsPos = []\n",
    "        metaProbsNeg = []\n",
    "\n",
    "        print \"Building and training w2v models\"\n",
    "        #SET UP LOOP TO BUILD 100 SUB-MODELS\n",
    "        for j in range(100):\n",
    "\n",
    "            #get randomly drawn subset from training set-\n",
    "            #NOTE: sampling *with* replacement\n",
    "            #size of 200\n",
    "\n",
    "            indices = random.sample(xrange(train1.shape[0]),200)\n",
    "            indices = np.asarray(indices)\n",
    "\n",
    "            #use the indexes to subset the df pandas dataframe and get the associated rows\n",
    "            train_sub = train1.iloc[indices]\n",
    "            #print train_sub.shape\n",
    "\n",
    "            # Word2Vec Algorithm- only building basemodel vocab and training on randomly drawn subset\n",
    "\n",
    "            sentences = []  # Initialize an empty list of sentences\n",
    "            for l in range(len(train_sub)):\n",
    "                review = train_sub['abstract'].iloc[l]\n",
    "                sentences += KaggleWord2VecUtility.review_to_sentences(review, tokenizer)\n",
    "\n",
    "            #print \"Parsing sentences from unlabeled set\"\n",
    "            #for review in unlabeled_train[\"review\"]:\n",
    "            #    sentences += KaggleWord2VecUtility.review_to_sentences(review, tokenizer)\n",
    "\n",
    "            ## create a w2v learner \n",
    "            basemodel = Word2Vec(\n",
    "                sentences=None,\n",
    "                size=100, #default\n",
    "                window=5, #default\n",
    "                workers=1,   # don't use cores- use single worker thread for fully deterministically-reproducible run\n",
    "                iter=1, # iter = sweeps of SGD through the data; more is better\n",
    "                hs=1, negative=0 # we only have scoring for the hierarchical softmax setup\n",
    "            )\n",
    "\n",
    "            basemodel.build_vocab(sentences) \n",
    "\n",
    "            # ****** Split the training set into clean sentences\n",
    "            #\n",
    "            sentences_pos = []  # Initialize an empty list of sentences\n",
    "            sentences_neg = []  # Initialize an empty list of sentences\n",
    "\n",
    "            #here change to include all journal name labels of positive and negative\n",
    "            inxs_pos = np.where(train_sub['boolean_label'] == 1)[0].tolist()\n",
    "            inxs_neg = np.where(train_sub['boolean_label'] == 0)[0].tolist()\n",
    "\n",
    "            for inx in inxs_pos:\n",
    "                review = train_sub[\"abstract\"].iloc[inx]\n",
    "                sentences_pos += KaggleWord2VecUtility.review_to_sentences(review, tokenizer)\n",
    "\n",
    "            for inx in inxs_neg:\n",
    "                review = train_sub[\"abstract\"].iloc[inx]\n",
    "                sentences_neg += KaggleWord2VecUtility.review_to_sentences(review, tokenizer)\n",
    "\n",
    "            #train models\n",
    "            models = [deepcopy(basemodel) for y in range(2)]\n",
    "            models[0].train(sentences_neg, total_examples=len(sentences_neg) )\n",
    "            models[1].train(sentences_pos, total_examples=len(sentences_pos) )\n",
    "\n",
    "            probs = docprob(docs,models).astype(object)\n",
    "\n",
    "            probsPos = probs.iloc[:,0].values\n",
    "\n",
    "            probsNeg = probs.iloc[:,1].values\n",
    "\n",
    "            #append 0/1 predictions to array to store\n",
    "            metaProbsPos.append(probsPos)\n",
    "            metaProbsNeg.append(probsNeg)\n",
    "\n",
    "            #append to modsMeta array to store model\n",
    "            modsMeta.append(models)\n",
    "\n",
    "        #NEXT: EVALUATE TEST SET ON THE ENSEMBLE AND ASSIGN HIGHEST VOTED VALUE\n",
    "#         print \"Evaluating ensemble models on test set\"\n",
    "#         ensemblePreds = []\n",
    "\n",
    "#         print len(metaPreds)\n",
    "\n",
    "#         #for each test record,\n",
    "#         for m in range(len(metaPreds[0])):\n",
    "#             sum = 0\n",
    "#             #get ensemble prediction\n",
    "#             for arr in metaPreds:\n",
    "#                 #sum the scores received from each model for that review\n",
    "#                 sum = sum + arr[m]\n",
    "#             #take the average to see if more models gave a score of 0 or 1\n",
    "#             avg = sum/len(metaPreds)\n",
    "#             #append overall 'winning' prediction\n",
    "#             if avg >= 0.5:\n",
    "#                 ensemblePreds.append(1)\n",
    "#             else: \n",
    "#                 ensemblePreds.append(0)\n",
    "\n",
    "#         ensemblePreds = np.asarray(ensemblePreds)\n",
    "#         print ensemblePreds\n",
    "\n",
    "#         score = roc_auc_score(test1[\"boolean_label\"], ensemblePreds)\n",
    "#         print score\n",
    "\n",
    "        #cv_score.append(score)\n",
    "    \n",
    "#print(\"-----------------------------------------------\")\n",
    "#print(\"The averaged roc_auc over 5 folds is:\")\n",
    "#print np.sum(cv_score, dtype=np.float64)/len(cv_score)\n",
    "                        \n",
    "b = datetime.datetime.now().replace(microsecond=0)\n",
    "print(b-a)"
   ]
  },
  {
   "cell_type": "code",
   "execution_count": 132,
   "metadata": {
    "collapsed": false
   },
   "outputs": [
    {
     "name": "stdout",
     "output_type": "stream",
     "text": [
      "             0         1\n",
      "doc                     \n",
      "0     0.497906  0.502094\n",
      "1     0.498477  0.501523\n",
      "2     0.505409  0.494591\n",
      "3     0.506429  0.493571\n",
      "4     0.505806  0.494194\n",
      "5     0.502609  0.497391\n",
      "6     0.495817  0.504183\n",
      "7     0.493731  0.506269\n",
      "8     0.508329  0.491671\n",
      "9     0.495422  0.504578\n",
      "10     0.50761   0.49239\n",
      "11    0.514158  0.485842\n",
      "12    0.491369  0.508631\n",
      "13    0.502536  0.497464\n",
      "14     0.50127   0.49873\n",
      "15    0.506424  0.493576\n",
      "16    0.498985  0.501015\n",
      "17    0.507005  0.492995\n",
      "18    0.500511  0.499489\n",
      "19    0.504316  0.495684\n",
      "20     0.49867   0.50133\n",
      "21    0.502826  0.497174\n",
      "22     0.50237   0.49763\n",
      "23    0.504566  0.495434\n",
      "24    0.499047  0.500953\n",
      "25    0.500693  0.499307\n",
      "26    0.498172  0.501828\n",
      "27         0.5       0.5\n",
      "28    0.503046  0.496954\n",
      "29    0.514925  0.485075\n",
      "...        ...       ...\n",
      "4970  0.511155  0.488845\n",
      "4971  0.498353  0.501647\n",
      "4972  0.506089  0.493911\n",
      "4973  0.499111  0.500889\n",
      "4974  0.493281  0.506719\n",
      "4975  0.499493  0.500507\n",
      "4976  0.503043  0.496957\n",
      "4977   0.50487   0.49513\n",
      "4978  0.511427  0.488573\n",
      "4979  0.501781  0.498219\n",
      "4980  0.503451  0.496549\n",
      "4981  0.499842  0.500158\n",
      "4982  0.496028  0.503972\n",
      "4983  0.506599  0.493401\n",
      "4984  0.506279  0.493721\n",
      "4985  0.503266  0.496734\n",
      "4986  0.511035  0.488965\n",
      "4987  0.505181  0.494819\n",
      "4988   0.50527   0.49473\n",
      "4989  0.505002  0.494998\n",
      "4990  0.480599  0.519401\n",
      "4991   0.50321   0.49679\n",
      "4992   0.50059   0.49941\n",
      "4993  0.498912  0.501088\n",
      "4994  0.495296  0.504704\n",
      "4995  0.503576  0.496424\n",
      "4996  0.499809  0.500191\n",
      "4997  0.506093  0.493907\n",
      "4998  0.502436  0.497564\n",
      "4999  0.507613  0.492387\n",
      "\n",
      "[5000 rows x 2 columns]\n"
     ]
    }
   ],
   "source": [
    "print probs"
   ]
  },
  {
   "cell_type": "code",
   "execution_count": 130,
   "metadata": {
    "collapsed": false
   },
   "outputs": [
    {
     "name": "stdout",
     "output_type": "stream",
     "text": [
      "[0.4960238039493561 0.4999992549419403 0.49933910369873047 ..., 0\n",
      " 0.4936591684818268 0]\n",
      "[0.5039762258529663 0.5000007152557373 0.5006608963012695 ...,\n",
      " 0.49954429268836975 0.5063408613204956 0.4926792085170746]\n"
     ]
    }
   ],
   "source": [
    "print probsPos\n",
    "print probsNeg\n",
    "\n",
    "print \"Evaluating ensemble models on test set\"\n",
    "ensemblePreds = []\n",
    "\n",
    "print len(metaPreds)\n",
    "\n",
    "#for each test record,\n",
    "for m in range(len(metaPreds[0])):\n",
    "    sum = 0\n",
    "    #get ensemble prediction\n",
    "    for arr in metaPreds:\n",
    "        #sum the scores received from each model for that review\n",
    "        sum = sum + arr[m]\n",
    "    #take the average to see if more models gave a score of 0 or 1\n",
    "    avg = sum/len(metaPreds)\n",
    "    #append overall 'winning' prediction\n",
    "    if avg >= 0.5:\n",
    "        ensemblePreds.append(1)\n",
    "    else: \n",
    "        ensemblePreds.append(0)\n",
    "\n",
    "ensemblePreds = np.asarray(ensemblePreds)\n",
    "print ensemblePreds"
   ]
  },
  {
   "cell_type": "markdown",
   "metadata": {},
   "source": [
    "### get to this (and all other code below) later once all models are built"
   ]
  },
  {
   "cell_type": "code",
   "execution_count": 10,
   "metadata": {
    "collapsed": false
   },
   "outputs": [
    {
     "name": "stdout",
     "output_type": "stream",
     "text": [
      "Parsing test sentences\n"
     ]
    }
   ],
   "source": [
    "print \"Parsing test sentences\" #into positive and negative groups so know true label\n",
    "\n",
    "sentences_pos_test = []  # Initialize an empty list of sentences\n",
    "sentences_neg_test = []  # Initialize an empty list of sentences\n",
    "    \n",
    "inxs_pos_test = np.where(test1['boolean_label'] == 1)[0].tolist()\n",
    "inxs_neg_test = np.where(test1['boolean_label'] == 0)[0].tolist()\n",
    "\n",
    "\n",
    "for inx in inxs_pos_test[0:10]:\n",
    "    review = test1[\"abstract\"].iloc[inx]\n",
    "    sentences_pos_test += KaggleWord2VecUtility.review_to_sentences(review, tokenizer)\n",
    "    #print inx\n",
    "\n",
    "for inx in inxs_neg_test[0:10]:\n",
    "    review = test1[\"abstract\"].iloc[inx]\n",
    "    sentences_neg_test += KaggleWord2VecUtility.review_to_sentences(review, tokenizer)\n",
    "    #print inx"
   ]
  },
  {
   "cell_type": "code",
   "execution_count": 11,
   "metadata": {
    "collapsed": false
   },
   "outputs": [],
   "source": [
    "#save matrices in new variables to load each time, as well as the negative and positive trained models\n",
    "neg1 = models[0].syn0\n",
    "neg2 = models[0].syn1\n",
    "modNeg = models[0]\n",
    "modPos = models[1]\n",
    "pos1 = models[1].syn0\n",
    "pos2 = models[1].syn1"
   ]
  },
  {
   "cell_type": "code",
   "execution_count": 12,
   "metadata": {
    "collapsed": false
   },
   "outputs": [
    {
     "name": "stdout",
     "output_type": "stream",
     "text": [
      "[u'i', u'am', u'amazed', u'that', u'movies', u'like', u'this', u'can', u'still', u'be', u'made']\n"
     ]
    }
   ],
   "source": [
    "print sentences_pos_test[0]"
   ]
  },
  {
   "cell_type": "code",
   "execution_count": 13,
   "metadata": {
    "collapsed": false
   },
   "outputs": [
    {
     "data": {
      "text/plain": [
       "31"
      ]
     },
     "execution_count": 13,
     "metadata": {},
     "output_type": "execute_result"
    }
   ],
   "source": [
    "#retrain model using a test sentence- \n",
    "modPos.train(sentences_pos_test[0], total_examples=1 )\n",
    "modNeg.train(sentences_pos_test[0], total_examples=1 )"
   ]
  },
  {
   "cell_type": "markdown",
   "metadata": {},
   "source": [
    "### Now look at weight matrices again....how much have they changed?"
   ]
  },
  {
   "cell_type": "code",
   "execution_count": 17,
   "metadata": {
    "collapsed": false
   },
   "outputs": [
    {
     "name": "stdout",
     "output_type": "stream",
     "text": [
      "(39795, 50)\n",
      "(39795, 50)\n",
      "(39795, 50)\n",
      "(39795, 50)\n"
     ]
    }
   ],
   "source": [
    "#look at dims\n",
    "print neg1.shape\n",
    "print neg2.shape\n",
    "print pos1.shape\n",
    "print pos2.shape"
   ]
  },
  {
   "cell_type": "markdown",
   "metadata": {},
   "source": [
    "### TODO: test that the original weights are actually being stored and not also updated. Then, try for every word in the sentence by recoding the below script."
   ]
  },
  {
   "cell_type": "code",
   "execution_count": 19,
   "metadata": {
    "collapsed": false
   },
   "outputs": [],
   "source": [
    "#all = []\n",
    "#for sent in sentences_pos_test:\n",
    "#make copies of models\n",
    "#    copymodPos = modPos\n",
    "#    copymodNeg = modNeg\n",
    "a=[]\n",
    "#retrain model using a test sentence\n",
    "#    copymodPos.train(sent, total_examples=1 )\n",
    "#    copymodNeg.train(sent, total_examples=1 )\n",
    "#for each word....replace the 0's \n",
    "\n",
    "#NOTE: Changed FROM COPYMODNEG TO MODNEG AND SAME FOR MODPOS\n",
    "for i in range(models[0].syn0.shape[0]):\n",
    "    a.append(np.subtract(neg1[i], modNeg.syn0[i]))\n",
    "    a.append(np.subtract(neg2[i], modNeg.syn1[i]))\n",
    "    a.append(np.subtract(pos1[i], modPos.syn0[i]))\n",
    "    a.append(np.subtract(pos2[i], modPos.syn1[i]))\n",
    "\n",
    "    if np.any(np.not_equal(neg1[i],modNeg.syn0[i])):\n",
    "        print \"1\"\n",
    "        print i\n",
    "        print neg1[i]\n",
    "        print sent\n",
    "    elif np.any(np.not_equal(neg2[i],modNeg.syn1[i])):\n",
    "        print \"2\"\n",
    "        print i\n",
    "        print neg2[i]\n",
    "        print sent\n",
    "    elif np.any(np.not_equal(pos1[i],modPos.syn0[i])):\n",
    "        print \"3\"\n",
    "        print i\n",
    "        print pos1[i]\n",
    "        print sent\n",
    "    elif np.any(np.not_equal(pos2[i],modPos.syn1[i])):\n",
    "        print \"4\"\n",
    "        print i\n",
    "        print pos2[i]\n",
    "        print sent\n",
    "\n",
    "#then also append the score to the list*** TODO\n",
    "\n",
    "#all.append(a)\n"
   ]
  },
  {
   "cell_type": "code",
   "execution_count": null,
   "metadata": {
    "collapsed": true
   },
   "outputs": [],
   "source": [
    "#repeat for sentences in sentences_neg_test"
   ]
  },
  {
   "cell_type": "code",
   "execution_count": 14,
   "metadata": {
    "collapsed": false
   },
   "outputs": [
    {
     "name": "stdout",
     "output_type": "stream",
     "text": [
      "[  6.72277287e-02   1.26543835e-01   9.93497670e-03  -5.40592745e-02\n",
      "  -2.65558302e-01  -9.68429521e-02   8.76064673e-02  -1.33147120e-01\n",
      "   4.74467762e-02   1.02694966e-01   2.79902313e-02  -5.03830649e-02\n",
      "  -1.29035428e-01   8.29034764e-03   4.33472246e-02   2.05678880e-01\n",
      "   1.59809381e-01   3.38250399e-02  -2.10265428e-01  -1.30878299e-01\n",
      "  -1.95322976e-01  -2.52045747e-02   1.68052465e-01  -4.24853526e-02\n",
      "   1.19723156e-01   4.54059616e-02   4.93345559e-02  -6.80889115e-02\n",
      "  -2.11434722e-01  -1.75505623e-01  -1.63846120e-01   8.19133222e-02\n",
      "   8.09772909e-02   6.10496514e-02   3.02647091e-02   5.76601438e-02\n",
      "   6.89781224e-03   2.18035445e-01   1.95809379e-01  -1.67943567e-01\n",
      "   5.93783334e-05   7.96362162e-02  -3.42507352e-04  -8.06212574e-02\n",
      "   1.97106436e-01  -4.97829355e-02  -9.23664309e-03   1.54408872e-01\n",
      "  -9.93900597e-02  -1.28648549e-01]\n",
      "[  6.72277287e-02   1.26543835e-01   9.93497670e-03  -5.40592745e-02\n",
      "  -2.65558302e-01  -9.68429521e-02   8.76064673e-02  -1.33147120e-01\n",
      "   4.74467762e-02   1.02694966e-01   2.79902313e-02  -5.03830649e-02\n",
      "  -1.29035428e-01   8.29034764e-03   4.33472246e-02   2.05678880e-01\n",
      "   1.59809381e-01   3.38250399e-02  -2.10265428e-01  -1.30878299e-01\n",
      "  -1.95322976e-01  -2.52045747e-02   1.68052465e-01  -4.24853526e-02\n",
      "   1.19723156e-01   4.54059616e-02   4.93345559e-02  -6.80889115e-02\n",
      "  -2.11434722e-01  -1.75505623e-01  -1.63846120e-01   8.19133222e-02\n",
      "   8.09772909e-02   6.10496514e-02   3.02647091e-02   5.76601438e-02\n",
      "   6.89781224e-03   2.18035445e-01   1.95809379e-01  -1.67943567e-01\n",
      "   5.93783334e-05   7.96362162e-02  -3.42507352e-04  -8.06212574e-02\n",
      "   1.97106436e-01  -4.97829355e-02  -9.23664309e-03   1.54408872e-01\n",
      "  -9.93900597e-02  -1.28648549e-01]\n"
     ]
    }
   ],
   "source": [
    "print modPos[\"this\"]\n",
    "print models[1][\"this\"]\n",
    "#still identical"
   ]
  },
  {
   "cell_type": "code",
   "execution_count": 45,
   "metadata": {
    "collapsed": false
   },
   "outputs": [
    {
     "name": "stdout",
     "output_type": "stream",
     "text": [
      "[  1.12128623e-01  -5.90351527e-04   1.90263346e-01  -2.04363316e-01\n",
      "  -1.25054032e-01   1.41420200e-01   2.07533948e-02  -5.16388237e-01\n",
      "  -2.71282345e-01  -2.74658352e-01   4.18581665e-01   6.85895383e-01\n",
      "   1.61994889e-01   1.41382843e-01   2.19165564e-01   6.37463620e-03\n",
      "   1.48713633e-01   4.50969517e-01   2.83410162e-01  -2.03582317e-01\n",
      "  -1.41550124e-01  -3.66136700e-01   1.05822659e+00  -7.81226233e-02\n",
      "   3.40196371e-01  -4.13311690e-01  -1.34569913e-01  -5.01110256e-02\n",
      "   5.74484766e-01   4.05226871e-02   1.15871266e-01  -9.73553479e-01\n",
      "  -1.10163584e-01  -3.38168532e-01   9.53039765e-01  -1.01441734e-01\n",
      "   4.13049966e-01   4.90189455e-02  -4.38492864e-01  -5.91962934e-02\n",
      "  -9.26226377e-01   4.83608961e-01  -7.15108156e-01   3.62209111e-01\n",
      "   6.68655038e-01   2.67568588e-01   3.60578388e-01   7.26784527e-01\n",
      "  -2.97102273e-01   4.04141605e-01  -4.31873351e-01  -1.42890409e-01\n",
      "   3.50398183e-01   3.67146939e-01   7.04841539e-02  -1.48633216e-02\n",
      "  -1.14153242e+00  -3.92584890e-01  -1.91272706e-01  -6.96127713e-01\n",
      "   3.76787841e-01   2.70745933e-01   5.74629068e-01  -1.07105839e+00\n",
      "  -3.46443474e-01  -9.17379200e-01  -2.87172258e-01   7.27824643e-02\n",
      "   8.88948962e-02  -5.95077932e-01  -8.39833796e-01   4.24457133e-01\n",
      "  -1.05815589e+00   1.29813388e-01   9.84567642e-01   3.42266828e-01\n",
      "  -6.08334020e-02   3.09696943e-01  -3.05879831e-01   9.24778223e-01\n",
      "  -3.03678304e-01  -1.45367965e-01   1.73873812e-01   2.79499054e-01\n",
      "   4.14949924e-01   6.28311932e-01  -2.95785129e-01  -9.13131416e-01\n",
      "  -3.65538187e-02  -8.89188349e-01  -4.66797948e-01   9.24781635e-02\n",
      "   7.95579851e-01   5.62470667e-02  -3.14890385e-01   1.65627122e-01\n",
      "   5.84659159e-01   8.44920099e-01   1.27778828e-01  -3.70635837e-01]\n",
      "[  1.12128623e-01  -5.90351527e-04   1.90263346e-01  -2.04363316e-01\n",
      "  -1.25054032e-01   1.41420200e-01   2.07533948e-02  -5.16388237e-01\n",
      "  -2.71282345e-01  -2.74658352e-01   4.18581665e-01   6.85895383e-01\n",
      "   1.61994889e-01   1.41382843e-01   2.19165564e-01   6.37463620e-03\n",
      "   1.48713633e-01   4.50969517e-01   2.83410162e-01  -2.03582317e-01\n",
      "  -1.41550124e-01  -3.66136700e-01   1.05822659e+00  -7.81226233e-02\n",
      "   3.40196371e-01  -4.13311690e-01  -1.34569913e-01  -5.01110256e-02\n",
      "   5.74484766e-01   4.05226871e-02   1.15871266e-01  -9.73553479e-01\n",
      "  -1.10163584e-01  -3.38168532e-01   9.53039765e-01  -1.01441734e-01\n",
      "   4.13049966e-01   4.90189455e-02  -4.38492864e-01  -5.91962934e-02\n",
      "  -9.26226377e-01   4.83608961e-01  -7.15108156e-01   3.62209111e-01\n",
      "   6.68655038e-01   2.67568588e-01   3.60578388e-01   7.26784527e-01\n",
      "  -2.97102273e-01   4.04141605e-01  -4.31873351e-01  -1.42890409e-01\n",
      "   3.50398183e-01   3.67146939e-01   7.04841539e-02  -1.48633216e-02\n",
      "  -1.14153242e+00  -3.92584890e-01  -1.91272706e-01  -6.96127713e-01\n",
      "   3.76787841e-01   2.70745933e-01   5.74629068e-01  -1.07105839e+00\n",
      "  -3.46443474e-01  -9.17379200e-01  -2.87172258e-01   7.27824643e-02\n",
      "   8.88948962e-02  -5.95077932e-01  -8.39833796e-01   4.24457133e-01\n",
      "  -1.05815589e+00   1.29813388e-01   9.84567642e-01   3.42266828e-01\n",
      "  -6.08334020e-02   3.09696943e-01  -3.05879831e-01   9.24778223e-01\n",
      "  -3.03678304e-01  -1.45367965e-01   1.73873812e-01   2.79499054e-01\n",
      "   4.14949924e-01   6.28311932e-01  -2.95785129e-01  -9.13131416e-01\n",
      "  -3.65538187e-02  -8.89188349e-01  -4.66797948e-01   9.24781635e-02\n",
      "   7.95579851e-01   5.62470667e-02  -3.14890385e-01   1.65627122e-01\n",
      "   5.84659159e-01   8.44920099e-01   1.27778828e-01  -3.70635837e-01]\n"
     ]
    }
   ],
   "source": [
    "print modNeg[\"this\"]\n",
    "print models[0][\"this\"]\n",
    "#still identical"
   ]
  },
  {
   "cell_type": "code",
   "execution_count": null,
   "metadata": {
    "collapsed": true
   },
   "outputs": [],
   "source": []
  },
  {
   "cell_type": "code",
   "execution_count": null,
   "metadata": {
    "collapsed": true
   },
   "outputs": [],
   "source": []
  },
  {
   "cell_type": "code",
   "execution_count": null,
   "metadata": {
    "collapsed": true
   },
   "outputs": [],
   "source": []
  },
  {
   "cell_type": "code",
   "execution_count": 47,
   "metadata": {
    "collapsed": false
   },
   "outputs": [
    {
     "name": "stdout",
     "output_type": "stream",
     "text": [
      "[[1, 2], [3, 4]]\n"
     ]
    }
   ],
   "source": [
    "#mini testing\n",
    "mods = []\n",
    "ab = [1, 2]\n",
    "cd = [3, 4]\n",
    "mods.append(ab)\n",
    "mods.append(cd)\n",
    "print(mods)"
   ]
  },
  {
   "cell_type": "code",
   "execution_count": 39,
   "metadata": {
    "collapsed": false
   },
   "outputs": [],
   "source": [
    "import re\n",
    "import nltk\n",
    "\n",
    "import pandas as pd\n",
    "import numpy as np\n",
    "\n",
    "from bs4 import BeautifulSoup\n",
    "from nltk.corpus import stopwords\n",
    "\n",
    "\n",
    "class KaggleWord2VecUtility(object):\n",
    "    \"\"\"KaggleWord2VecUtility is a utility class for processing raw HTML text into segments for further learning\"\"\"\n",
    "\n",
    "    @staticmethod\n",
    "    def review_to_wordlist( review, remove_stopwords=False ):\n",
    "        # Function to convert a document to a sequence of words,\n",
    "        # optionally removing stop words.  Returns a list of words.\n",
    "        #\n",
    "        # 1. Remove HTML\n",
    "        review_text = BeautifulSoup(review).get_text()\n",
    "        #\n",
    "        # 2. Remove non-letters\n",
    "        review_text = re.sub(\"[^a-zA-Z]\",\" \", review_text)\n",
    "        #\n",
    "        # 3. Convert words to lower case and split them\n",
    "        words = review_text.lower().split()\n",
    "        #\n",
    "        # 4. Optionally remove stop words (false by default)\n",
    "        if remove_stopwords:\n",
    "            stops = set(stopwords.words(\"english\"))\n",
    "            words = [w for w in words if not w in stops]\n",
    "        #\n",
    "        # 5. Return a list of words\n",
    "        return(words)\n",
    "    \n",
    "    @staticmethod\n",
    "    def review_to_words( review, remove_stopwords=False ):\n",
    "        # Function to convert a raw review to a string of words\n",
    "        # The input is a single string (a raw movie review), and \n",
    "        # the output is a single string (a preprocessed movie review)\n",
    "        #\n",
    "        # 1. Remove HTML\n",
    "        review_text = BeautifulSoup(review).get_text() \n",
    "        #\n",
    "        # 2. Remove non-letters        \n",
    "        review_text = re.sub(\"[^a-zA-Z]\", \" \", review_text) \n",
    "        #\n",
    "        # 3. Convert to lower case, split into individual words\n",
    "        words = review_text.lower().split()                             \n",
    "        #\n",
    "        # 4. Optionally remove stop words (false by default)\n",
    "        if remove_stopwords:\n",
    "            stops = set(stopwords.words(\"english\"))\n",
    "            words = [w for w in words if not w in stops]   \n",
    "        #\n",
    "        # 6. Join the words back into one string separated by space, \n",
    "        # and return the result.\n",
    "        return( \" \".join( words ))   \n",
    "\n",
    "    # Define a function to split a review into parsed sentences\n",
    "    @staticmethod\n",
    "    def review_to_sentences( review, tokenizer, remove_stopwords=False ):\n",
    "        # Function to split a review into parsed sentences. Returns a\n",
    "        # list of sentences, where each sentence is a list of words\n",
    "        #\n",
    "        # 1. Use the NLTK tokenizer to split the paragraph into sentences\n",
    "        raw_sentences = tokenizer.tokenize(review.decode('utf8').strip())\n",
    "        #\n",
    "        # 2. Loop over each sentence\n",
    "        sentences = []\n",
    "        for raw_sentence in raw_sentences:\n",
    "            # If a sentence is empty, skip it\n",
    "            if len(raw_sentence) > 0:\n",
    "                # Otherwise, call review_to_wordlist to get a list of words\n",
    "                sentences.append( KaggleWord2VecUtility.review_to_wordlist( raw_sentence, \\\n",
    "                  remove_stopwords ))\n",
    "        #\n",
    "        # Return the list of sentences (each sentence is a list of words,\n",
    "        # so this returns a list of lists\n",
    "        return sentences"
   ]
  }
 ],
 "metadata": {
  "anaconda-cloud": {},
  "kernelspec": {
   "display_name": "Python [default]",
   "language": "python",
   "name": "python2"
  },
  "language_info": {
   "codemirror_mode": {
    "name": "ipython",
    "version": 2
   },
   "file_extension": ".py",
   "mimetype": "text/x-python",
   "name": "python",
   "nbconvert_exporter": "python",
   "pygments_lexer": "ipython2",
   "version": "2.7.12"
  }
 },
 "nbformat": 4,
 "nbformat_minor": 0
}
