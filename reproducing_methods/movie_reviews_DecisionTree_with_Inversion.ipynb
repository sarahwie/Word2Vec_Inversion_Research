{
 "cells": [
  {
   "cell_type": "code",
   "execution_count": null,
   "metadata": {
    "collapsed": false
   },
   "outputs": [],
   "source": [
    "import pickle\n",
    "import os\n",
    "import sys\n",
    "import datetime\n",
    "import pandas as pd\n",
    "import numpy as np\n",
    "import nltk.data\n",
    "import multiprocessing\n",
    "from copy import deepcopy\n",
    "from gensim.models import Word2Vec\n",
    "from sklearn.metrics import roc_auc_score    \n",
    "from sklearn.cross_validation import StratifiedKFold\n",
    "from sklearn import tree\n",
    "from sklearn.ensemble import RandomForestClassifier"
   ]
  },
  {
   "cell_type": "code",
   "execution_count": 5,
   "metadata": {
    "collapsed": true
   },
   "outputs": [],
   "source": [
    "# Load the punkt tokenizer\n",
    "tokenizer = nltk.data.load('tokenizers/punkt/english.pickle')"
   ]
  },
  {
   "cell_type": "markdown",
   "metadata": {},
   "source": [
    "### Read in datafile"
   ]
  },
  {
   "cell_type": "code",
   "execution_count": 6,
   "metadata": {
    "collapsed": false
   },
   "outputs": [],
   "source": [
    "# Read data from files\n",
    "df = pd.read_csv( 'labeledTrainData.tsv', header=0, delimiter=\"\\t\", quoting=3 )\n",
    "unlabeled_train = pd.read_csv( \"unlabeledTrainData.tsv\", header=0,  delimiter=\"\\t\", quoting=3 )"
   ]
  },
  {
   "cell_type": "code",
   "execution_count": 7,
   "metadata": {
    "collapsed": false
   },
   "outputs": [
    {
     "data": {
      "text/html": [
       "<div>\n",
       "<table border=\"1\" class=\"dataframe\">\n",
       "  <thead>\n",
       "    <tr style=\"text-align: right;\">\n",
       "      <th></th>\n",
       "      <th>id</th>\n",
       "      <th>sentiment</th>\n",
       "      <th>review</th>\n",
       "    </tr>\n",
       "  </thead>\n",
       "  <tbody>\n",
       "    <tr>\n",
       "      <th>0</th>\n",
       "      <td>\"5814_8\"</td>\n",
       "      <td>1</td>\n",
       "      <td>\"With all this stuff going down at the moment ...</td>\n",
       "    </tr>\n",
       "    <tr>\n",
       "      <th>1</th>\n",
       "      <td>\"2381_9\"</td>\n",
       "      <td>1</td>\n",
       "      <td>\"\\\"The Classic War of the Worlds\\\" by Timothy ...</td>\n",
       "    </tr>\n",
       "  </tbody>\n",
       "</table>\n",
       "</div>"
      ],
      "text/plain": [
       "         id  sentiment                                             review\n",
       "0  \"5814_8\"          1  \"With all this stuff going down at the moment ...\n",
       "1  \"2381_9\"          1  \"\\\"The Classic War of the Worlds\\\" by Timothy ..."
      ]
     },
     "execution_count": 7,
     "metadata": {},
     "output_type": "execute_result"
    }
   ],
   "source": [
    "df[0:2]"
   ]
  },
  {
   "cell_type": "code",
   "execution_count": 8,
   "metadata": {
    "collapsed": false
   },
   "outputs": [
    {
     "data": {
      "text/plain": [
       "'\"With all this stuff going down at the moment with MJ i\\'ve started listening to his music, watching the odd documentary here and there, watched The Wiz and watched Moonwalker again. Maybe i just want to get a certain insight into this guy who i thought was really cool in the eighties just to maybe make up my mind whether he is guilty or innocent. Moonwalker is part biography, part feature film which i remember going to see at the cinema when it was originally released. Some of it has subtle messages about MJ\\'s feeling towards the press and also the obvious message of drugs are bad m\\'kay.<br /><br />Visually impressive but of course this is all about Michael Jackson so unless you remotely like MJ in anyway then you are going to hate this and find it boring. Some may call MJ an egotist for consenting to the making of this movie BUT MJ and most of his fans would say that he made it for the fans which if true is really nice of him.<br /><br />The actual feature film bit when it finally starts is only on for 20 minutes or so excluding the Smooth Criminal sequence and Joe Pesci is convincing as a psychopathic all powerful drug lord. Why he wants MJ dead so bad is beyond me. Because MJ overheard his plans? Nah, Joe Pesci\\'s character ranted that he wanted people to know it is he who is supplying drugs etc so i dunno, maybe he just hates MJ\\'s music.<br /><br />Lots of cool things in this like MJ turning into a car and a robot and the whole Speed Demon sequence. Also, the director must have had the patience of a saint when it came to filming the kiddy Bad sequence as usually directors hate working with one kid let alone a whole bunch of them performing a complex dance scene.<br /><br />Bottom line, this movie is for people who like MJ on one level or another (which i think is most people). If not, then stay away. It does try and give off a wholesome message and ironically MJ\\'s bestest buddy in this movie is a girl! Michael Jackson is truly one of the most talented people ever to grace this planet but is he guilty? Well, with all the attention i\\'ve gave this subject....hmmm well i don\\'t know because people can be different behind closed doors, i know this for a fact. He is either an extremely nice but stupid guy or one of the most sickest liars. I hope he is not the latter.\"'"
      ]
     },
     "execution_count": 8,
     "metadata": {},
     "output_type": "execute_result"
    }
   ],
   "source": [
    "df['review'].loc[0]"
   ]
  },
  {
   "cell_type": "code",
   "execution_count": 9,
   "metadata": {
    "collapsed": false
   },
   "outputs": [
    {
     "name": "stdout",
     "output_type": "stream",
     "text": [
      "25000\n",
      "25000\n"
     ]
    }
   ],
   "source": [
    "print len(df)\n",
    "print df[\"review\"].size"
   ]
  },
  {
   "cell_type": "code",
   "execution_count": 10,
   "metadata": {
    "collapsed": true
   },
   "outputs": [],
   "source": [
    "df.columns = ['id', 'boolean_label', 'abstract']"
   ]
  },
  {
   "cell_type": "code",
   "execution_count": 11,
   "metadata": {
    "collapsed": false
   },
   "outputs": [
    {
     "data": {
      "text/html": [
       "<div>\n",
       "<table border=\"1\" class=\"dataframe\">\n",
       "  <thead>\n",
       "    <tr style=\"text-align: right;\">\n",
       "      <th></th>\n",
       "      <th>id</th>\n",
       "      <th>boolean_label</th>\n",
       "      <th>abstract</th>\n",
       "    </tr>\n",
       "  </thead>\n",
       "  <tbody>\n",
       "    <tr>\n",
       "      <th>0</th>\n",
       "      <td>\"5814_8\"</td>\n",
       "      <td>1</td>\n",
       "      <td>\"With all this stuff going down at the moment ...</td>\n",
       "    </tr>\n",
       "    <tr>\n",
       "      <th>1</th>\n",
       "      <td>\"2381_9\"</td>\n",
       "      <td>1</td>\n",
       "      <td>\"\\\"The Classic War of the Worlds\\\" by Timothy ...</td>\n",
       "    </tr>\n",
       "  </tbody>\n",
       "</table>\n",
       "</div>"
      ],
      "text/plain": [
       "         id  boolean_label                                           abstract\n",
       "0  \"5814_8\"              1  \"With all this stuff going down at the moment ...\n",
       "1  \"2381_9\"              1  \"\\\"The Classic War of the Worlds\\\" by Timothy ..."
      ]
     },
     "execution_count": 11,
     "metadata": {},
     "output_type": "execute_result"
    }
   ],
   "source": [
    "df[0:2]"
   ]
  },
  {
   "cell_type": "markdown",
   "metadata": {},
   "source": [
    "### Check label distribution"
   ]
  },
  {
   "cell_type": "code",
   "execution_count": 12,
   "metadata": {
    "collapsed": false
   },
   "outputs": [
    {
     "name": "stdout",
     "output_type": "stream",
     "text": [
      "12500\n",
      "12500\n"
     ]
    }
   ],
   "source": [
    "#we are concerned about rating\n",
    "print len(df.loc[df['boolean_label'] == 1])\n",
    "print len(df.loc[df['boolean_label'] == 0])"
   ]
  },
  {
   "cell_type": "markdown",
   "metadata": {},
   "source": [
    "### Apply Word2Vec Inversion to get sentence scores"
   ]
  },
  {
   "cell_type": "code",
   "execution_count": 13,
   "metadata": {
    "collapsed": true
   },
   "outputs": [],
   "source": [
    "\"\"\"\n",
    "docprob takes two lists\n",
    "* docs: a list of documents, each of which is a list of sentences\n",
    "* models: the candidate word2vec models (each potential class)\n",
    "\n",
    "it returns the array of class probabilities.  Everything is done in-memory.\n",
    "\"\"\"\n",
    "\n",
    "def docprobsentences(docs, mods):\n",
    "    # score() takes a list [s] of sentences here; could also be a sentence generator\n",
    "    sentlist = [s for d in docs for s in d]\n",
    "    # the log likelihood of each sentence in this review under each w2v representation\n",
    "    llhd = np.array( [ m.score(sentlist, len(sentlist)) for m in mods ] )\n",
    "    # now exponentiate to get likelihoods, \n",
    "    lhd = np.exp(llhd - llhd.max(axis=0)) # subtract row max to avoid numeric overload\n",
    "    # normalize across models (stars) to get sentence-star probabilities\n",
    "    #all this transposing business does is make it so the total probability of a word \n",
    "    #   equals 1 between the 2 arrays (positive prob and negative).\n",
    "    #and the pandas data frame just puts everything into rows/columns format for easy viz\n",
    "    prob = pd.DataFrame( (lhd/lhd.sum(axis=0)).transpose() )\n",
    "    # and finally average the sentence probabilities to get the review probability\n",
    "    prob[\"doc\"] = [i for i,d in enumerate(docs) for s in d]\n",
    "    #prob = prob.groupby(\"doc\").mean()\n",
    "    return prob"
   ]
  },
  {
   "cell_type": "code",
   "execution_count": 31,
   "metadata": {
    "collapsed": true
   },
   "outputs": [],
   "source": [
    "import numpy as np\n",
    "\n",
    "def getFeatures(probssentences_train, train1):\n",
    "    features = np.zeros((np.unique(probssentences_train[\"doc\"]).shape[0],11))\n",
    "    label = []\n",
    "    for doc in np.unique(probssentences_train[\"doc\"]):\n",
    "        inx = np.where(probssentences_train[\"doc\"] == doc)[0]\n",
    "        subset = probssentences_train[0].iloc[inx]\n",
    "        score = train1['boolean_label'].iloc[doc]\n",
    "        label.append(score)\n",
    "\n",
    "        inxFirst = inx[0]\n",
    "        inxLast = inx[-1]\n",
    "\n",
    "        features[doc,0] = np.mean(subset) #mean of scores\n",
    "        features[doc,1] = np.min(subset) #min score\n",
    "        features[doc,2] = np.max(subset) #max score\n",
    "        features[doc,3] = np.std(subset) #stdev of scores\n",
    "        features[doc,4] = probssentences_train[0].iloc[inxFirst] #score of first sentence\n",
    "        features[doc,5] = probssentences_train[0].iloc[inxLast] #score of last sentences\n",
    "        features[doc,6] = len(subset) #number of sentences\n",
    "        features[doc,7] = np.mean(                               #sigmoid (with k = 10)\n",
    "                            1./(1+np.exp(-10*\n",
    "                               subset.astype(float)-0.5 ))) \n",
    "        features[doc,8] = np.mean(                               #sigmoid (with k = 20)\n",
    "                            1./(1+np.exp(-20*\n",
    "                               subset.astype(float)-0.5 )))\n",
    "        features[doc,9] = np.argmin(subset)-inxFirst #position of min score\n",
    "        features[doc,10] = np.argmax(subset)-inxFirst #position of max score\n",
    "    \n",
    "    return (features, label)"
   ]
  },
  {
   "cell_type": "code",
   "execution_count": 32,
   "metadata": {
    "collapsed": true
   },
   "outputs": [],
   "source": [
    "def buildModels(train1, test1, docs, docsTrain, basemodel, label):\n",
    "    \n",
    "    \n",
    "    # ****** Split the labeled training set into clean sentences\n",
    "    #\n",
    "    sentences_pos = []  # Initialize an empty list of sentences\n",
    "    sentences_neg = []  # Initialize an empty list of sentences\n",
    "\n",
    "    inxs_pos = np.where(train1[\"boolean_label\"] == 1)[0].tolist()\n",
    "    inxs_neg = np.where(train1[\"boolean_label\"] == 0)[0].tolist()\n",
    "\n",
    "    print \"Parsing sentences from training set\"\n",
    "    for inx in inxs_pos:\n",
    "        review = train1[\"abstract\"].iloc[inx]\n",
    "        sentences_pos += KaggleWord2VecUtility.review_to_sentences(review, tokenizer)\n",
    "\n",
    "    for inx in inxs_neg:\n",
    "        review = train1[\"abstract\"].iloc[inx]\n",
    "        sentences_neg += KaggleWord2VecUtility.review_to_sentences(review, tokenizer)    \n",
    "\n",
    "    models = [deepcopy(basemodel) for i in range(2)]\n",
    "    models[0].train(sentences_neg, total_examples=len(sentences_neg) )\n",
    "    models[1].train(sentences_pos, total_examples=len(sentences_pos) )\n",
    "\n",
    "    print \"scoring test set\"\n",
    "    # get the probs (note we give docprob our test set plus the models)\n",
    "    probssentencesArticle = docprobsentences(docs,models).astype(object)\n",
    "\n",
    "    probssentences_train = docprobsentences(docsTrain,models).astype(object)\n",
    "        \n",
    "    #step 1- get training features\n",
    "    obj = getFeatures(probssentences_train, train1)\n",
    "    features = obj[0]\n",
    "    label = obj[1]\n",
    "\n",
    "    #step 2- build decision tree\n",
    "    clf = tree.DecisionTreeClassifier(random_state=10, min_samples_leaf=1000)\n",
    "    clf = clf.fit(features, label)\n",
    "\n",
    "    print \"decision tree performance on self\"\n",
    "    resultTrain = clf.predict(features)\n",
    "\n",
    "    print roc_auc_score(label, resultTrain)\n",
    "\n",
    "    #step 3- build random forest\n",
    "\n",
    "    forest = RandomForestClassifier(random_state=10)\n",
    "    forest = forest.fit( features, label )\n",
    "\n",
    "    print \"random forest performance on self\"\n",
    "    resultTrainRF = forest.predict(features)\n",
    "    print roc_auc_score(label, resultTrainRF)\n",
    "\n",
    "    #step 4- get test features\n",
    "    test = getFeatures(probssentencesArticle, test1)\n",
    "    featuresT = test[0]\n",
    "    labelsT = test[1]\n",
    "\n",
    "    #step 5- get test set performance on decision tree \n",
    "    result = clf.predict(featuresT)\n",
    "    scoreDT = roc_auc_score(labelsT, result)\n",
    "\n",
    "    #step 6- get test set performance on random forest\n",
    "    clf2 = forest.predict(featuresT)\n",
    "    scoreRF = roc_auc_score(labelsT, clf2)\n",
    "    \n",
    "    return scoreDT, scoreRF, models, probssentencesArticle, probssentences_train, clf, forest, features, featuresT"
   ]
  },
  {
   "cell_type": "code",
   "execution_count": 34,
   "metadata": {
    "collapsed": false
   },
   "outputs": [
    {
     "name": "stdout",
     "output_type": "stream",
     "text": [
      "('ROUND', 1)\n",
      "Parsing sentences from unlabeled set\n",
      "Building and training w2v models\n",
      "Parsing sentences from test set\n",
      "Scoring test set\n",
      "Parsing sentences from training set\n",
      "scoring test set\n",
      "decision tree performance on self\n",
      "0.97345\n",
      "random forest performance on self\n",
      "0.998\n",
      "0.8794\n",
      "0.881\n",
      "('ROUND', 2)\n",
      "Parsing sentences from unlabeled set\n",
      "Building and training w2v models\n",
      "Parsing sentences from test set\n",
      "Scoring test set\n",
      "Parsing sentences from training set\n",
      "scoring test set\n",
      "decision tree performance on self\n",
      "0.9723\n",
      "random forest performance on self\n",
      "0.99735\n",
      "0.8778\n",
      "0.881\n",
      "('ROUND', 3)\n",
      "Parsing sentences from unlabeled set\n",
      "Building and training w2v models\n",
      "Parsing sentences from test set\n",
      "Scoring test set\n",
      "Parsing sentences from training set\n",
      "scoring test set\n",
      "decision tree performance on self\n",
      "0.97255\n",
      "random forest performance on self\n",
      "0.99765\n",
      "0.889\n",
      "0.8874\n",
      "('ROUND', 4)\n",
      "Parsing sentences from unlabeled set\n",
      "Building and training w2v models\n",
      "Parsing sentences from test set\n",
      "Scoring test set\n",
      "Parsing sentences from training set\n",
      "scoring test set\n",
      "decision tree performance on self\n",
      "0.97325\n",
      "random forest performance on self\n",
      "0.9978\n",
      "0.879\n",
      "0.8814\n",
      "('ROUND', 5)\n",
      "Parsing sentences from unlabeled set\n",
      "Building and training w2v models\n",
      "Parsing sentences from test set\n",
      "Scoring test set\n",
      "Parsing sentences from training set\n",
      "scoring test set\n",
      "decision tree performance on self\n",
      "0.97265\n",
      "random forest performance on self\n",
      "0.99715\n",
      "0.874\n",
      "0.8808\n",
      "\n",
      "---------------------------------------------------------------------------------\n",
      "\n",
      "DECISION TREE\n",
      "Average:\n",
      "0.87984\n",
      "\n",
      "---------------------------------------------------------------------------------\n",
      "\n",
      "RANDOM FOREST\n",
      "Average:\n",
      "0.88232\n",
      "1:16:21\n"
     ]
    }
   ],
   "source": [
    "a = datetime.datetime.now().replace(microsecond=0)\n",
    "\n",
    "y = df['boolean_label'].values\n",
    "skf = StratifiedKFold(y, n_folds=5, shuffle=True, random_state=10)\n",
    "\n",
    "i = 1\n",
    "avgDT = []\n",
    "avgRF = []\n",
    "\n",
    "for train_index, test_index in skf:\n",
    "\n",
    "    print(\"ROUND\", i)\n",
    "    i = i + 1\n",
    "    #use the indexes to subset the df pandas dataframe\n",
    "    train1, test1 = df.iloc[train_index], df.iloc[test_index]\n",
    "    \n",
    "    # ****** Split the labeled and unlabeled training sets into clean sentences\n",
    "    #\n",
    "    sentences = []  # Initialize an empty list of sentences\n",
    "    docsTrain = []\n",
    "    for review in train1[\"abstract\"]:\n",
    "        result = KaggleWord2VecUtility.review_to_sentences(review, tokenizer)\n",
    "        sentences += result\n",
    "        docsTrain.append(result)\n",
    "    \n",
    "    #unlabeled sentences only go into sentences[], not docsTrain[] because have no labels\n",
    "    print \"Parsing sentences from unlabeled set\"\n",
    "    for review in unlabeled_train[\"review\"]:\n",
    "        result = KaggleWord2VecUtility.review_to_sentences(review, tokenizer)\n",
    "        sentences += result\n",
    "\n",
    "    print \"Building and training w2v models\"\n",
    "    ## create a w2v learner \n",
    "    basemodel = Word2Vec(\n",
    "        workers=multiprocessing.cpu_count(), # use your cores\n",
    "        iter=3, # iter = sweeps of SGD through the data; more is better\n",
    "        hs=1, negative=0 # we only have scoring for the hierarchical softmax setup\n",
    "        )\n",
    "    basemodel.build_vocab(sentences) \n",
    "\n",
    "    print \"Parsing sentences from test set\"\n",
    "    # read in the test set as a list of a list of words\n",
    "    docs = []\n",
    "    for review in test1[\"abstract\"]:\n",
    "        docs.append(KaggleWord2VecUtility.review_to_sentences(review, tokenizer))\n",
    "\n",
    "    print \"Scoring test set\"\n",
    "    tup1 = buildModels(train1, test1, docs, docsTrain, basemodel, 1)\n",
    "    scoreDT_1 = tup1[0]\n",
    "    scoreRF_1 = tup1[1]\n",
    "    print scoreDT_1\n",
    "    print scoreRF_1\n",
    "    avgDT.append(scoreDT_1)\n",
    "    avgRF.append(scoreRF_1)\n",
    "    models1 = tup1[2]\n",
    "    ps_test1 = tup1[3]\n",
    "    ps_train1 = tup1[4]\n",
    "    clf1 = tup1[5]\n",
    "    forest1 = tup1[6]\n",
    "    features1 = tup1[7]\n",
    "    featuresT1 = tup1[8]\n",
    "    #(scoreDT, scoreRF, models, probssentencesArticle, probssentences_train, clf, forest, features, featuresT)\n",
    "    \n",
    "    if i == 5:\n",
    "        pickle.dump(features1, open('/mnt/mypartition/reproducing_methods/pickled_objects/features_train_movie_reviews.p', 'wb'))\n",
    "        pickle.dump(featuresT1, open('/mnt/mypartition/reproducing_methods/pickled_objects/features_test_movie_reviews.p', 'wb'))\n",
    "        pickle.dump(ps_test1, open('/mnt/mypartition/reproducing_methods/pickled_objects/probssentences_test_movie_reviews.p', 'wb'))\n",
    "        pickle.dump(ps_train1, open('/mnt/mypartition/reproducing_methods/pickled_objects/probssentences_train_movie_reviews.p', 'wb'))\n",
    "print \"\"\n",
    "print \"---------------------------------------------------------------------------------\"\n",
    "print \"\"\n",
    "print \"DECISION TREE\"\n",
    "print \"Average:\"\n",
    "print sum(avgDT) / float(len(avgDT))\n",
    "\n",
    "print \"\"\n",
    "print \"---------------------------------------------------------------------------------\"\n",
    "print \"\"\n",
    "print \"RANDOM FOREST\"\n",
    "print \"Average:\"\n",
    "print sum(avgRF) / float(len(avgRF))\n",
    "    \n",
    "b = datetime.datetime.now().replace(microsecond=0)\n",
    "print(b-a)"
   ]
  },
  {
   "cell_type": "code",
   "execution_count": null,
   "metadata": {
    "collapsed": false
   },
   "outputs": [],
   "source": []
  },
  {
   "cell_type": "code",
   "execution_count": null,
   "metadata": {
    "collapsed": true
   },
   "outputs": [],
   "source": [
    "\n"
   ]
  },
  {
   "cell_type": "code",
   "execution_count": null,
   "metadata": {
    "collapsed": true
   },
   "outputs": [],
   "source": []
  },
  {
   "cell_type": "code",
   "execution_count": null,
   "metadata": {
    "collapsed": true
   },
   "outputs": [],
   "source": []
  },
  {
   "cell_type": "code",
   "execution_count": null,
   "metadata": {
    "collapsed": true
   },
   "outputs": [],
   "source": []
  },
  {
   "cell_type": "code",
   "execution_count": null,
   "metadata": {
    "collapsed": true
   },
   "outputs": [],
   "source": []
  },
  {
   "cell_type": "code",
   "execution_count": null,
   "metadata": {
    "collapsed": true
   },
   "outputs": [],
   "source": []
  },
  {
   "cell_type": "code",
   "execution_count": null,
   "metadata": {
    "collapsed": true
   },
   "outputs": [],
   "source": []
  },
  {
   "cell_type": "code",
   "execution_count": null,
   "metadata": {
    "collapsed": true
   },
   "outputs": [],
   "source": []
  },
  {
   "cell_type": "code",
   "execution_count": null,
   "metadata": {
    "collapsed": true
   },
   "outputs": [],
   "source": []
  },
  {
   "cell_type": "code",
   "execution_count": null,
   "metadata": {
    "collapsed": true
   },
   "outputs": [],
   "source": []
  },
  {
   "cell_type": "code",
   "execution_count": 16,
   "metadata": {
    "collapsed": false
   },
   "outputs": [],
   "source": [
    "import re\n",
    "import nltk\n",
    "\n",
    "import pandas as pd\n",
    "import numpy as np\n",
    "\n",
    "from bs4 import BeautifulSoup\n",
    "from nltk.corpus import stopwords\n",
    "\n",
    "\n",
    "class KaggleWord2VecUtility(object):\n",
    "    \"\"\"KaggleWord2VecUtility is a utility class for processing raw HTML text into segments for further learning\"\"\"\n",
    "\n",
    "    @staticmethod\n",
    "    def review_to_wordlist( review, remove_stopwords=False ):\n",
    "        # Function to convert a document to a sequence of words,\n",
    "        # optionally removing stop words.  Returns a list of words.\n",
    "        #\n",
    "        # 1. Remove HTML\n",
    "        review_text = BeautifulSoup(review).get_text()\n",
    "        #\n",
    "        # 2. Remove non-letters\n",
    "        review_text = re.sub(\"[^a-zA-Z]\",\" \", review_text)\n",
    "        #\n",
    "        # 3. Convert words to lower case and split them\n",
    "        words = review_text.lower().split()\n",
    "        #\n",
    "        # 4. Optionally remove stop words (false by default)\n",
    "        if remove_stopwords:\n",
    "            stops = set(stopwords.words(\"english\"))\n",
    "            words = [w for w in words if not w in stops]\n",
    "        #\n",
    "        # 5. Return a list of words\n",
    "        return(words)\n",
    "    \n",
    "    @staticmethod\n",
    "    def review_to_words( review, remove_stopwords=False ):\n",
    "        # Function to convert a raw review to a string of words\n",
    "        # The input is a single string (a raw movie review), and \n",
    "        # the output is a single string (a preprocessed movie review)\n",
    "        #\n",
    "        # 1. Remove HTML\n",
    "        review_text = BeautifulSoup(review).get_text() \n",
    "        #\n",
    "        # 2. Remove non-letters        \n",
    "        review_text = re.sub(\"[^a-zA-Z]\", \" \", review_text) \n",
    "        #\n",
    "        # 3. Convert to lower case, split into individual words\n",
    "        words = review_text.lower().split()                             \n",
    "        #\n",
    "        # 4. Optionally remove stop words (false by default)\n",
    "        if remove_stopwords:\n",
    "            stops = set(stopwords.words(\"english\"))\n",
    "            words = [w for w in words if not w in stops]   \n",
    "        #\n",
    "        # 6. Join the words back into one string separated by space, \n",
    "        # and return the result.\n",
    "        return( \" \".join( words ))   \n",
    "\n",
    "    # Define a function to split a review into parsed sentences\n",
    "    @staticmethod\n",
    "    def review_to_sentences( review, tokenizer, remove_stopwords=False ):\n",
    "        # Function to split a review into parsed sentences. Returns a\n",
    "        # list of sentences, where each sentence is a list of words\n",
    "        #\n",
    "        # 1. Use the NLTK tokenizer to split the paragraph into sentences\n",
    "        raw_sentences = tokenizer.tokenize(review.decode('utf8').strip())\n",
    "        #\n",
    "        # 2. Loop over each sentence\n",
    "        sentences = []\n",
    "        for raw_sentence in raw_sentences:\n",
    "            # If a sentence is empty, skip it\n",
    "            if len(raw_sentence) > 0:\n",
    "                # Otherwise, call review_to_wordlist to get a list of words\n",
    "                sentences.append( KaggleWord2VecUtility.review_to_wordlist( raw_sentence, \\\n",
    "                  remove_stopwords ))\n",
    "        #\n",
    "        # Return the list of sentences (each sentence is a list of words,\n",
    "        # so this returns a list of lists\n",
    "        return sentences"
   ]
  }
 ],
 "metadata": {
  "anaconda-cloud": {},
  "kernelspec": {
   "display_name": "Python [conda root]",
   "language": "python",
   "name": "conda-root-py"
  },
  "language_info": {
   "codemirror_mode": {
    "name": "ipython",
    "version": 2
   },
   "file_extension": ".py",
   "mimetype": "text/x-python",
   "name": "python",
   "nbconvert_exporter": "python",
   "pygments_lexer": "ipython2",
   "version": "2.7.12"
  }
 },
 "nbformat": 4,
 "nbformat_minor": 0
}
