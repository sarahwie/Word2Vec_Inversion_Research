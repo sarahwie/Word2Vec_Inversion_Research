{
 "cells": [
  {
   "cell_type": "markdown",
   "metadata": {},
   "source": [
    "### Fixed bug-- rerun and see if matrices changing"
   ]
  },
  {
   "cell_type": "code",
   "execution_count": 5,
   "metadata": {
    "collapsed": false
   },
   "outputs": [
    {
     "name": "stderr",
     "output_type": "stream",
     "text": [
      "/nlp-vm/anaconda2/lib/python2.7/site-packages/gensim/utils.py:1015: UserWarning: Pattern library is not installed, lemmatization won't be available.\n",
      "  warnings.warn(\"Pattern library is not installed, lemmatization won't be available.\")\n"
     ]
    }
   ],
   "source": [
    "import pickle\n",
    "import os\n",
    "import sys\n",
    "import datetime\n",
    "import pandas as pd\n",
    "import numpy as np\n",
    "import nltk.data\n",
    "from gensim.models import Word2Vec\n",
    "import multiprocessing\n",
    "from copy import deepcopy\n",
    "from sklearn.metrics import roc_auc_score    \n",
    "from sklearn.cross_validation import StratifiedKFold\n",
    "import array"
   ]
  },
  {
   "cell_type": "code",
   "execution_count": 6,
   "metadata": {
    "collapsed": true
   },
   "outputs": [],
   "source": [
    "np.random.seed(10)"
   ]
  },
  {
   "cell_type": "code",
   "execution_count": 7,
   "metadata": {
    "collapsed": true
   },
   "outputs": [],
   "source": [
    "import os.path\n",
    "sys.path.append(os.path.expanduser('~/code/eol_hsrl_python'))\n",
    "os.environ['PYTHONHASHSEED']='10'\n",
    "#is this working?? no idea"
   ]
  },
  {
   "cell_type": "code",
   "execution_count": 8,
   "metadata": {
    "collapsed": true
   },
   "outputs": [],
   "source": [
    "# Load the punkt tokenizer\n",
    "tokenizer = nltk.data.load('tokenizers/punkt/english.pickle')"
   ]
  },
  {
   "cell_type": "markdown",
   "metadata": {},
   "source": [
    "### Read in datafile"
   ]
  },
  {
   "cell_type": "code",
   "execution_count": 9,
   "metadata": {
    "collapsed": false
   },
   "outputs": [],
   "source": [
    "# Read data from files\n",
    "df = pd.read_csv( 'labeledTrainData.tsv', header=0, delimiter=\"\\t\", quoting=3 )\n",
    "unlabeled_train = pd.read_csv( \"unlabeledTrainData.tsv\", header=0,  delimiter=\"\\t\", quoting=3 )"
   ]
  },
  {
   "cell_type": "code",
   "execution_count": 10,
   "metadata": {
    "collapsed": true
   },
   "outputs": [],
   "source": [
    "df.columns = ['id', 'boolean_label', 'abstract']"
   ]
  },
  {
   "cell_type": "markdown",
   "metadata": {},
   "source": [
    "### Word2Vec Algorithm"
   ]
  },
  {
   "cell_type": "code",
   "execution_count": 13,
   "metadata": {
    "collapsed": false
   },
   "outputs": [
    {
     "name": "stdout",
     "output_type": "stream",
     "text": [
      "('ROUND', 1)\n"
     ]
    },
    {
     "name": "stderr",
     "output_type": "stream",
     "text": [
      "/nlp-vm/anaconda2/lib/python2.7/site-packages/bs4/__init__.py:181: UserWarning: No parser was explicitly specified, so I'm using the best available HTML parser for this system (\"lxml\"). This usually isn't a problem, but if you run this code on another system, or in a different virtual environment, it may use a different parser and behave differently.\n",
      "\n",
      "The code that caused this warning is on line 174 of the file /nlp-vm/anaconda2/lib/python2.7/runpy.py. To get rid of this warning, change code that looks like this:\n",
      "\n",
      " BeautifulSoup([your markup])\n",
      "\n",
      "to this:\n",
      "\n",
      " BeautifulSoup([your markup], \"lxml\")\n",
      "\n",
      "  markup_type=markup_type))\n",
      "/nlp-vm/anaconda2/lib/python2.7/site-packages/bs4/__init__.py:219: UserWarning: \".\" looks like a filename, not markup. You shouldprobably open this file and pass the filehandle intoBeautiful Soup.\n",
      "  'Beautiful Soup.' % markup)\n",
      "/nlp-vm/anaconda2/lib/python2.7/site-packages/bs4/__init__.py:282: UserWarning: \"http://www.happierabroad.com\"\" looks like a URL. Beautiful Soup is not an HTTP client. You should probably use an HTTP client like requests to get the document behind the URL, and feed that document to Beautiful Soup.\n",
      "  ' that document to Beautiful Soup.' % decoded_markup\n"
     ]
    },
    {
     "name": "stdout",
     "output_type": "stream",
     "text": [
      "Parsing sentences from unlabeled set\n"
     ]
    },
    {
     "name": "stderr",
     "output_type": "stream",
     "text": [
      "/nlp-vm/anaconda2/lib/python2.7/site-packages/bs4/__init__.py:282: UserWarning: \"http://www.archive.org/details/LovefromaStranger\"\" looks like a URL. Beautiful Soup is not an HTTP client. You should probably use an HTTP client like requests to get the document behind the URL, and feed that document to Beautiful Soup.\n",
      "  ' that document to Beautiful Soup.' % decoded_markup\n",
      "/nlp-vm/anaconda2/lib/python2.7/site-packages/bs4/__init__.py:282: UserWarning: \"http://www.loosechangeguide.com/LooseChangeGuide.html\"\" looks like a URL. Beautiful Soup is not an HTTP client. You should probably use an HTTP client like requests to get the document behind the URL, and feed that document to Beautiful Soup.\n",
      "  ' that document to Beautiful Soup.' % decoded_markup\n",
      "/nlp-vm/anaconda2/lib/python2.7/site-packages/bs4/__init__.py:282: UserWarning: \"http://www.msnbc.msn.com/id/4972055/site/newsweek/\"\" looks like a URL. Beautiful Soup is not an HTTP client. You should probably use an HTTP client like requests to get the document behind the URL, and feed that document to Beautiful Soup.\n",
      "  ' that document to Beautiful Soup.' % decoded_markup\n",
      "/nlp-vm/anaconda2/lib/python2.7/site-packages/bs4/__init__.py:219: UserWarning: \"..\" looks like a filename, not markup. You shouldprobably open this file and pass the filehandle intoBeautiful Soup.\n",
      "  'Beautiful Soup.' % markup)\n",
      "/nlp-vm/anaconda2/lib/python2.7/site-packages/bs4/__init__.py:282: UserWarning: \"http://www.youtube.com/watch?v=a0KSqelmgN8\"\" looks like a URL. Beautiful Soup is not an HTTP client. You should probably use an HTTP client like requests to get the document behind the URL, and feed that document to Beautiful Soup.\n",
      "  ' that document to Beautiful Soup.' % decoded_markup\n",
      "/nlp-vm/anaconda2/lib/python2.7/site-packages/bs4/__init__.py:282: UserWarning: \"http://jake-weird.blogspot.com/2007/08/beneath.html\"\" looks like a URL. Beautiful Soup is not an HTTP client. You should probably use an HTTP client like requests to get the document behind the URL, and feed that document to Beautiful Soup.\n",
      "  ' that document to Beautiful Soup.' % decoded_markup\n"
     ]
    },
    {
     "name": "stdout",
     "output_type": "stream",
     "text": [
      "Building and training w2v models\n",
      "0:09:02\n"
     ]
    }
   ],
   "source": [
    "a = datetime.datetime.now().replace(microsecond=0)\n",
    "\n",
    "y = df['boolean_label'].values\n",
    "\n",
    "#set random state\n",
    "skf = StratifiedKFold(y, n_folds=5, shuffle=True, random_state=10)\n",
    "\n",
    "i = 1\n",
    "for train_index, test_index in skf:\n",
    "\n",
    "    if i == 1:\n",
    "        \n",
    "        print(\"ROUND\", i)\n",
    "        i = i + 1\n",
    "        #use the indexes to subset the df pandas dataframe\n",
    "        train1, test1 = df.iloc[train_index], df.iloc[test_index]\n",
    "\n",
    "        sentences = []  # Initialize an empty list of sentences\n",
    "        for j in range(len(train1)):\n",
    "            review = train1['abstract'].iloc[j]\n",
    "            sentences += KaggleWord2VecUtility.review_to_sentences(review, tokenizer)\n",
    "\n",
    "        print \"Parsing sentences from unlabeled set\"\n",
    "        for review in unlabeled_train[\"review\"]:\n",
    "            sentences += KaggleWord2VecUtility.review_to_sentences(review, tokenizer)\n",
    "\n",
    "        print \"Building and training w2v models\"\n",
    "        ## create a w2v learner \n",
    "        basemodel = Word2Vec(\n",
    "            workers=multiprocessing.cpu_count(), # use your cores\n",
    "            iter=3, # iter = sweeps of SGD through the data; more is better\n",
    "            hs=1, negative=0 # we only have scoring for the hierarchical softmax setup\n",
    "            )\n",
    "        basemodel.build_vocab(sentences) \n",
    "        \n",
    "        # ****** Split the training set into clean sentences\n",
    "        #\n",
    "        sentences_pos = []  # Initialize an empty list of sentences\n",
    "        sentences_neg = []  # Initialize an empty list of sentences\n",
    "\n",
    "        #here change to include all journal name labels of positive and negative\n",
    "        inxs_pos = np.where(train1['boolean_label'] == 1)[0].tolist()\n",
    "        inxs_neg = np.where(train1['boolean_label'] == 0)[0].tolist()\n",
    "\n",
    "        for inx in inxs_pos:\n",
    "            review = train1[\"abstract\"].iloc[inx]\n",
    "            sentences_pos += KaggleWord2VecUtility.review_to_sentences(review, tokenizer)\n",
    "\n",
    "        for inx in inxs_neg:\n",
    "            review = train1[\"abstract\"].iloc[inx]\n",
    "            sentences_neg += KaggleWord2VecUtility.review_to_sentences(review, tokenizer)\n",
    "\n",
    "        #train models\n",
    "        models = [deepcopy(basemodel) for y in range(2)]\n",
    "        models[0].train(sentences_neg, total_examples=len(sentences_neg) )\n",
    "        models[1].train(sentences_pos, total_examples=len(sentences_pos) )\n",
    "    \n",
    "b = datetime.datetime.now().replace(microsecond=0)\n",
    "print(b-a)"
   ]
  },
  {
   "cell_type": "code",
   "execution_count": null,
   "metadata": {
    "collapsed": true
   },
   "outputs": [],
   "source": []
  },
  {
   "cell_type": "code",
   "execution_count": 49,
   "metadata": {
    "collapsed": true
   },
   "outputs": [],
   "source": [
    "#sources\n",
    "# https://radimrehurek.com/gensim/models/word2vec.html\n",
    "# https://groups.google.com/forum/#!topic/gensim/wF3pqnMBptM\n",
    "# https://rare-technologies.com/word2vec-tutorial/\n",
    "# http://benjaminbolte.com/blog/2016/keras-gensim-embeddings.html\n",
    "# http://qua.st/handcoding-neural-network\n",
    "# http://iamtrask.github.io/2015/07/12/basic-python-network/"
   ]
  },
  {
   "cell_type": "markdown",
   "metadata": {},
   "source": [
    "## Exploratory finding/getting weight matrices"
   ]
  },
  {
   "cell_type": "code",
   "execution_count": 28,
   "metadata": {
    "collapsed": false
   },
   "outputs": [
    {
     "name": "stdout",
     "output_type": "stream",
     "text": [
      "<type 'dict'>\n"
     ]
    }
   ],
   "source": [
    "print type(models[0].vocab)"
   ]
  },
  {
   "cell_type": "code",
   "execution_count": 36,
   "metadata": {
    "collapsed": false
   },
   "outputs": [
    {
     "name": "stdout",
     "output_type": "stream",
     "text": [
      "[u'fawn', u'nunnery', u'sonja', u'askew', u'woods', u'spiders', u'seifer', u'francesco', u'woody', u'comically']\n",
      "45848\n",
      "<type 'list'>\n"
     ]
    }
   ],
   "source": [
    "#get vocab of model\n",
    "myList = []\n",
    "for key in models[0].vocab:\n",
    "    myList.append(key)\n",
    "print myList[0:10]\n",
    "print len(myList)\n",
    "print type(myList)\n"
   ]
  },
  {
   "cell_type": "code",
   "execution_count": 34,
   "metadata": {
    "collapsed": false
   },
   "outputs": [
    {
     "name": "stdout",
     "output_type": "stream",
     "text": [
      "[u'a', u'aa', u'aaa', u'aaab', u'aaargh', u'aag', u'aaja', u'aames', u'aamir', u'aandhi']\n"
     ]
    }
   ],
   "source": [
    "myList.sort()\n",
    "print myList[0:10]"
   ]
  },
  {
   "cell_type": "code",
   "execution_count": 37,
   "metadata": {
    "collapsed": false
   },
   "outputs": [
    {
     "name": "stdout",
     "output_type": "stream",
     "text": [
      "[u'fawn', u'nunnery', u'sonja', u'askew', u'woods', u'spiders', u'seifer', u'francesco', u'woody', u'comically']\n",
      "[u'sheri', u'upholds', u'grandiosity', u'cronyn', u'rotting', u'hardboiled', u'emery', u'squeaking', u'expands', u'untalented']\n",
      "45848\n"
     ]
    }
   ],
   "source": [
    "myList = []\n",
    "for key in models[1].vocab:\n",
    "    myList.append(key)\n",
    "print myList[0:10]\n",
    "print myList[45838:45848]\n",
    "print len(myList)"
   ]
  },
  {
   "cell_type": "code",
   "execution_count": 25,
   "metadata": {
    "collapsed": false
   },
   "outputs": [
    {
     "name": "stdout",
     "output_type": "stream",
     "text": [
      "[[  2.88682848e-01  -6.84787333e-02   7.19660282e-01 ...,   6.88702106e-01\n",
      "    2.85346091e-01  -1.73179880e-02]\n",
      " [ -8.32004368e-01   3.07706803e-01  -4.17696267e-01 ...,  -6.03468418e-01\n",
      "    4.57414061e-01  -2.87811190e-01]\n",
      " [ -4.41641957e-01  -6.29356146e-01   3.11055422e-01 ...,   5.50690174e-01\n",
      "    1.26547515e-01  -1.55012548e-01]\n",
      " ..., \n",
      " [ -3.75039154e-03   3.18863429e-03  -3.25506344e-03 ...,   3.92392278e-03\n",
      "    3.96958878e-03  -2.97664339e-03]\n",
      " [  3.91525356e-03   2.19062567e-04  -4.26600454e-03 ...,   3.90417688e-03\n",
      "    3.08490521e-03   2.07365444e-03]\n",
      " [  1.21666503e-03   8.55820545e-04  -4.38107690e-03 ...,  -7.12921565e-06\n",
      "   -1.74750190e-03  -4.66067251e-03]]\n",
      "45848\n",
      "100\n"
     ]
    }
   ],
   "source": [
    "#negative model\n",
    "print models[0].syn0\n",
    "print len(models[0].syn0)\n",
    "print len(models[0].syn0[0])"
   ]
  },
  {
   "cell_type": "code",
   "execution_count": 56,
   "metadata": {
    "collapsed": false,
    "scrolled": true
   },
   "outputs": [
    {
     "name": "stdout",
     "output_type": "stream",
     "text": [
      "[[ 0.          0.          0.         ...,  0.          0.          0.        ]\n",
      " [ 0.00278263 -0.00460976  0.00608409 ..., -0.00094998  0.00658451\n",
      "  -0.00179398]\n",
      " [ 0.          0.          0.         ...,  0.          0.          0.        ]\n",
      " ..., \n",
      " [ 0.12184668 -0.13286938  0.15408094 ...,  0.15768768 -0.06730247\n",
      "   0.03437706]\n",
      " [ 0.25507295 -0.43136904  0.25583121 ...,  0.01798691 -0.06629085\n",
      "   0.04001892]\n",
      " [ 0.          0.          0.         ...,  0.          0.          0.        ]]\n",
      "45848\n",
      "100\n"
     ]
    }
   ],
   "source": [
    "print models[0].syn1\n",
    "print len(models[0].syn1)\n",
    "print len(models[0].syn1[0])"
   ]
  },
  {
   "cell_type": "code",
   "execution_count": 26,
   "metadata": {
    "collapsed": false
   },
   "outputs": [
    {
     "name": "stdout",
     "output_type": "stream",
     "text": [
      "[  2.88682848e-01  -6.84787333e-02   7.19660282e-01   3.27850021e-02\n",
      "  -7.02433050e-01   4.02776189e-02   6.40889525e-01  -1.96327060e-01\n",
      "  -5.43084085e-01  -5.47058702e-01  -1.20406307e-01   1.60259575e-01\n",
      "   1.21941364e+00  -1.81464091e-01   4.54297885e-02   9.86317620e-02\n",
      "  -1.33323431e-01  -3.07300180e-01  -3.88504118e-01  -1.53133303e-01\n",
      "   1.06022852e-02  -4.65012193e-01  -8.25424194e-02   8.80012810e-02\n",
      "  -2.63207734e-01   2.00721875e-01   1.82375029e-01  -1.88326985e-02\n",
      "  -6.86327294e-02   1.14784196e-01  -5.68298221e-01  -4.31157559e-01\n",
      "   7.09036469e-01   7.10079968e-02   5.08382380e-01  -3.84713322e-01\n",
      "  -8.89201105e-01   2.48976082e-01  -6.07578516e-01   2.74715573e-01\n",
      "  -8.39516759e-01   4.32502002e-01  -4.44599152e-01  -1.02357358e-01\n",
      "   2.01037303e-01  -4.11260545e-01   6.75538480e-01  -9.54390168e-02\n",
      "   2.44938776e-01  -1.84837356e-01  -3.10258538e-01  -1.05104136e+00\n",
      "   6.06923997e-01  -2.79553253e-02  -4.51465428e-01   1.19402039e+00\n",
      "   3.73420119e-01  -2.33446866e-01  -6.24390721e-01  -4.45228739e-04\n",
      "   1.44678488e-01   4.80785340e-01  -4.59338613e-02   1.28615320e-01\n",
      "  -1.34320974e-01   1.22087494e-01  -3.58581007e-01   2.00805143e-01\n",
      "   2.99142033e-01  -3.31659228e-01   2.34171942e-01  -2.73476839e-02\n",
      "  -9.01291311e-01  -6.44336283e-01  -2.29728788e-01   2.04536319e-03\n",
      "   7.26067543e-01  -4.05705363e-01   6.01946354e-01   6.60433412e-01\n",
      "  -4.46405739e-01  -4.26222026e-01  -7.82702148e-01   6.61316335e-01\n",
      "  -2.77233511e-01   5.02868474e-01  -4.08876210e-01  -4.54076290e-01\n",
      "   1.21388331e-01  -6.03380322e-04  -3.60146940e-01   3.23876500e-01\n",
      "  -7.01304555e-01   2.16500595e-01  -1.17232032e-01   1.12966287e+00\n",
      "  -6.26170278e-01   6.88702106e-01   2.85346091e-01  -1.73179880e-02]\n",
      "[-0.83200437  0.3077068  -0.41769627  0.17867732 -0.07664955  0.6888935\n",
      "  0.32085595 -0.18850867 -0.41416213 -0.22146365  0.50251055  0.60416049\n",
      " -0.42275685 -0.25050917 -0.0637811   0.50900167 -0.2289259  -0.48949179\n",
      "  0.28075784 -0.34158009  0.19458717 -0.28387174  0.35870668  0.65488136\n",
      "  0.13188076 -0.00674576  0.72864002 -0.00926481  0.04749995 -0.23436829\n",
      "  0.10422218  0.3731285  -0.17385696  0.35388395 -0.58925039 -0.64000171\n",
      "  0.82395977  0.42892963 -0.31324556 -0.10853766 -0.05461347 -0.13715142\n",
      " -0.28645152  0.19900121 -0.12994437 -0.299492    0.20181288  0.30753765\n",
      "  0.47704861  0.0898087  -0.5650472   0.12926629  0.11057749 -0.22836277\n",
      " -0.81126004  0.28291628  0.17320518 -0.06259234 -0.40344271 -0.47877243\n",
      " -0.59532601  0.43729654  0.82027328  0.03796307  0.1524694  -0.28827199\n",
      " -0.20623909 -0.23587202 -0.14101531 -0.14611857 -0.38872623 -0.21798119\n",
      " -0.30594847  0.11979705 -0.5879066  -0.16410235 -0.61268461 -0.02435289\n",
      "  0.1352592   0.404304    0.14348172  0.34282616  0.22891609  0.14806189\n",
      " -0.36823696 -0.66039938 -0.12518616  0.28441402 -0.38303557 -0.15564904\n",
      "  0.25667253 -0.04403795 -0.63320869  0.56040019  0.15793453  0.08698875\n",
      " -0.26565632 -0.60346842  0.45741406 -0.28781119]\n"
     ]
    }
   ],
   "source": [
    "print models[0].syn0[0]\n",
    "print models[0].syn0[1]"
   ]
  },
  {
   "cell_type": "code",
   "execution_count": 17,
   "metadata": {
    "collapsed": false
   },
   "outputs": [
    {
     "name": "stdout",
     "output_type": "stream",
     "text": [
      "[[  4.98815089e-01   4.54112887e-01   1.90876380e-01 ...,   3.36264133e-01\n",
      "    3.11656475e-01   4.79288436e-02]\n",
      " [ -3.55523050e-01  -7.05757290e-02  -2.27811784e-01 ...,   7.42246270e-01\n",
      "    1.22729525e-01   3.91686440e-01]\n",
      " [  7.11207017e-02   3.32382172e-01  -7.86043890e-03 ...,   9.69603896e-01\n",
      "   -5.06545961e-01  -1.87086910e-01]\n",
      " ..., \n",
      " [ -3.75039154e-03   3.18863429e-03  -3.25506344e-03 ...,   3.92392278e-03\n",
      "    3.96958878e-03  -2.97664339e-03]\n",
      " [  3.91525356e-03   2.19062567e-04  -4.26600454e-03 ...,   3.90417688e-03\n",
      "    3.08490521e-03   2.07365444e-03]\n",
      " [  2.29603741e-02   1.78182516e-02  -3.99268046e-03 ...,   5.15519409e-04\n",
      "    2.21150145e-02   1.48416404e-02]]\n"
     ]
    }
   ],
   "source": [
    "#positive model\n",
    "print models[1].syn0\n"
   ]
  },
  {
   "cell_type": "code",
   "execution_count": 18,
   "metadata": {
    "collapsed": false
   },
   "outputs": [
    {
     "name": "stdout",
     "output_type": "stream",
     "text": [
      "[[  0.00000000e+00   0.00000000e+00   0.00000000e+00 ...,   0.00000000e+00\n",
      "    0.00000000e+00   0.00000000e+00]\n",
      " [  2.32950598e-03   7.74592534e-03  -4.06939676e-03 ...,   4.83297696e-03\n",
      "    2.81180418e-03   4.33527678e-03]\n",
      " [ -2.94423808e-04  -8.35394021e-04   6.85739622e-04 ...,   4.39664203e-04\n",
      "   -1.03778881e-03  -2.46397394e-06]\n",
      " ..., \n",
      " [ -3.64709785e-03  -1.78354725e-01  -8.49982053e-02 ...,   2.58107662e-01\n",
      "   -1.48524955e-01  -1.48581639e-01]\n",
      " [ -5.08096665e-02  -2.66497135e-01   1.27625152e-01 ...,  -6.41564839e-03\n",
      "   -1.36887386e-01   2.66004186e-02]\n",
      " [  0.00000000e+00   0.00000000e+00   0.00000000e+00 ...,   0.00000000e+00\n",
      "    0.00000000e+00   0.00000000e+00]]\n"
     ]
    }
   ],
   "source": [
    "print models[1].syn1"
   ]
  },
  {
   "cell_type": "code",
   "execution_count": 35,
   "metadata": {
    "collapsed": false
   },
   "outputs": [
    {
     "name": "stdout",
     "output_type": "stream",
     "text": [
      "[-0.44164196 -0.62935615  0.31105542 -0.33523935 -0.24139914 -0.53366935\n",
      " -0.53589904 -0.49696487 -0.25657988 -0.04021372 -1.22061765 -0.31305772\n",
      "  0.12890463  0.2729125   0.12143371  0.14007525 -0.05346049  0.66174066\n",
      "  0.47774914  0.12089314  0.09315558  0.18877561  0.84103024  1.33529294\n",
      " -0.59099913  1.56823397  0.57884836 -0.33871248  1.25823879  1.10080755\n",
      "  0.61217248 -1.17162812  0.31816494  0.22903992  0.04204141  0.4474912\n",
      " -0.13435635 -1.12660885 -0.35122344 -0.09748978 -0.09457557  0.50334752\n",
      " -0.58668894  1.11167681  0.48572475 -0.28705376  1.19787383  0.55447316\n",
      "  1.11031842  0.28093967  0.55512363 -0.30721861  0.61725193  0.53885078\n",
      "  0.1092468   0.19194022  0.44241491 -0.20178223  0.44433135 -0.16264081\n",
      " -0.00451901  0.87856698  0.32355303 -0.78979981 -0.66778165  0.01107274\n",
      " -0.23536395 -0.39065754  0.3708007  -0.20732935 -0.73231471 -1.5478704\n",
      " -0.21397677  0.07199886 -0.22771484  0.10642073  0.48255414  1.2484864\n",
      "  0.41594523  0.46829298 -0.57851905  0.59879839 -1.48603272 -0.25078878\n",
      "  0.29961064  0.37837887  0.88279438 -0.74473315  0.74762321  1.47681844\n",
      " -0.66533107  0.50480115 -1.03230059  0.69714421  0.33946255  0.0870147\n",
      " -0.42527172  0.55069017  0.12654752 -0.15501255]\n",
      "yes\n"
     ]
    }
   ],
   "source": [
    "#raw numpy vector of a word\n",
    "print models[0]['a']\n",
    "#or access en-masse as a 2D NumPy matrix from model.syn0. \n",
    "if models[0]['a'] in models[0].syn0:\n",
    "    print 'yes'"
   ]
  },
  {
   "cell_type": "code",
   "execution_count": 48,
   "metadata": {
    "collapsed": false
   },
   "outputs": [
    {
     "data": {
      "text/plain": [
       "(array([16, 16, 16, 16, 16, 16, 16, 16, 16, 16, 16, 16, 16, 16, 16, 16, 16,\n",
       "        16, 16, 16, 16, 16, 16, 16, 16, 16, 16, 16, 16, 16, 16, 16, 16, 16,\n",
       "        16, 16, 16, 16, 16, 16, 16, 16, 16, 16, 16, 16, 16, 16, 16, 16, 16,\n",
       "        16, 16, 16, 16, 16, 16, 16, 16, 16, 16, 16, 16, 16, 16, 16, 16, 16,\n",
       "        16, 16, 16, 16, 16, 16, 16, 16, 16, 16, 16, 16, 16, 16, 16, 16, 16,\n",
       "        16, 16, 16, 16, 16, 16, 16, 16, 16, 16, 16, 16, 16, 16, 16]),\n",
       " array([ 0,  1,  2,  3,  4,  5,  6,  7,  8,  9, 10, 11, 12, 13, 14, 15, 16,\n",
       "        17, 18, 19, 20, 21, 22, 23, 24, 25, 26, 27, 28, 29, 30, 31, 32, 33,\n",
       "        34, 35, 36, 37, 38, 39, 40, 41, 42, 43, 44, 45, 46, 47, 48, 49, 50,\n",
       "        51, 52, 53, 54, 55, 56, 57, 58, 59, 60, 61, 62, 63, 64, 65, 66, 67,\n",
       "        68, 69, 70, 71, 72, 73, 74, 75, 76, 77, 78, 79, 80, 81, 82, 83, 84,\n",
       "        85, 86, 87, 88, 89, 90, 91, 92, 93, 94, 95, 96, 97, 98, 99]))"
      ]
     },
     "execution_count": 48,
     "metadata": {},
     "output_type": "execute_result"
    }
   ],
   "source": [
    "np.where(models[0].syn0==models[0]['movie'])"
   ]
  },
  {
   "cell_type": "code",
   "execution_count": 49,
   "metadata": {
    "collapsed": false
   },
   "outputs": [
    {
     "data": {
      "text/plain": [
       "array([ 0.6609292 ,  0.01555221,  0.73481148, -0.23383325,  1.11858487,\n",
       "       -0.25723121, -0.7565133 , -0.19132951,  0.62465668,  0.11837119,\n",
       "       -0.31830201, -0.39404005,  0.62204808, -0.12934224, -0.46964738,\n",
       "        0.44028723,  0.08260953, -1.48116291, -0.08200017, -0.67697531,\n",
       "        0.4708699 , -1.4161967 ,  0.58338666, -1.43238592, -1.41162848,\n",
       "        0.43555543, -0.95845115,  0.20863706,  0.19709915, -0.16422749,\n",
       "        0.44554555, -0.19723336, -0.42607585,  0.67374074, -0.88089859,\n",
       "        1.2261343 , -0.02878938, -0.52877027,  1.29530776, -0.64724684,\n",
       "        0.24425969,  0.05281075,  0.16895212,  0.31853625, -0.22249691,\n",
       "        0.18122435, -0.72547126, -0.53328723, -0.87055236, -0.65075976,\n",
       "        0.57691902, -0.05992883, -0.53699625, -0.22737674,  0.10075177,\n",
       "       -1.08976269,  0.8119396 ,  0.70638978, -0.49699432, -0.2801131 ,\n",
       "        0.48046473, -0.2001621 , -0.57027853,  0.1861313 ,  0.61592615,\n",
       "        0.65159291,  0.31207943,  0.2461812 , -0.3610073 ,  0.37043002,\n",
       "       -0.36981285, -0.55605567, -0.41510788,  0.45755449, -0.95951915,\n",
       "        0.8585428 ,  0.91806281, -1.3081888 ,  0.83722192,  0.4780305 ,\n",
       "       -0.5880006 ,  0.11467618,  0.69847757, -0.08141128,  0.27648622,\n",
       "       -0.23927818,  0.73621804,  0.46815482, -1.29897141,  0.68878329,\n",
       "       -0.33578783, -0.73207015,  0.31298956, -1.03931999,  0.14707845,\n",
       "       -1.22619855,  0.0221634 ,  0.2180676 ,  0.52200013, -0.12909487], dtype=float32)"
      ]
     },
     "execution_count": 49,
     "metadata": {},
     "output_type": "execute_result"
    }
   ],
   "source": [
    "models[0].syn0[16]"
   ]
  },
  {
   "cell_type": "code",
   "execution_count": null,
   "metadata": {
    "collapsed": true
   },
   "outputs": [],
   "source": [
    "models[0]['movie']"
   ]
  },
  {
   "cell_type": "code",
   "execution_count": 39,
   "metadata": {
    "collapsed": false
   },
   "outputs": [
    {
     "ename": "NameError",
     "evalue": "name 'models0' is not defined",
     "output_type": "error",
     "traceback": [
      "\u001b[0;31m---------------------------------------------------------------------------\u001b[0m",
      "\u001b[0;31mNameError\u001b[0m                                 Traceback (most recent call last)",
      "\u001b[0;32m<ipython-input-39-483d996759ea>\u001b[0m in \u001b[0;36m<module>\u001b[0;34m()\u001b[0m\n\u001b[0;32m----> 1\u001b[0;31m \u001b[0;32mfor\u001b[0m \u001b[0mi\u001b[0m \u001b[0;32min\u001b[0m \u001b[0mrange\u001b[0m\u001b[0;34m(\u001b[0m\u001b[0mlen\u001b[0m\u001b[0;34m(\u001b[0m\u001b[0mmodels0\u001b[0m\u001b[0;34m.\u001b[0m\u001b[0msyn0\u001b[0m\u001b[0;34m)\u001b[0m\u001b[0;34m)\u001b[0m\u001b[0;34m:\u001b[0m\u001b[0;34m\u001b[0m\u001b[0m\n\u001b[0m\u001b[1;32m      2\u001b[0m     \u001b[0;32mif\u001b[0m \u001b[0mmodels\u001b[0m\u001b[0;34m[\u001b[0m\u001b[0;36m0\u001b[0m\u001b[0;34m]\u001b[0m\u001b[0;34m.\u001b[0m\u001b[0msyn0\u001b[0m\u001b[0;34m[\u001b[0m\u001b[0mi\u001b[0m\u001b[0;34m]\u001b[0m \u001b[0;34m==\u001b[0m \u001b[0mmodels\u001b[0m\u001b[0;34m[\u001b[0m\u001b[0;36m0\u001b[0m\u001b[0;34m]\u001b[0m\u001b[0;34m[\u001b[0m\u001b[0;34m'fawn'\u001b[0m\u001b[0;34m]\u001b[0m\u001b[0;34m:\u001b[0m\u001b[0;34m\u001b[0m\u001b[0m\n\u001b[1;32m      3\u001b[0m         \u001b[0;32mprint\u001b[0m \u001b[0mi\u001b[0m\u001b[0;34m\u001b[0m\u001b[0m\n",
      "\u001b[0;31mNameError\u001b[0m: name 'models0' is not defined"
     ]
    }
   ],
   "source": [
    "for i in range(len(models0.syn0)):\n",
    "    if models[0].syn0[i] == models[0]['fawn']:\n",
    "        print i"
   ]
  },
  {
   "cell_type": "code",
   "execution_count": null,
   "metadata": {
    "collapsed": true
   },
   "outputs": [],
   "source": []
  },
  {
   "cell_type": "markdown",
   "metadata": {},
   "source": [
    "## Going for training on a single review and see how fixed weights change"
   ]
  },
  {
   "cell_type": "code",
   "execution_count": 26,
   "metadata": {
    "collapsed": false
   },
   "outputs": [
    {
     "data": {
      "text/plain": [
       "array([ 0.04810371,  0.01240467,  0.3948524 ,  0.28894129,  0.32248172,\n",
       "       -0.72893578, -0.78935665,  0.45637494,  0.2967777 , -0.23797275,\n",
       "       -0.29138288,  0.74044579,  0.275803  ,  0.32390475,  0.80199176,\n",
       "        0.05491541,  0.3200098 , -0.30178878,  0.38178915,  0.32507691,\n",
       "       -0.00185838,  0.49369264, -0.51240307, -0.07202322,  0.23256029,\n",
       "       -0.07163434,  0.31362921, -0.19588877,  0.00982205, -0.49936303,\n",
       "        0.00720923,  0.07985201,  0.53743052,  0.55543411,  0.43858734,\n",
       "        0.12011249, -0.30702832, -0.39733541, -0.61279953,  0.47660294,\n",
       "       -0.64364058,  0.1358155 ,  0.28105927,  0.39723414,  0.11340088,\n",
       "        0.22509968,  0.00439591, -0.13086192,  0.16885729,  0.21151432,\n",
       "       -0.05161725,  0.2717191 ,  0.12553649,  0.03999346,  0.0807441 ,\n",
       "       -0.09375352, -0.07193306,  0.77542937, -0.45825517,  0.51046658,\n",
       "       -0.05519772,  0.11869766,  0.1083831 , -0.26241899,  0.05480757,\n",
       "        0.02933501, -0.20564111,  0.52109641, -1.0687356 ,  0.33933383,\n",
       "        0.32300466, -0.56539476, -0.07666117, -0.45396358, -0.38821903,\n",
       "        0.32016736, -0.38567948, -0.37580845,  0.93545139, -0.20868246,\n",
       "        0.35328469,  0.28952491, -0.34863305,  0.01557103,  0.1086061 ,\n",
       "       -0.63053817, -0.2362816 ,  0.22451696, -0.13579665,  0.29221028,\n",
       "        1.15778375,  0.08238932,  0.78012156, -0.04645736, -0.31125718,\n",
       "        0.74686944, -0.43327415, -0.42054632,  0.58312094, -0.36486781], dtype=float32)"
      ]
     },
     "execution_count": 26,
     "metadata": {},
     "output_type": "execute_result"
    }
   ],
   "source": [
    "    models[0][\"exception\"]"
   ]
  },
  {
   "cell_type": "code",
   "execution_count": 42,
   "metadata": {
    "collapsed": false
   },
   "outputs": [
    {
     "data": {
      "text/plain": [
       "list"
      ]
     },
     "execution_count": 42,
     "metadata": {},
     "output_type": "execute_result"
    }
   ],
   "source": [
    "type(sentences_pos_test[0])\n",
    "print sentences_pos_test[0]"
   ]
  },
  {
   "cell_type": "code",
   "execution_count": 20,
   "metadata": {
    "collapsed": false
   },
   "outputs": [
    {
     "data": {
      "text/plain": [
       "213"
      ]
     },
     "execution_count": 20,
     "metadata": {},
     "output_type": "execute_result"
    }
   ],
   "source": [
    "modPos.train(sentences_pos_test[0], total_examples=1 )\n",
    "modNeg.train(sentences_pos_test[0], total_examples=1 )"
   ]
  },
  {
   "cell_type": "code",
   "execution_count": 25,
   "metadata": {
    "collapsed": false
   },
   "outputs": [
    {
     "data": {
      "text/plain": [
       "array([ 0.04810371,  0.01240467,  0.3948524 ,  0.28894129,  0.32248172,\n",
       "       -0.72893578, -0.78935665,  0.45637494,  0.2967777 , -0.23797275,\n",
       "       -0.29138288,  0.74044579,  0.275803  ,  0.32390475,  0.80199176,\n",
       "        0.05491541,  0.3200098 , -0.30178878,  0.38178915,  0.32507691,\n",
       "       -0.00185838,  0.49369264, -0.51240307, -0.07202322,  0.23256029,\n",
       "       -0.07163434,  0.31362921, -0.19588877,  0.00982205, -0.49936303,\n",
       "        0.00720923,  0.07985201,  0.53743052,  0.55543411,  0.43858734,\n",
       "        0.12011249, -0.30702832, -0.39733541, -0.61279953,  0.47660294,\n",
       "       -0.64364058,  0.1358155 ,  0.28105927,  0.39723414,  0.11340088,\n",
       "        0.22509968,  0.00439591, -0.13086192,  0.16885729,  0.21151432,\n",
       "       -0.05161725,  0.2717191 ,  0.12553649,  0.03999346,  0.0807441 ,\n",
       "       -0.09375352, -0.07193306,  0.77542937, -0.45825517,  0.51046658,\n",
       "       -0.05519772,  0.11869766,  0.1083831 , -0.26241899,  0.05480757,\n",
       "        0.02933501, -0.20564111,  0.52109641, -1.0687356 ,  0.33933383,\n",
       "        0.32300466, -0.56539476, -0.07666117, -0.45396358, -0.38821903,\n",
       "        0.32016736, -0.38567948, -0.37580845,  0.93545139, -0.20868246,\n",
       "        0.35328469,  0.28952491, -0.34863305,  0.01557103,  0.1086061 ,\n",
       "       -0.63053817, -0.2362816 ,  0.22451696, -0.13579665,  0.29221028,\n",
       "        1.15778375,  0.08238932,  0.78012156, -0.04645736, -0.31125718,\n",
       "        0.74686944, -0.43327415, -0.42054632,  0.58312094, -0.36486781], dtype=float32)"
      ]
     },
     "execution_count": 25,
     "metadata": {},
     "output_type": "execute_result"
    }
   ],
   "source": [
    "modPos[\"exception\"]"
   ]
  },
  {
   "cell_type": "code",
   "execution_count": 22,
   "metadata": {
    "collapsed": false
   },
   "outputs": [
    {
     "data": {
      "text/plain": [
       "array([-0.58965862, -0.66589749,  0.05314846, -0.8292644 , -0.35867512,\n",
       "       -0.35491529, -0.25217143, -0.37331662, -0.43875304,  0.13109848,\n",
       "        0.12658736,  0.48886883, -0.07183993, -0.11415164,  0.58525699,\n",
       "        0.06249871, -0.63482875,  0.77302063,  0.30701616,  0.23499113,\n",
       "       -0.9644329 , -0.44906121,  0.47221696,  0.00841182,  1.2455678 ,\n",
       "       -0.53164959, -1.03665268,  0.5315032 ,  1.04942358,  0.51712424,\n",
       "       -0.54326695, -0.44594124, -0.35676771, -0.16603146,  0.4467237 ,\n",
       "        1.0807271 ,  0.13193223, -1.65369868, -0.322386  , -0.26922873,\n",
       "       -1.63668287,  0.64601398, -0.95046562,  0.64283979, -0.20382068,\n",
       "        0.49586114, -0.19394171, -0.26014313,  0.33725259, -0.36722851,\n",
       "       -0.2423656 , -0.04495001,  0.07667962, -0.81585813,  0.45386389,\n",
       "       -0.02599576, -0.8518464 ,  0.60130703, -0.02385483, -0.31239519,\n",
       "        0.965289  ,  0.79968596, -0.658373  , -0.2202408 , -0.92727858,\n",
       "       -0.49493632,  0.20068063, -0.22083524, -0.80151153, -0.23087092,\n",
       "       -0.84666824,  0.02242622, -1.71928048, -0.02082788,  0.61778808,\n",
       "        0.89895809,  0.04741529,  0.26480585,  0.32026073,  1.03249598,\n",
       "       -0.15588494, -0.81851912, -0.33731264,  0.35570374,  0.27760261,\n",
       "        0.93366975, -0.36327189, -0.42270538,  0.12764423, -1.01198375,\n",
       "        0.46793592, -0.68770182,  0.72615558,  0.47325015, -0.80978245,\n",
       "       -0.19381359,  0.16758578,  0.83832908, -0.94901687, -0.42406133], dtype=float32)"
      ]
     },
     "execution_count": 22,
     "metadata": {},
     "output_type": "execute_result"
    }
   ],
   "source": [
    "modNeg[\"this\"]"
   ]
  },
  {
   "cell_type": "code",
   "execution_count": 24,
   "metadata": {
    "collapsed": false
   },
   "outputs": [
    {
     "data": {
      "text/plain": [
       "array([-0.58965862, -0.66589749,  0.05314846, -0.8292644 , -0.35867512,\n",
       "       -0.35491529, -0.25217143, -0.37331662, -0.43875304,  0.13109848,\n",
       "        0.12658736,  0.48886883, -0.07183993, -0.11415164,  0.58525699,\n",
       "        0.06249871, -0.63482875,  0.77302063,  0.30701616,  0.23499113,\n",
       "       -0.9644329 , -0.44906121,  0.47221696,  0.00841182,  1.2455678 ,\n",
       "       -0.53164959, -1.03665268,  0.5315032 ,  1.04942358,  0.51712424,\n",
       "       -0.54326695, -0.44594124, -0.35676771, -0.16603146,  0.4467237 ,\n",
       "        1.0807271 ,  0.13193223, -1.65369868, -0.322386  , -0.26922873,\n",
       "       -1.63668287,  0.64601398, -0.95046562,  0.64283979, -0.20382068,\n",
       "        0.49586114, -0.19394171, -0.26014313,  0.33725259, -0.36722851,\n",
       "       -0.2423656 , -0.04495001,  0.07667962, -0.81585813,  0.45386389,\n",
       "       -0.02599576, -0.8518464 ,  0.60130703, -0.02385483, -0.31239519,\n",
       "        0.965289  ,  0.79968596, -0.658373  , -0.2202408 , -0.92727858,\n",
       "       -0.49493632,  0.20068063, -0.22083524, -0.80151153, -0.23087092,\n",
       "       -0.84666824,  0.02242622, -1.71928048, -0.02082788,  0.61778808,\n",
       "        0.89895809,  0.04741529,  0.26480585,  0.32026073,  1.03249598,\n",
       "       -0.15588494, -0.81851912, -0.33731264,  0.35570374,  0.27760261,\n",
       "        0.93366975, -0.36327189, -0.42270538,  0.12764423, -1.01198375,\n",
       "        0.46793592, -0.68770182,  0.72615558,  0.47325015, -0.80978245,\n",
       "       -0.19381359,  0.16758578,  0.83832908, -0.94901687, -0.42406133], dtype=float32)"
      ]
     },
     "execution_count": 24,
     "metadata": {},
     "output_type": "execute_result"
    }
   ],
   "source": [
    "models[1][\"this\"]"
   ]
  },
  {
   "cell_type": "markdown",
   "metadata": {},
   "source": [
    "### Create script"
   ]
  },
  {
   "cell_type": "code",
   "execution_count": 14,
   "metadata": {
    "collapsed": false
   },
   "outputs": [
    {
     "name": "stdout",
     "output_type": "stream",
     "text": [
      "Parsing test sentences\n"
     ]
    }
   ],
   "source": [
    "print \"Parsing test sentences\" #into positive and negative groups so know true label\n",
    "# read in the test set\n",
    "\n",
    "sentences_pos_test = []  # Initialize an empty list of sentences\n",
    "sentences_neg_test = []  # Initialize an empty list of sentences\n",
    "    \n",
    "inxs_pos_test = np.where(test1['boolean_label'] == 1)[0].tolist()\n",
    "inxs_neg_test = np.where(test1['boolean_label'] == 0)[0].tolist()\n",
    "\n",
    "for inx in inxs_pos_test:\n",
    "    review = test1[\"abstract\"].iloc[inx]\n",
    "    sentences_pos_test += KaggleWord2VecUtility.review_to_sentences(review, tokenizer)\n",
    "\n",
    "for inx in inxs_neg_test:\n",
    "    review = test1[\"abstract\"].iloc[inx]\n",
    "    sentences_neg_test += KaggleWord2VecUtility.review_to_sentences(review, tokenizer)\n"
   ]
  },
  {
   "cell_type": "code",
   "execution_count": 15,
   "metadata": {
    "collapsed": false
   },
   "outputs": [],
   "source": [
    "#save matrices in new variables to load each time, as well as the negative and positive trained models\n",
    "neg1 = models[0].syn0\n",
    "neg2 = models[0].syn1\n",
    "modNeg = models[0]\n",
    "modPos = models[1]\n",
    "pos1 = models[1].syn0\n",
    "pos2 = models[1].syn1"
   ]
  },
  {
   "cell_type": "code",
   "execution_count": 27,
   "metadata": {
    "collapsed": true
   },
   "outputs": [],
   "source": [
    "#need an array of numpy arrays\n",
    "a = []\n",
    "a.append(b)\n",
    "a = np.asarray(a)"
   ]
  },
  {
   "cell_type": "code",
   "execution_count": 31,
   "metadata": {
    "collapsed": false
   },
   "outputs": [
    {
     "name": "stdout",
     "output_type": "stream",
     "text": [
      "45848\n",
      "(45848, 100)\n"
     ]
    }
   ],
   "source": [
    "print models[0].syn0.shape[0]\n",
    "print models[0].syn1.shape"
   ]
  },
  {
   "cell_type": "code",
   "execution_count": 41,
   "metadata": {
    "collapsed": false
   },
   "outputs": [
    {
     "name": "stdout",
     "output_type": "stream",
     "text": [
      "(100,)\n",
      "[ 0.91041499  0.23640783 -0.25681743 -0.34276941 -0.37728679  0.13761285\n",
      "  0.58908045  0.20002657 -0.66374677  0.03647031 -0.61350292  0.07174412\n",
      "  1.24073875 -0.18461914  0.81289577 -0.20492528 -0.17389943  0.36503348\n",
      " -0.69417346  0.18351638 -0.24591836 -0.92419791  0.09821442 -0.22583984\n",
      " -0.26916167  1.24837947 -0.2366845  -0.43372598  0.08138654 -0.01597164\n",
      " -0.18267538 -0.42040157  0.20611672 -0.18706743 -0.02557867 -0.52907258\n",
      " -0.44794378  0.52711022 -0.6502437  -0.10610784 -0.99380797  0.35357845\n",
      " -0.13044846 -0.1805222  -0.35491014 -0.30555892 -0.03060734  0.02694359\n",
      " -0.51674122 -0.17895103 -0.55113721 -0.63631266  0.53162438 -0.09040273\n",
      "  0.25773147  0.50415039  0.36851749 -0.20539249  0.3317236  -0.9355638\n",
      "  0.05584699 -0.24196607 -0.35969019 -0.1017556  -0.22101402 -0.19394358\n",
      "  0.30151859 -0.50884664  0.68795991  0.5285235   0.11715032 -0.34392527\n",
      " -0.43012023 -0.16741316 -0.31368929 -0.25357547  0.91266358 -0.09720628\n",
      "  0.36325991  1.00752544 -0.42079744 -0.6307143  -0.15774575  0.52547604\n",
      " -0.11776932  0.42145395 -0.37178713 -0.5861488   0.55055386 -0.07327235\n",
      " -0.51409751 -0.49448481 -0.06854703  0.07423449  0.29830518  1.03984177\n",
      " -0.61332762 -0.36796275  0.19923839  0.16694824]\n",
      "2\n",
      "[array([ 0.91041499,  0.23640783, -0.25681743, -0.34276941, -0.37728679,\n",
      "        0.13761285,  0.58908045,  0.20002657, -0.66374677,  0.03647031,\n",
      "       -0.61350292,  0.07174412,  1.24073875, -0.18461914,  0.81289577,\n",
      "       -0.20492528, -0.17389943,  0.36503348, -0.69417346,  0.18351638,\n",
      "       -0.24591836, -0.92419791,  0.09821442, -0.22583984, -0.26916167,\n",
      "        1.24837947, -0.2366845 , -0.43372598,  0.08138654, -0.01597164,\n",
      "       -0.18267538, -0.42040157,  0.20611672, -0.18706743, -0.02557867,\n",
      "       -0.52907258, -0.44794378,  0.52711022, -0.6502437 , -0.10610784,\n",
      "       -0.99380797,  0.35357845, -0.13044846, -0.1805222 , -0.35491014,\n",
      "       -0.30555892, -0.03060734,  0.02694359, -0.51674122, -0.17895103,\n",
      "       -0.55113721, -0.63631266,  0.53162438, -0.09040273,  0.25773147,\n",
      "        0.50415039,  0.36851749, -0.20539249,  0.3317236 , -0.9355638 ,\n",
      "        0.05584699, -0.24196607, -0.35969019, -0.1017556 , -0.22101402,\n",
      "       -0.19394358,  0.30151859, -0.50884664,  0.68795991,  0.5285235 ,\n",
      "        0.11715032, -0.34392527, -0.43012023, -0.16741316, -0.31368929,\n",
      "       -0.25357547,  0.91266358, -0.09720628,  0.36325991,  1.00752544,\n",
      "       -0.42079744, -0.6307143 , -0.15774575,  0.52547604, -0.11776932,\n",
      "        0.42145395, -0.37178713, -0.5861488 ,  0.55055386, -0.07327235,\n",
      "       -0.51409751, -0.49448481, -0.06854703,  0.07423449,  0.29830518,\n",
      "        1.03984177, -0.61332762, -0.36796275,  0.19923839,  0.16694824], dtype=float32), array([-0.16086179,  0.22423901, -0.00862436,  0.3102051 , -0.28766596,\n",
      "        0.19150536,  0.43196619,  0.63631445, -0.50390786, -0.13786885,\n",
      "       -0.18426093,  0.25645807, -0.44863921,  0.03457384,  0.48343498,\n",
      "        0.1263182 , -0.17021365, -0.27961802,  0.50015646, -0.59980333,\n",
      "        0.52277625, -0.35233864,  0.34391361,  0.71782547,  0.30718532,\n",
      "       -0.17857283,  0.36207357, -0.02058911, -0.87987417, -0.15506725,\n",
      "       -0.09192277,  0.16697557, -0.40545768,  0.35508418,  0.36746445,\n",
      "       -0.42748272,  0.8689549 ,  0.49208352, -0.16310765, -0.10093235,\n",
      "       -0.36650389, -0.28468338, -0.04273375, -0.35990313, -0.1431634 ,\n",
      "       -0.18386745,  0.04069321,  0.27448896,  0.11217007,  0.01593936,\n",
      "        0.24219488, -0.07311667, -0.10942928,  0.3773855 , -0.56962609,\n",
      "       -0.04211551,  0.09833257,  0.29438293, -0.25435933, -0.45287001,\n",
      "       -0.72467875, -0.0722261 ,  0.63207388,  0.42962015,  0.24433985,\n",
      "       -0.5548771 , -0.2580995 , -0.63591057, -0.30342904, -0.39126849,\n",
      "       -0.13210472,  0.48610839, -0.53700954, -0.50900573, -0.38589084,\n",
      "        0.10938495, -0.19576189,  0.29634649,  0.13919988,  0.65837055,\n",
      "        0.15890078,  0.12226222,  0.03171934,  0.30205822, -0.18451895,\n",
      "       -0.51456761,  0.21921527, -0.43510747,  0.19721933,  0.79740173,\n",
      "        0.19509554,  0.28186554,  0.15854013,  0.44146577,  0.16779839,\n",
      "       -0.20088263, -0.3695651 , -0.59118813,  0.49487558, -0.07624545], dtype=float32)]\n"
     ]
    }
   ],
   "source": [
    "print models[0].syn0[0].shape\n",
    "print models[0].syn0[0]\n",
    "a = []\n",
    "a.append(models[0].syn0[0])\n",
    "a.append(models[0].syn0[1])\n",
    "print len(a)\n",
    "print a\n",
    "b=[]\n",
    "b.append(a)"
   ]
  },
  {
   "cell_type": "code",
   "execution_count": 20,
   "metadata": {
    "collapsed": false
   },
   "outputs": [
    {
     "ename": "TypeError",
     "evalue": "unsupported operand type(s) for -: 'datetime.datetime' and 'list'",
     "output_type": "error",
     "traceback": [
      "\u001b[0;31m---------------------------------------------------------------------------\u001b[0m",
      "\u001b[0;31mTypeError\u001b[0m                                 Traceback (most recent call last)",
      "\u001b[0;32m<ipython-input-20-4577cb03ae8c>\u001b[0m in \u001b[0;36m<module>\u001b[0;34m()\u001b[0m\n\u001b[1;32m     43\u001b[0m \u001b[0;34m\u001b[0m\u001b[0m\n\u001b[1;32m     44\u001b[0m \u001b[0mb\u001b[0m \u001b[0;34m=\u001b[0m \u001b[0mdatetime\u001b[0m\u001b[0;34m.\u001b[0m\u001b[0mdatetime\u001b[0m\u001b[0;34m.\u001b[0m\u001b[0mnow\u001b[0m\u001b[0;34m(\u001b[0m\u001b[0;34m)\u001b[0m\u001b[0;34m.\u001b[0m\u001b[0mreplace\u001b[0m\u001b[0;34m(\u001b[0m\u001b[0mmicrosecond\u001b[0m\u001b[0;34m=\u001b[0m\u001b[0;36m0\u001b[0m\u001b[0;34m)\u001b[0m\u001b[0;34m\u001b[0m\u001b[0m\n\u001b[0;32m---> 45\u001b[0;31m \u001b[0;32mprint\u001b[0m\u001b[0;34m(\u001b[0m\u001b[0mb\u001b[0m\u001b[0;34m-\u001b[0m\u001b[0ma\u001b[0m\u001b[0;34m)\u001b[0m\u001b[0;34m\u001b[0m\u001b[0m\n\u001b[0m",
      "\u001b[0;31mTypeError\u001b[0m: unsupported operand type(s) for -: 'datetime.datetime' and 'list'"
     ]
    }
   ],
   "source": [
    "a = datetime.datetime.now().replace(microsecond=0)\n",
    "\n",
    "all = []\n",
    "for sent in sentences_pos_test:\n",
    "    #make copies of models\n",
    "    copymodPos = modPos\n",
    "    copymodNeg = modNeg\n",
    "    a=[]\n",
    "    #retrain model using a test sentence\n",
    "    copymodPos.train(sent, total_examples=1 )\n",
    "    copymodNeg.train(sent, total_examples=1 )\n",
    "    #for each word....replace the 0's \n",
    "    for i in range(models[0].syn0.shape[0]):\n",
    "        #a.append(np.subtract(neg1[i], copymodNeg.syn0[i]))\n",
    "        #a.append(np.subtract(neg2[i], copymodNeg.syn1[i]))\n",
    "        #a.append(np.subtract(pos1[i], copymodPos.syn0[i]))\n",
    "        #a.append(np.subtract(pos2[i], copymodPos.syn1[i]))\n",
    "        \n",
    "        if np.any(np.not_equal(neg1[i],copymodNeg.syn0[i])):\n",
    "            print \"1\"\n",
    "            print i\n",
    "            print neg1[i]\n",
    "            print sent\n",
    "        elif np.any(np.not_equal(neg2[i],copymodNeg.syn1[i])):\n",
    "            print \"2\"\n",
    "            print i\n",
    "            print neg2[i]\n",
    "            print sent\n",
    "        elif np.any(np.not_equal(pos1[i],copymodPos.syn0[i])):\n",
    "            print \"3\"\n",
    "            print i\n",
    "            print pos1[i]\n",
    "            print sent\n",
    "        elif np.any(np.not_equal(pos2[i],copymodPos.syn1[i])):\n",
    "            print \"4\"\n",
    "            print i\n",
    "            print pos2[i]\n",
    "            print sent\n",
    "\n",
    "    #then also append the score to the list*** TODO\n",
    "    \n",
    "    #all.append(a)\n",
    "    \n",
    "b = datetime.datetime.now().replace(microsecond=0)\n",
    "print(b-a)"
   ]
  },
  {
   "cell_type": "code",
   "execution_count": 43,
   "metadata": {
    "collapsed": false
   },
   "outputs": [
    {
     "name": "stdout",
     "output_type": "stream",
     "text": [
      "yes\n"
     ]
    }
   ],
   "source": [
    "if 1==1:\n",
    "    print 'yes'"
   ]
  },
  {
   "cell_type": "code",
   "execution_count": null,
   "metadata": {
    "collapsed": true
   },
   "outputs": [],
   "source": [
    "#repeat for negative sentences*** TODO\n"
   ]
  },
  {
   "cell_type": "markdown",
   "metadata": {},
   "source": [
    "### Below is testing of a single sentence"
   ]
  },
  {
   "cell_type": "code",
   "execution_count": 13,
   "metadata": {
    "collapsed": false
   },
   "outputs": [
    {
     "name": "stdout",
     "output_type": "stream",
     "text": [
      "[u'although', u'i', u'generally', u'do', u'not', u'like', u'remakes', u'believing', u'that', u'remakes', u'are', u'waste', u'of', u'time', u'this', u'film', u'is', u'an', u'exception']\n",
      "[u'the', u'film', u'starts', u'with', u'a', u'manager', u'nicholas', u'bell', u'giving', u'welcome', u'investors', u'robert', u'carradine', u'to', u'primal', u'park']\n"
     ]
    }
   ],
   "source": [
    "print sentences_pos_test[0]\n",
    "print sentences_neg_test[0]"
   ]
  },
  {
   "cell_type": "code",
   "execution_count": 14,
   "metadata": {
    "collapsed": false
   },
   "outputs": [
    {
     "data": {
      "text/html": [
       "<div>\n",
       "<table border=\"1\" class=\"dataframe\">\n",
       "  <thead>\n",
       "    <tr style=\"text-align: right;\">\n",
       "      <th></th>\n",
       "      <th>id</th>\n",
       "      <th>boolean_label</th>\n",
       "      <th>abstract</th>\n",
       "    </tr>\n",
       "  </thead>\n",
       "  <tbody>\n",
       "    <tr>\n",
       "      <th>2</th>\n",
       "      <td>\"7759_3\"</td>\n",
       "      <td>0</td>\n",
       "      <td>\"The film starts with a manager (Nicholas Bell...</td>\n",
       "    </tr>\n",
       "    <tr>\n",
       "      <th>11</th>\n",
       "      <td>\"6811_10\"</td>\n",
       "      <td>1</td>\n",
       "      <td>\"Although I generally do not like remakes beli...</td>\n",
       "    </tr>\n",
       "    <tr>\n",
       "      <th>16</th>\n",
       "      <td>\"4489_1\"</td>\n",
       "      <td>0</td>\n",
       "      <td>\"`The Matrix' was an exciting summer blockbust...</td>\n",
       "    </tr>\n",
       "    <tr>\n",
       "      <th>18</th>\n",
       "      <td>\"3304_10\"</td>\n",
       "      <td>1</td>\n",
       "      <td>\"This movie is one among the very few Indian m...</td>\n",
       "    </tr>\n",
       "    <tr>\n",
       "      <th>19</th>\n",
       "      <td>\"9352_10\"</td>\n",
       "      <td>1</td>\n",
       "      <td>\"Most people, especially young people, may not...</td>\n",
       "    </tr>\n",
       "  </tbody>\n",
       "</table>\n",
       "</div>"
      ],
      "text/plain": [
       "           id  boolean_label  \\\n",
       "2    \"7759_3\"              0   \n",
       "11  \"6811_10\"              1   \n",
       "16   \"4489_1\"              0   \n",
       "18  \"3304_10\"              1   \n",
       "19  \"9352_10\"              1   \n",
       "\n",
       "                                             abstract  \n",
       "2   \"The film starts with a manager (Nicholas Bell...  \n",
       "11  \"Although I generally do not like remakes beli...  \n",
       "16  \"`The Matrix' was an exciting summer blockbust...  \n",
       "18  \"This movie is one among the very few Indian m...  \n",
       "19  \"Most people, especially young people, may not...  "
      ]
     },
     "execution_count": 14,
     "metadata": {},
     "output_type": "execute_result"
    }
   ],
   "source": [
    "test1[0:5]"
   ]
  },
  {
   "cell_type": "code",
   "execution_count": 18,
   "metadata": {
    "collapsed": false
   },
   "outputs": [
    {
     "data": {
      "text/plain": [
       "207"
      ]
     },
     "execution_count": 18,
     "metadata": {},
     "output_type": "execute_result"
    }
   ],
   "source": [
    "#retrain model using a test sentence- TODO: is this training properly? Does it expect a list of lists or something?\n",
    "models[0].train(sentences_neg_test[0], total_examples=1 )\n",
    "models[1].train(sentences_neg_test[0], total_examples=1 )"
   ]
  },
  {
   "cell_type": "markdown",
   "metadata": {},
   "source": [
    "Now look at weight matrices again....how much have they changed?"
   ]
  },
  {
   "cell_type": "code",
   "execution_count": 20,
   "metadata": {
    "collapsed": false
   },
   "outputs": [
    {
     "name": "stdout",
     "output_type": "stream",
     "text": [
      "[  4.24046785e-01   1.29570603e-01   2.13253185e-01  -1.90784141e-01\n",
      "  -5.73329329e-01   3.52431573e-02   5.93789816e-01  -5.15585840e-02\n",
      "  -5.84989309e-01  -4.20276582e-01  -2.04346031e-01   1.25196889e-01\n",
      "   5.08659303e-01  -2.69331694e-01   2.03659281e-01   3.48256439e-01\n",
      "  -1.54727967e-02  -3.32959354e-01  -5.65216839e-01  -1.64941072e-01\n",
      "  -4.00053203e-01  -8.16992760e-01   1.08800799e-01   5.51972389e-02\n",
      "  -3.51888418e-01   4.25659657e-01  -2.40370277e-02  -4.25303966e-01\n",
      "   8.51958618e-02  -1.70676052e-04  -9.36673999e-01   4.07337397e-02\n",
      "   8.96513045e-01  -3.43396254e-02   6.82746887e-01  -4.06076729e-01\n",
      "  -5.63397467e-01   9.03431028e-02  -5.78936517e-01   1.51937351e-01\n",
      "  -1.04451334e+00   4.19589162e-01  -4.74915445e-01  -2.67101616e-01\n",
      "   5.23371577e-01  -4.71828431e-01   6.78323150e-01  -2.30245084e-01\n",
      "   9.37828645e-02  -3.24425280e-01  -4.47456926e-01  -6.57814860e-01\n",
      "   7.76386261e-01   2.15011001e-01  -1.08939886e-01   1.27374268e+00\n",
      "   2.33052894e-01  -3.00233781e-01  -4.05354142e-01  -6.18111908e-01\n",
      "  -1.55339226e-01   2.62077034e-01  -1.95407793e-01   3.11649680e-01\n",
      "  -3.85364711e-01   1.64152443e-01  -1.59996271e-01   3.06266278e-01\n",
      "  -3.53065785e-03  -4.45188910e-01   8.03791359e-02   1.88567623e-01\n",
      "  -6.57779574e-01  -4.12890464e-01  -2.50863414e-02   3.19868773e-02\n",
      "   6.25947416e-01  -1.62824795e-01   6.08478665e-01   6.25291884e-01\n",
      "  -2.26959944e-01  -3.77072960e-01  -6.74287021e-01   8.37910354e-01\n",
      "  -3.61397684e-01   3.79895419e-01  -3.83420855e-01  -2.36832321e-01\n",
      "  -4.20287326e-02  -1.45626938e-04  -1.02693148e-01   1.83903337e-01\n",
      "  -6.09445572e-01  -5.49187046e-03   2.01569661e-01   1.60814464e+00\n",
      "  -6.34005845e-01   6.46889925e-01   2.90670455e-01   6.63148165e-02]\n",
      "[  4.24046785e-01   1.29570603e-01   2.13253185e-01  -1.90784141e-01\n",
      "  -5.73329329e-01   3.52431573e-02   5.93789816e-01  -5.15585840e-02\n",
      "  -5.84989309e-01  -4.20276582e-01  -2.04346031e-01   1.25196889e-01\n",
      "   5.08659303e-01  -2.69331694e-01   2.03659281e-01   3.48256439e-01\n",
      "  -1.54727967e-02  -3.32959354e-01  -5.65216839e-01  -1.64941072e-01\n",
      "  -4.00053203e-01  -8.16992760e-01   1.08800799e-01   5.51972389e-02\n",
      "  -3.51888418e-01   4.25659657e-01  -2.40370277e-02  -4.25303966e-01\n",
      "   8.51958618e-02  -1.70676052e-04  -9.36673999e-01   4.07337397e-02\n",
      "   8.96513045e-01  -3.43396254e-02   6.82746887e-01  -4.06076729e-01\n",
      "  -5.63397467e-01   9.03431028e-02  -5.78936517e-01   1.51937351e-01\n",
      "  -1.04451334e+00   4.19589162e-01  -4.74915445e-01  -2.67101616e-01\n",
      "   5.23371577e-01  -4.71828431e-01   6.78323150e-01  -2.30245084e-01\n",
      "   9.37828645e-02  -3.24425280e-01  -4.47456926e-01  -6.57814860e-01\n",
      "   7.76386261e-01   2.15011001e-01  -1.08939886e-01   1.27374268e+00\n",
      "   2.33052894e-01  -3.00233781e-01  -4.05354142e-01  -6.18111908e-01\n",
      "  -1.55339226e-01   2.62077034e-01  -1.95407793e-01   3.11649680e-01\n",
      "  -3.85364711e-01   1.64152443e-01  -1.59996271e-01   3.06266278e-01\n",
      "  -3.53065785e-03  -4.45188910e-01   8.03791359e-02   1.88567623e-01\n",
      "  -6.57779574e-01  -4.12890464e-01  -2.50863414e-02   3.19868773e-02\n",
      "   6.25947416e-01  -1.62824795e-01   6.08478665e-01   6.25291884e-01\n",
      "  -2.26959944e-01  -3.77072960e-01  -6.74287021e-01   8.37910354e-01\n",
      "  -3.61397684e-01   3.79895419e-01  -3.83420855e-01  -2.36832321e-01\n",
      "  -4.20287326e-02  -1.45626938e-04  -1.02693148e-01   1.83903337e-01\n",
      "  -6.09445572e-01  -5.49187046e-03   2.01569661e-01   1.60814464e+00\n",
      "  -6.34005845e-01   6.46889925e-01   2.90670455e-01   6.63148165e-02]\n"
     ]
    }
   ],
   "source": [
    "print models[0].syn0[0]\n",
    "print neg1[0]\n",
    "#identical? yes"
   ]
  },
  {
   "cell_type": "code",
   "execution_count": 19,
   "metadata": {
    "collapsed": false
   },
   "outputs": [
    {
     "name": "stdout",
     "output_type": "stream",
     "text": [
      "[ 0.  0.  0.  0.  0.  0.  0.  0.  0.  0.  0.  0.  0.  0.  0.  0.  0.  0.\n",
      "  0.  0.  0.  0.  0.  0.  0.  0.  0.  0.  0.  0.  0.  0.  0.  0.  0.  0.\n",
      "  0.  0.  0.  0.  0.  0.  0.  0.  0.  0.  0.  0.  0.  0.  0.  0.  0.  0.\n",
      "  0.  0.  0.  0.  0.  0.  0.  0.  0.  0.  0.  0.  0.  0.  0.  0.  0.  0.\n",
      "  0.  0.  0.  0.  0.  0.  0.  0.  0.  0.  0.  0.  0.  0.  0.  0.  0.  0.\n",
      "  0.  0.  0.  0.  0.  0.  0.  0.  0.  0.]\n",
      "[ 0.  0.  0.  0.  0.  0.  0.  0.  0.  0.  0.  0.  0.  0.  0.  0.  0.  0.\n",
      "  0.  0.  0.  0.  0.  0.  0.  0.  0.  0.  0.  0.  0.  0.  0.  0.  0.  0.\n",
      "  0.  0.  0.  0.  0.  0.  0.  0.  0.  0.  0.  0.  0.  0.  0.  0.  0.  0.\n",
      "  0.  0.  0.  0.  0.  0.  0.  0.  0.  0.  0.  0.  0.  0.  0.  0.  0.  0.\n",
      "  0.  0.  0.  0.  0.  0.  0.  0.  0.  0.  0.  0.  0.  0.  0.  0.  0.  0.\n",
      "  0.  0.  0.  0.  0.  0.  0.  0.  0.  0.]\n"
     ]
    }
   ],
   "source": [
    "print models[0].syn1[0]\n",
    "print neg2[0]\n",
    "#identical? yes"
   ]
  },
  {
   "cell_type": "code",
   "execution_count": 21,
   "metadata": {
    "collapsed": false
   },
   "outputs": [
    {
     "name": "stdout",
     "output_type": "stream",
     "text": [
      "[ 0.49941248  0.40806937 -0.01228495  0.26504648 -0.37615326 -0.4339596\n",
      "  0.50380939 -0.00587781  0.37700355  0.00215048  0.03396163  0.24712934\n",
      "  0.49124491  0.1520288   0.15901041 -0.10886002 -0.2772769  -0.13540064\n",
      "  0.60965848 -0.82724553 -0.57203931  0.95680028  0.84846568  0.04186843\n",
      "  1.42545223  0.42644352 -0.88878399 -0.10957657  0.30615073 -0.54610467\n",
      " -0.5236221   0.42949075 -0.14327484 -0.02344611  0.52613127  0.58127254\n",
      " -0.1210241   0.48127803 -0.36878362  0.54414165 -0.12575175  0.17995934\n",
      " -0.51886714 -0.84128487 -0.09754249 -0.0780535  -0.73795575 -0.14958926\n",
      "  0.04497276 -0.26140645 -0.16925676 -0.15003616 -0.21271122 -0.20164749\n",
      "  0.84195226 -0.0556285  -0.31095383 -1.07853973  0.28056636 -0.48894984\n",
      "  0.71283567  0.52083665 -0.72072655 -0.75949395 -0.41497079  0.20665865\n",
      "  0.79719555  0.11628009  0.04627879 -0.12904015 -0.6315614   0.01326748\n",
      "  0.57716733  0.44534415  0.70483577  0.63104039  0.40520695 -0.44806862\n",
      "  0.56910145  0.0881054   0.31658611 -0.46437484  0.52192932  0.04676278\n",
      "  0.01858833  1.04993606 -0.29440016 -0.61895663  0.73788989 -0.5864687\n",
      "  0.17244729  0.03984079 -0.38721237 -0.46487242  0.07237485  0.28786844\n",
      " -0.19962844  0.64331985  0.0062364  -0.00151033]\n",
      "[ 0.49941248  0.40806937 -0.01228495  0.26504648 -0.37615326 -0.4339596\n",
      "  0.50380939 -0.00587781  0.37700355  0.00215048  0.03396163  0.24712934\n",
      "  0.49124491  0.1520288   0.15901041 -0.10886002 -0.2772769  -0.13540064\n",
      "  0.60965848 -0.82724553 -0.57203931  0.95680028  0.84846568  0.04186843\n",
      "  1.42545223  0.42644352 -0.88878399 -0.10957657  0.30615073 -0.54610467\n",
      " -0.5236221   0.42949075 -0.14327484 -0.02344611  0.52613127  0.58127254\n",
      " -0.1210241   0.48127803 -0.36878362  0.54414165 -0.12575175  0.17995934\n",
      " -0.51886714 -0.84128487 -0.09754249 -0.0780535  -0.73795575 -0.14958926\n",
      "  0.04497276 -0.26140645 -0.16925676 -0.15003616 -0.21271122 -0.20164749\n",
      "  0.84195226 -0.0556285  -0.31095383 -1.07853973  0.28056636 -0.48894984\n",
      "  0.71283567  0.52083665 -0.72072655 -0.75949395 -0.41497079  0.20665865\n",
      "  0.79719555  0.11628009  0.04627879 -0.12904015 -0.6315614   0.01326748\n",
      "  0.57716733  0.44534415  0.70483577  0.63104039  0.40520695 -0.44806862\n",
      "  0.56910145  0.0881054   0.31658611 -0.46437484  0.52192932  0.04676278\n",
      "  0.01858833  1.04993606 -0.29440016 -0.61895663  0.73788989 -0.5864687\n",
      "  0.17244729  0.03984079 -0.38721237 -0.46487242  0.07237485  0.28786844\n",
      " -0.19962844  0.64331985  0.0062364  -0.00151033]\n"
     ]
    }
   ],
   "source": [
    "print models[1].syn0[0]\n",
    "print pos1[0]\n",
    "#identical? yes"
   ]
  },
  {
   "cell_type": "code",
   "execution_count": 24,
   "metadata": {
    "collapsed": false
   },
   "outputs": [
    {
     "name": "stdout",
     "output_type": "stream",
     "text": [
      "[ 0.  0.  0.  0.  0.  0.  0.  0.  0.  0.  0.  0.  0.  0.  0.  0.  0.  0.\n",
      "  0.  0.  0.  0.  0.  0.  0.  0.  0.  0.  0.  0.  0.  0.  0.  0.  0.  0.\n",
      "  0.  0.  0.  0.  0.  0.  0.  0.  0.  0.  0.  0.  0.  0.  0.  0.  0.  0.\n",
      "  0.  0.  0.  0.  0.  0.  0.  0.  0.  0.  0.  0.  0.  0.  0.  0.  0.  0.\n",
      "  0.  0.  0.  0.  0.  0.  0.  0.  0.  0.  0.  0.  0.  0.  0.  0.  0.  0.\n",
      "  0.  0.  0.  0.  0.  0.  0.  0.  0.  0.]\n",
      "[ 0.  0.  0.  0.  0.  0.  0.  0.  0.  0.  0.  0.  0.  0.  0.  0.  0.  0.\n",
      "  0.  0.  0.  0.  0.  0.  0.  0.  0.  0.  0.  0.  0.  0.  0.  0.  0.  0.\n",
      "  0.  0.  0.  0.  0.  0.  0.  0.  0.  0.  0.  0.  0.  0.  0.  0.  0.  0.\n",
      "  0.  0.  0.  0.  0.  0.  0.  0.  0.  0.  0.  0.  0.  0.  0.  0.  0.  0.\n",
      "  0.  0.  0.  0.  0.  0.  0.  0.  0.  0.  0.  0.  0.  0.  0.  0.  0.  0.\n",
      "  0.  0.  0.  0.  0.  0.  0.  0.  0.  0.]\n",
      "<type 'numpy.ndarray'>\n",
      "<type 'numpy.ndarray'>\n"
     ]
    }
   ],
   "source": [
    "print models[1].syn1[0]\n",
    "print pos2[0]\n",
    "print type(models[1].syn1[0])\n",
    "print type(pos2[0])\n",
    "#identical? yes"
   ]
  },
  {
   "cell_type": "code",
   "execution_count": null,
   "metadata": {
    "collapsed": false
   },
   "outputs": [],
   "source": [
    "#neg1 = models[0].syn0\n",
    "#neg2 = models[0].syn1\n",
    "#pos1 = models[1].syn0\n",
    "#pos2 = models[1].syn1"
   ]
  },
  {
   "cell_type": "code",
   "execution_count": 26,
   "metadata": {
    "collapsed": false
   },
   "outputs": [
    {
     "name": "stdout",
     "output_type": "stream",
     "text": [
      "[ 0.  0.  0.  0.  0.  0.  0.  0.  0.  0.  0.  0.  0.  0.  0.  0.  0.  0.\n",
      "  0.  0.  0.  0.  0.  0.  0.  0.  0.  0.  0.  0.  0.  0.  0.  0.  0.  0.\n",
      "  0.  0.  0.  0.  0.  0.  0.  0.  0.  0.  0.  0.  0.  0.  0.  0.  0.  0.\n",
      "  0.  0.  0.  0.  0.  0.  0.  0.  0.  0.  0.  0.  0.  0.  0.  0.  0.  0.\n",
      "  0.  0.  0.  0.  0.  0.  0.  0.  0.  0.  0.  0.  0.  0.  0.  0.  0.  0.\n",
      "  0.  0.  0.  0.  0.  0.  0.  0.  0.  0.]\n",
      "(100,)\n"
     ]
    }
   ],
   "source": [
    "print np.subtract(models[1].syn0[0], pos1[0])\n",
    "print np.subtract(models[1].syn0[0], pos1[0]).shape"
   ]
  },
  {
   "cell_type": "code",
   "execution_count": null,
   "metadata": {
    "collapsed": true
   },
   "outputs": [],
   "source": []
  },
  {
   "cell_type": "code",
   "execution_count": null,
   "metadata": {
    "collapsed": true
   },
   "outputs": [],
   "source": []
  },
  {
   "cell_type": "code",
   "execution_count": null,
   "metadata": {
    "collapsed": true
   },
   "outputs": [],
   "source": []
  },
  {
   "cell_type": "code",
   "execution_count": 12,
   "metadata": {
    "collapsed": false
   },
   "outputs": [],
   "source": [
    "import re\n",
    "import nltk\n",
    "\n",
    "import pandas as pd\n",
    "import numpy as np\n",
    "\n",
    "from bs4 import BeautifulSoup\n",
    "from nltk.corpus import stopwords\n",
    "\n",
    "\n",
    "class KaggleWord2VecUtility(object):\n",
    "    \"\"\"KaggleWord2VecUtility is a utility class for processing raw HTML text into segments for further learning\"\"\"\n",
    "\n",
    "    @staticmethod\n",
    "    def review_to_wordlist( review, remove_stopwords=False ):\n",
    "        # Function to convert a document to a sequence of words,\n",
    "        # optionally removing stop words.  Returns a list of words.\n",
    "        #\n",
    "        # 1. Remove HTML\n",
    "        review_text = BeautifulSoup(review).get_text()\n",
    "        #\n",
    "        # 2. Remove non-letters\n",
    "        review_text = re.sub(\"[^a-zA-Z]\",\" \", review_text)\n",
    "        #\n",
    "        # 3. Convert words to lower case and split them\n",
    "        words = review_text.lower().split()\n",
    "        #\n",
    "        # 4. Optionally remove stop words (false by default)\n",
    "        if remove_stopwords:\n",
    "            stops = set(stopwords.words(\"english\"))\n",
    "            words = [w for w in words if not w in stops]\n",
    "        #\n",
    "        # 5. Return a list of words\n",
    "        return(words)\n",
    "    \n",
    "    @staticmethod\n",
    "    def review_to_words( review, remove_stopwords=False ):\n",
    "        # Function to convert a raw review to a string of words\n",
    "        # The input is a single string (a raw movie review), and \n",
    "        # the output is a single string (a preprocessed movie review)\n",
    "        #\n",
    "        # 1. Remove HTML\n",
    "        review_text = BeautifulSoup(review).get_text() \n",
    "        #\n",
    "        # 2. Remove non-letters        \n",
    "        review_text = re.sub(\"[^a-zA-Z]\", \" \", review_text) \n",
    "        #\n",
    "        # 3. Convert to lower case, split into individual words\n",
    "        words = review_text.lower().split()                             \n",
    "        #\n",
    "        # 4. Optionally remove stop words (false by default)\n",
    "        if remove_stopwords:\n",
    "            stops = set(stopwords.words(\"english\"))\n",
    "            words = [w for w in words if not w in stops]   \n",
    "        #\n",
    "        # 6. Join the words back into one string separated by space, \n",
    "        # and return the result.\n",
    "        return( \" \".join( words ))   \n",
    "\n",
    "    # Define a function to split a review into parsed sentences\n",
    "    @staticmethod\n",
    "    def review_to_sentences( review, tokenizer, remove_stopwords=False ):\n",
    "        # Function to split a review into parsed sentences. Returns a\n",
    "        # list of sentences, where each sentence is a list of words\n",
    "        #\n",
    "        # 1. Use the NLTK tokenizer to split the paragraph into sentences\n",
    "        raw_sentences = tokenizer.tokenize(review.decode('utf8').strip())\n",
    "        #\n",
    "        # 2. Loop over each sentence\n",
    "        sentences = []\n",
    "        for raw_sentence in raw_sentences:\n",
    "            # If a sentence is empty, skip it\n",
    "            if len(raw_sentence) > 0:\n",
    "                # Otherwise, call review_to_wordlist to get a list of words\n",
    "                sentences.append( KaggleWord2VecUtility.review_to_wordlist( raw_sentence, \\\n",
    "                  remove_stopwords ))\n",
    "        #\n",
    "        # Return the list of sentences (each sentence is a list of words,\n",
    "        # so this returns a list of lists\n",
    "        return sentences"
   ]
  }
 ],
 "metadata": {
  "anaconda-cloud": {},
  "kernelspec": {
   "display_name": "Python [default]",
   "language": "python",
   "name": "python2"
  },
  "language_info": {
   "codemirror_mode": {
    "name": "ipython",
    "version": 2
   },
   "file_extension": ".py",
   "mimetype": "text/x-python",
   "name": "python",
   "nbconvert_exporter": "python",
   "pygments_lexer": "ipython2",
   "version": "2.7.12"
  }
 },
 "nbformat": 4,
 "nbformat_minor": 0
}
