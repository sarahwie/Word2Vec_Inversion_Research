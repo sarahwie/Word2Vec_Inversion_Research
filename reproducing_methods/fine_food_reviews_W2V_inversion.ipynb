{
 "cells": [
  {
   "cell_type": "code",
   "execution_count": 28,
   "metadata": {
    "collapsed": true
   },
   "outputs": [],
   "source": [
    "import pickle\n",
    "import os\n",
    "import sys\n",
    "import datetime\n",
    "import pandas as pd\n",
    "import numpy as np\n",
    "import nltk.data\n",
    "from gensim.models import Word2Vec\n",
    "import multiprocessing\n",
    "from copy import deepcopy\n",
    "from sklearn.metrics import roc_auc_score    \n",
    "from sklearn.cross_validation import StratifiedKFold"
   ]
  },
  {
   "cell_type": "code",
   "execution_count": 29,
   "metadata": {
    "collapsed": true
   },
   "outputs": [],
   "source": [
    "import nltk\n",
    "# Load the punkt tokenizer\n",
    "tokenizer = nltk.data.load('tokenizers/punkt/english.pickle')"
   ]
  },
  {
   "cell_type": "markdown",
   "metadata": {},
   "source": [
    "### Read in datafile"
   ]
  },
  {
   "cell_type": "code",
   "execution_count": 30,
   "metadata": {
    "collapsed": false
   },
   "outputs": [],
   "source": [
    "# Read data from files\n",
    "df = pd.read_csv('Reviews.csv')"
   ]
  },
  {
   "cell_type": "code",
   "execution_count": 31,
   "metadata": {
    "collapsed": false
   },
   "outputs": [
    {
     "data": {
      "text/plain": [
       "'I have bought several of the Vitality canned dog food products and have found them all to be of good quality. The product looks more like a stew than a processed meat and it smells better. My Labrador is finicky and she appreciates this product better than  most.'"
      ]
     },
     "execution_count": 31,
     "metadata": {},
     "output_type": "execute_result"
    }
   ],
   "source": [
    "df['Text'].loc[0]"
   ]
  },
  {
   "cell_type": "code",
   "execution_count": 32,
   "metadata": {
    "collapsed": false
   },
   "outputs": [
    {
     "name": "stdout",
     "output_type": "stream",
     "text": [
      "568454\n",
      "568454\n"
     ]
    }
   ],
   "source": [
    "print len(df)\n",
    "print df[\"Text\"].size"
   ]
  },
  {
   "cell_type": "code",
   "execution_count": 33,
   "metadata": {
    "collapsed": true
   },
   "outputs": [],
   "source": [
    "df.columns = ['Id', 'ProductId', 'UserId', \"ProfileName\", 'HelpfulnessNumerator', 'HelpfulnessDenominator', 'label', 'Time', 'title', 'abstract']"
   ]
  },
  {
   "cell_type": "code",
   "execution_count": 34,
   "metadata": {
    "collapsed": false
   },
   "outputs": [
    {
     "data": {
      "text/html": [
       "<div>\n",
       "<table border=\"1\" class=\"dataframe\">\n",
       "  <thead>\n",
       "    <tr style=\"text-align: right;\">\n",
       "      <th></th>\n",
       "      <th>Id</th>\n",
       "      <th>ProductId</th>\n",
       "      <th>UserId</th>\n",
       "      <th>ProfileName</th>\n",
       "      <th>HelpfulnessNumerator</th>\n",
       "      <th>HelpfulnessDenominator</th>\n",
       "      <th>label</th>\n",
       "      <th>Time</th>\n",
       "      <th>title</th>\n",
       "      <th>abstract</th>\n",
       "    </tr>\n",
       "  </thead>\n",
       "  <tbody>\n",
       "    <tr>\n",
       "      <th>0</th>\n",
       "      <td>1</td>\n",
       "      <td>B001E4KFG0</td>\n",
       "      <td>A3SGXH7AUHU8GW</td>\n",
       "      <td>delmartian</td>\n",
       "      <td>1</td>\n",
       "      <td>1</td>\n",
       "      <td>5</td>\n",
       "      <td>1303862400</td>\n",
       "      <td>Good Quality Dog Food</td>\n",
       "      <td>I have bought several of the Vitality canned d...</td>\n",
       "    </tr>\n",
       "    <tr>\n",
       "      <th>1</th>\n",
       "      <td>2</td>\n",
       "      <td>B00813GRG4</td>\n",
       "      <td>A1D87F6ZCVE5NK</td>\n",
       "      <td>dll pa</td>\n",
       "      <td>0</td>\n",
       "      <td>0</td>\n",
       "      <td>1</td>\n",
       "      <td>1346976000</td>\n",
       "      <td>Not as Advertised</td>\n",
       "      <td>Product arrived labeled as Jumbo Salted Peanut...</td>\n",
       "    </tr>\n",
       "  </tbody>\n",
       "</table>\n",
       "</div>"
      ],
      "text/plain": [
       "   Id   ProductId          UserId ProfileName  HelpfulnessNumerator  \\\n",
       "0   1  B001E4KFG0  A3SGXH7AUHU8GW  delmartian                     1   \n",
       "1   2  B00813GRG4  A1D87F6ZCVE5NK      dll pa                     0   \n",
       "\n",
       "   HelpfulnessDenominator  label        Time                  title  \\\n",
       "0                       1      5  1303862400  Good Quality Dog Food   \n",
       "1                       0      1  1346976000      Not as Advertised   \n",
       "\n",
       "                                            abstract  \n",
       "0  I have bought several of the Vitality canned d...  \n",
       "1  Product arrived labeled as Jumbo Salted Peanut...  "
      ]
     },
     "execution_count": 34,
     "metadata": {},
     "output_type": "execute_result"
    }
   ],
   "source": [
    "df[0:2]"
   ]
  },
  {
   "cell_type": "markdown",
   "metadata": {},
   "source": [
    "### Check label distribution-- almost all reviews have a score of 5..."
   ]
  },
  {
   "cell_type": "code",
   "execution_count": 35,
   "metadata": {
    "collapsed": false
   },
   "outputs": [
    {
     "name": "stdout",
     "output_type": "stream",
     "text": [
      "363122\n",
      "80655\n",
      "42640\n",
      "29769\n",
      "52268\n",
      "0\n"
     ]
    }
   ],
   "source": [
    "#we are concerned about rating\n",
    "print len(df.loc[df['label'] == 5])\n",
    "print len(df.loc[df['label'] == 4])\n",
    "print len(df.loc[df['label'] == 3])\n",
    "print len(df.loc[df['label'] == 2])\n",
    "print len(df.loc[df['label'] == 1])\n",
    "print len(df.loc[df['label'] == 0])"
   ]
  },
  {
   "cell_type": "code",
   "execution_count": 36,
   "metadata": {
    "collapsed": false
   },
   "outputs": [],
   "source": [
    "#randomly subset those with label 5 to be more similar to actual amount (*** and most importantly to reduce size of dataset)\n",
    "df_5 = df.loc[df['label'] == 5]\n",
    "df_5 = df_5.sample(n=50000, random_state=10)"
   ]
  },
  {
   "cell_type": "code",
   "execution_count": 37,
   "metadata": {
    "collapsed": false
   },
   "outputs": [
    {
     "name": "stdout",
     "output_type": "stream",
     "text": [
      "50000\n"
     ]
    }
   ],
   "source": [
    "print len(df_5)"
   ]
  },
  {
   "cell_type": "code",
   "execution_count": 38,
   "metadata": {
    "collapsed": false
   },
   "outputs": [
    {
     "name": "stdout",
     "output_type": "stream",
     "text": [
      "205332\n"
     ]
    }
   ],
   "source": [
    "print len(df.loc[df['label'] != 5])\n",
    "df_allElse = df.loc[df['label'] != 5]"
   ]
  },
  {
   "cell_type": "code",
   "execution_count": 39,
   "metadata": {
    "collapsed": false
   },
   "outputs": [
    {
     "name": "stdout",
     "output_type": "stream",
     "text": [
      "255332\n"
     ]
    }
   ],
   "source": [
    "df = pd.concat([df_allElse, df_5])\n",
    "print len(df)"
   ]
  },
  {
   "cell_type": "code",
   "execution_count": 40,
   "metadata": {
    "collapsed": false
   },
   "outputs": [
    {
     "name": "stdout",
     "output_type": "stream",
     "text": [
      "50000\n",
      "80655\n",
      "42640\n",
      "29769\n",
      "52268\n",
      "0\n"
     ]
    }
   ],
   "source": [
    "print len(df.loc[df['label'] == 5])\n",
    "print len(df.loc[df['label'] == 4])\n",
    "print len(df.loc[df['label'] == 3])\n",
    "print len(df.loc[df['label'] == 2])\n",
    "print len(df.loc[df['label'] == 1])\n",
    "print len(df.loc[df['label'] == 0])"
   ]
  },
  {
   "cell_type": "markdown",
   "metadata": {},
   "source": [
    "### Apply Word2Vec Inversion"
   ]
  },
  {
   "cell_type": "code",
   "execution_count": 41,
   "metadata": {
    "collapsed": true
   },
   "outputs": [],
   "source": [
    "\"\"\"\n",
    "docprob takes two lists\n",
    "* docs: a list of documents, each of which is a list of sentences\n",
    "* models: the candidate word2vec models (each potential class)\n",
    "\n",
    "it returns the array of class probabilities.  Everything is done in-memory.\n",
    "\"\"\"\n",
    "\n",
    "def docprob(docs, mods):\n",
    "    # score() takes a list [s] of sentences here; could also be a sentence generator\n",
    "    sentlist = [s for d in docs for s in d]\n",
    "    # the log likelihood of each sentence in this review under each w2v representation\n",
    "    llhd = np.array( [ m.score(sentlist, len(sentlist)) for m in mods ] )\n",
    "    # now exponentiate to get likelihoods, \n",
    "    lhd = np.exp(llhd - llhd.max(axis=0)) # subtract row max to avoid numeric overload\n",
    "    # normalize across models (stars) to get sentence-star probabilities\n",
    "    #all this transposing business does is make it so the total probability of a word \n",
    "    #   equals 1 between the 2 arrays (positive prob and negative).\n",
    "    #and the pandas data frame just puts everything into rows/columns format for easy viz\n",
    "    prob = pd.DataFrame( (lhd/lhd.sum(axis=0)).transpose() )\n",
    "    # and finally average the sentence probabilities to get the review probability\n",
    "    prob[\"doc\"] = [i for i,d in enumerate(docs) for s in d]\n",
    "    prob = prob.groupby(\"doc\").mean()\n",
    "    return prob"
   ]
  },
  {
   "cell_type": "code",
   "execution_count": 42,
   "metadata": {
    "collapsed": true
   },
   "outputs": [],
   "source": [
    "def buildModels(train1, test1, docs, basemodel, label):\n",
    "    \n",
    "    #add boolean labels\n",
    "    train1['boolean_label'] = 1\n",
    "    for row in train1.iterrows():\n",
    "        if row[1]['label'] != label:\n",
    "            train1.set_value(row[0], 'boolean_label', 0)\n",
    "            \n",
    "    test1['boolean_label'] = 1\n",
    "    for row in test1.iterrows():\n",
    "        if row[1]['label'] != label:\n",
    "            test1.set_value(row[0], 'boolean_label', 0)\n",
    "    \n",
    "    # ****** Split the training set into clean sentences\n",
    "    #\n",
    "    sentences_pos = []  # Initialize an empty list of sentences\n",
    "    sentences_neg = []  # Initialize an empty list of sentences\n",
    "\n",
    "    #here change to include all journal name labels of positive and negative\n",
    "    inxs_pos = np.where(train1['boolean_label'] == 1)[0].tolist()\n",
    "    inxs_neg = np.where(train1['boolean_label'] == 0)[0].tolist()\n",
    "\n",
    "    for inx in inxs_pos:\n",
    "        review = train1[\"abstract\"].iloc[inx]\n",
    "        sentences_pos += KaggleWord2VecUtility.review_to_sentences(review, tokenizer)\n",
    "\n",
    "    for inx in inxs_neg:\n",
    "        review = train1[\"abstract\"].iloc[inx]\n",
    "        sentences_neg += KaggleWord2VecUtility.review_to_sentences(review, tokenizer)\n",
    "         \n",
    "    #train models\n",
    "    models = [deepcopy(basemodel) for y in range(2)]\n",
    "    models[0].train(sentences_neg, total_examples=len(sentences_neg) )\n",
    "    models[1].train(sentences_pos, total_examples=len(sentences_pos) )\n",
    "    \n",
    "    probs = docprob(docs,models).astype(object)\n",
    "    \n",
    "    predictions = np.ones((probs.shape[0]))\n",
    "\n",
    "    predictions[np.where(probs.iloc[:,0] > 0.5)] = 0 # The first column is the negative model\n",
    "\n",
    "    score = roc_auc_score(test1[\"boolean_label\"], predictions)\n",
    "    \n",
    "    return score"
   ]
  },
  {
   "cell_type": "code",
   "execution_count": 45,
   "metadata": {
    "collapsed": false
   },
   "outputs": [
    {
     "name": "stdout",
     "output_type": "stream",
     "text": [
      "('ROUND', 1)\n"
     ]
    },
    {
     "name": "stderr",
     "output_type": "stream",
     "text": [
      "/home/nlp-vm/anaconda2/lib/python2.7/site-packages/bs4/__init__.py:166: UserWarning: No parser was explicitly specified, so I'm using the best available HTML parser for this system (\"lxml\"). This usually isn't a problem, but if you run this code on another system, or in a different virtual environment, it may use a different parser and behave differently.\n",
      "\n",
      "To get rid of this warning, change this:\n",
      "\n",
      " BeautifulSoup([your markup])\n",
      "\n",
      "to this:\n",
      "\n",
      " BeautifulSoup([your markup], \"lxml\")\n",
      "\n",
      "  markup_type=markup_type))\n",
      "/home/nlp-vm/anaconda2/lib/python2.7/site-packages/bs4/__init__.py:198: UserWarning: \".\" looks like a filename, not markup. You should probably open this file and pass the filehandle into Beautiful Soup.\n",
      "  '\"%s\" looks like a filename, not markup. You should probably open this file and pass the filehandle into Beautiful Soup.' % markup)\n",
      "/home/nlp-vm/anaconda2/lib/python2.7/site-packages/bs4/__init__.py:198: UserWarning: \"..\" looks like a filename, not markup. You should probably open this file and pass the filehandle into Beautiful Soup.\n",
      "  '\"%s\" looks like a filename, not markup. You should probably open this file and pass the filehandle into Beautiful Soup.' % markup)\n",
      "/home/nlp-vm/anaconda2/lib/python2.7/site-packages/bs4/__init__.py:207: UserWarning: \"http://www.amazon.com/gp/product/B002Q7RMLA/ref=oss_product\" looks like a URL. Beautiful Soup is not an HTTP client. You should probably use an HTTP client to get the document behind the URL, and feed that document to Beautiful Soup.\n",
      "  '\"%s\" looks like a URL. Beautiful Soup is not an HTTP client. You should probably use an HTTP client to get the document behind the URL, and feed that document to Beautiful Soup.' % markup)\n",
      "/home/nlp-vm/anaconda2/lib/python2.7/site-packages/bs4/__init__.py:207: UserWarning: \"http://www.amazon.com/s/ref=bl_sr_grocery?_encoding=UTF8&node=16310101&field-brandtextbin=The+Simply+Bar\" looks like a URL. Beautiful Soup is not an HTTP client. You should probably use an HTTP client to get the document behind the URL, and feed that document to Beautiful Soup.\n",
      "  '\"%s\" looks like a URL. Beautiful Soup is not an HTTP client. You should probably use an HTTP client to get the document behind the URL, and feed that document to Beautiful Soup.' % markup)\n",
      "/home/nlp-vm/anaconda2/lib/python2.7/site-packages/bs4/__init__.py:207: UserWarning: \"http://www.squidoo.com/ekobrew\" looks like a URL. Beautiful Soup is not an HTTP client. You should probably use an HTTP client to get the document behind the URL, and feed that document to Beautiful Soup.\n",
      "  '\"%s\" looks like a URL. Beautiful Soup is not an HTTP client. You should probably use an HTTP client to get the document behind the URL, and feed that document to Beautiful Soup.' % markup)\n",
      "/home/nlp-vm/anaconda2/lib/python2.7/site-packages/bs4/__init__.py:207: UserWarning: \"http://www.amazon.com/gp/product/B004QQA4KK/ref=cm_cr_rev_prod_title\" looks like a URL. Beautiful Soup is not an HTTP client. You should probably use an HTTP client to get the document behind the URL, and feed that document to Beautiful Soup.\n",
      "  '\"%s\" looks like a URL. Beautiful Soup is not an HTTP client. You should probably use an HTTP client to get the document behind the URL, and feed that document to Beautiful Soup.' % markup)\n"
     ]
    },
    {
     "name": "stdout",
     "output_type": "stream",
     "text": [
      "Building and training w2v models\n",
      "Parsing test sentences\n"
     ]
    },
    {
     "name": "stderr",
     "output_type": "stream",
     "text": [
      "/home/nlp-vm/anaconda2/lib/python2.7/site-packages/bs4/__init__.py:198: UserWarning: \"///\" looks like a filename, not markup. You should probably open this file and pass the filehandle into Beautiful Soup.\n",
      "  '\"%s\" looks like a filename, not markup. You should probably open this file and pass the filehandle into Beautiful Soup.' % markup)\n"
     ]
    },
    {
     "name": "stdout",
     "output_type": "stream",
     "text": [
      "scoring test set\n"
     ]
    },
    {
     "name": "stderr",
     "output_type": "stream",
     "text": [
      "/home/nlp-vm/anaconda2/lib/python2.7/site-packages/ipykernel/__main__.py:4: SettingWithCopyWarning: \n",
      "A value is trying to be set on a copy of a slice from a DataFrame.\n",
      "Try using .loc[row_indexer,col_indexer] = value instead\n",
      "\n",
      "See the caveats in the documentation: http://pandas.pydata.org/pandas-docs/stable/indexing.html#indexing-view-versus-copy\n",
      "/home/nlp-vm/anaconda2/lib/python2.7/site-packages/ipykernel/__main__.py:9: SettingWithCopyWarning: \n",
      "A value is trying to be set on a copy of a slice from a DataFrame.\n",
      "Try using .loc[row_indexer,col_indexer] = value instead\n",
      "\n",
      "See the caveats in the documentation: http://pandas.pydata.org/pandas-docs/stable/indexing.html#indexing-view-versus-copy\n"
     ]
    },
    {
     "name": "stdout",
     "output_type": "stream",
     "text": [
      "('ROUND', 2)\n",
      "Building and training w2v models\n",
      "Parsing test sentences\n",
      "scoring test set\n",
      "('ROUND', 3)\n",
      "Building and training w2v models\n",
      "Parsing test sentences\n",
      "scoring test set\n",
      "('ROUND', 4)\n",
      "Building and training w2v models\n",
      "Parsing test sentences\n",
      "scoring test set\n",
      "('ROUND', 5)\n",
      "Building and training w2v models\n",
      "Parsing test sentences\n",
      "scoring test set\n",
      "('average of Score 1 model:', 0.8191279999723371)\n",
      "('average of Score 2 model:', 0.66959156323702385)\n",
      "('average of Score 3 model:', 0.69183501796552815)\n",
      "('average of Score 4 model:', 0.73211042386956982)\n",
      "('average of Score 5 model:', 0.74585413800471967)\n",
      "\n",
      "('average across all models:', 0.73170382860983585)\n",
      "3:16:44\n"
     ]
    }
   ],
   "source": [
    "a = datetime.datetime.now().replace(microsecond=0)\n",
    "\n",
    "y = df['label'].values\n",
    "\n",
    "#set random state\n",
    "skf = StratifiedKFold(y, n_folds=5, shuffle=True, random_state=10)\n",
    "\n",
    "i = 1\n",
    "avg = []\n",
    "avg1 = []\n",
    "avg2 = []\n",
    "avg3 = []\n",
    "avg4 = []\n",
    "avg5 = []\n",
    "for train_index, test_index in skf:\n",
    "\n",
    "    print(\"ROUND\", i)\n",
    "    i = i + 1\n",
    "    #use the indexes to subset the df pandas dataframe\n",
    "    train1, test1 = df.iloc[train_index], df.iloc[test_index]\n",
    "\n",
    "    # ****** Split the labeled and unlabeled training sets into clean sentences\n",
    "    #\n",
    "    sentences = []  # Initialize an empty list of sentences\n",
    "\n",
    "    for j in range(len(train1)):\n",
    "        review = train1['abstract'].iloc[j]\n",
    "        sentences += KaggleWord2VecUtility.review_to_sentences(review, tokenizer)\n",
    "\n",
    "    print \"Building and training w2v models\"\n",
    "    ## create a w2v learner \n",
    "    basemodel = Word2Vec(\n",
    "        workers=multiprocessing.cpu_count(), # use your cores\n",
    "        iter=3, # iter = sweeps of SGD through the data; more is better\n",
    "        hs=1, negative=0 # we only have scoring for the hierarchical softmax setup\n",
    "        )\n",
    "    basemodel.build_vocab(sentences) \n",
    "\n",
    "    print \"Parsing test sentences\"\n",
    "    # read in the test set as a list of a list of words\n",
    "\n",
    "    docs = []\n",
    "    for k in range(len(test1)):\n",
    "        review = test1[\"abstract\"].iloc[k]\n",
    "        sents = KaggleWord2VecUtility.review_to_sentences(review, tokenizer)\n",
    "        docs.append(sents)\n",
    "\n",
    "    print \"scoring test set\"\n",
    "    tup1 = buildModels(train1, test1, docs, basemodel, 1)\n",
    "    avg1.append(tup1)\n",
    "    avg.append(tup1)\n",
    "    \n",
    "    tup2 = buildModels(train1, test1, docs, basemodel, 2)\n",
    "    avg2.append(tup2)\n",
    "    avg.append(tup2)\n",
    "\n",
    "    tup3 = buildModels(train1, test1, docs, basemodel, 3)\n",
    "    avg3.append(tup3)\n",
    "    avg.append(tup3)\n",
    "\n",
    "    tup4 = buildModels(train1, test1, docs, basemodel, 4)\n",
    "    avg4.append(tup4)\n",
    "    avg.append(tup4)\n",
    "\n",
    "    tup5 = buildModels(train1, test1, docs, basemodel, 5)\n",
    "    avg5.append(tup5)\n",
    "    avg.append(tup5)\n",
    "\n",
    "print(\"average of Score 1 model:\", sum(avg1)/float(len(avg1)))\n",
    "print(\"average of Score 2 model:\", sum(avg2)/float(len(avg2)))\n",
    "print(\"average of Score 3 model:\", sum(avg3)/float(len(avg3)))\n",
    "print(\"average of Score 4 model:\", sum(avg4)/float(len(avg4)))\n",
    "print(\"average of Score 5 model:\", sum(avg5)/float(len(avg5)))\n",
    "print \"\"\n",
    "print(\"average across all models:\", sum(avg)/float(len(avg)))\n",
    "\n",
    "    \n",
    "b = datetime.datetime.now().replace(microsecond=0)\n",
    "print(b-a)"
   ]
  },
  {
   "cell_type": "code",
   "execution_count": null,
   "metadata": {
    "collapsed": true
   },
   "outputs": [],
   "source": []
  },
  {
   "cell_type": "code",
   "execution_count": null,
   "metadata": {
    "collapsed": true
   },
   "outputs": [],
   "source": []
  },
  {
   "cell_type": "code",
   "execution_count": null,
   "metadata": {
    "collapsed": true
   },
   "outputs": [],
   "source": []
  },
  {
   "cell_type": "code",
   "execution_count": null,
   "metadata": {
    "collapsed": true
   },
   "outputs": [],
   "source": []
  },
  {
   "cell_type": "code",
   "execution_count": null,
   "metadata": {
    "collapsed": true
   },
   "outputs": [],
   "source": []
  },
  {
   "cell_type": "code",
   "execution_count": null,
   "metadata": {
    "collapsed": true
   },
   "outputs": [],
   "source": []
  },
  {
   "cell_type": "code",
   "execution_count": null,
   "metadata": {
    "collapsed": true
   },
   "outputs": [],
   "source": []
  },
  {
   "cell_type": "code",
   "execution_count": null,
   "metadata": {
    "collapsed": true
   },
   "outputs": [],
   "source": []
  },
  {
   "cell_type": "code",
   "execution_count": null,
   "metadata": {
    "collapsed": true
   },
   "outputs": [],
   "source": []
  },
  {
   "cell_type": "code",
   "execution_count": null,
   "metadata": {
    "collapsed": true
   },
   "outputs": [],
   "source": []
  },
  {
   "cell_type": "code",
   "execution_count": 44,
   "metadata": {
    "collapsed": false
   },
   "outputs": [],
   "source": [
    "import re\n",
    "import nltk\n",
    "\n",
    "import pandas as pd\n",
    "import numpy as np\n",
    "\n",
    "from bs4 import BeautifulSoup\n",
    "from nltk.corpus import stopwords\n",
    "\n",
    "\n",
    "class KaggleWord2VecUtility(object):\n",
    "    \"\"\"KaggleWord2VecUtility is a utility class for processing raw HTML text into segments for further learning\"\"\"\n",
    "\n",
    "    @staticmethod\n",
    "    def review_to_wordlist( review, remove_stopwords=False ):\n",
    "        # Function to convert a document to a sequence of words,\n",
    "        # optionally removing stop words.  Returns a list of words.\n",
    "        #\n",
    "        # 1. Remove HTML\n",
    "        review_text = BeautifulSoup(review).get_text()\n",
    "        #\n",
    "        # 2. Remove non-letters\n",
    "        review_text = re.sub(\"[^a-zA-Z]\",\" \", review_text)\n",
    "        #\n",
    "        # 3. Convert words to lower case and split them\n",
    "        words = review_text.lower().split()\n",
    "        #\n",
    "        # 4. Optionally remove stop words (false by default)\n",
    "        if remove_stopwords:\n",
    "            stops = set(stopwords.words(\"english\"))\n",
    "            words = [w for w in words if not w in stops]\n",
    "        #\n",
    "        # 5. Return a list of words\n",
    "        return(words)\n",
    "    \n",
    "    @staticmethod\n",
    "    def review_to_words( review, remove_stopwords=False ):\n",
    "        # Function to convert a raw review to a string of words\n",
    "        # The input is a single string (a raw movie review), and \n",
    "        # the output is a single string (a preprocessed movie review)\n",
    "        #\n",
    "        # 1. Remove HTML\n",
    "        review_text = BeautifulSoup(review).get_text() \n",
    "        #\n",
    "        # 2. Remove non-letters        \n",
    "        review_text = re.sub(\"[^a-zA-Z]\", \" \", review_text) \n",
    "        #\n",
    "        # 3. Convert to lower case, split into individual words\n",
    "        words = review_text.lower().split()                             \n",
    "        #\n",
    "        # 4. Optionally remove stop words (false by default)\n",
    "        if remove_stopwords:\n",
    "            stops = set(stopwords.words(\"english\"))\n",
    "            words = [w for w in words if not w in stops]   \n",
    "        #\n",
    "        # 6. Join the words back into one string separated by space, \n",
    "        # and return the result.\n",
    "        return( \" \".join( words ))   \n",
    "\n",
    "    # Define a function to split a review into parsed sentences\n",
    "    @staticmethod\n",
    "    def review_to_sentences( review, tokenizer, remove_stopwords=False ):\n",
    "        # Function to split a review into parsed sentences. Returns a\n",
    "        # list of sentences, where each sentence is a list of words\n",
    "        #\n",
    "        # 1. Use the NLTK tokenizer to split the paragraph into sentences\n",
    "        raw_sentences = tokenizer.tokenize(review.decode('utf8').strip())\n",
    "        #\n",
    "        # 2. Loop over each sentence\n",
    "        sentences = []\n",
    "        for raw_sentence in raw_sentences:\n",
    "            # If a sentence is empty, skip it\n",
    "            if len(raw_sentence) > 0:\n",
    "                # Otherwise, call review_to_wordlist to get a list of words\n",
    "                sentences.append( KaggleWord2VecUtility.review_to_wordlist( raw_sentence, \\\n",
    "                  remove_stopwords ))\n",
    "        #\n",
    "        # Return the list of sentences (each sentence is a list of words,\n",
    "        # so this returns a list of lists\n",
    "        return sentences"
   ]
  }
 ],
 "metadata": {
  "anaconda-cloud": {},
  "kernelspec": {
   "display_name": "Python [default]",
   "language": "python",
   "name": "python2"
  },
  "language_info": {
   "codemirror_mode": {
    "name": "ipython",
    "version": 2
   },
   "file_extension": ".py",
   "mimetype": "text/x-python",
   "name": "python",
   "nbconvert_exporter": "python",
   "pygments_lexer": "ipython2",
   "version": "2.7.12"
  }
 },
 "nbformat": 4,
 "nbformat_minor": 0
}
