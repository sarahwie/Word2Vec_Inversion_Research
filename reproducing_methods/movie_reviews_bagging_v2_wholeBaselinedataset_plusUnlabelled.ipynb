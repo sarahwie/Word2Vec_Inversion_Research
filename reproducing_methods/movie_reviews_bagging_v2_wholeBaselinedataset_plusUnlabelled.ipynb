{
 "cells": [
  {
   "cell_type": "code",
   "execution_count": 40,
   "metadata": {
    "collapsed": false
   },
   "outputs": [],
   "source": [
    "import sys\n",
    "import datetime\n",
    "import pandas as pd\n",
    "import numpy as np\n",
    "import nltk.data\n",
    "from gensim.models import Word2Vec\n",
    "from copy import deepcopy\n",
    "from sklearn.metrics import roc_auc_score    \n",
    "from sklearn.cross_validation import StratifiedKFold\n",
    "import random"
   ]
  },
  {
   "cell_type": "code",
   "execution_count": 41,
   "metadata": {
    "collapsed": false
   },
   "outputs": [],
   "source": [
    "np.random.seed(10)"
   ]
  },
  {
   "cell_type": "code",
   "execution_count": 42,
   "metadata": {
    "collapsed": false
   },
   "outputs": [],
   "source": [
    "import os.path\n",
    "sys.path.append(os.path.expanduser('~/code/eol_hsrl_python'))\n",
    "os.environ['PYTHONHASHSEED']='10'\n",
    "#is this working?? no idea"
   ]
  },
  {
   "cell_type": "code",
   "execution_count": 43,
   "metadata": {
    "collapsed": false
   },
   "outputs": [],
   "source": [
    "# Load the punkt tokenizer\n",
    "tokenizer = nltk.data.load('tokenizers/punkt/english.pickle')"
   ]
  },
  {
   "cell_type": "markdown",
   "metadata": {},
   "source": [
    "### Read in datafile"
   ]
  },
  {
   "cell_type": "code",
   "execution_count": 7,
   "metadata": {
    "collapsed": false
   },
   "outputs": [],
   "source": [
    "# Read data from files\n",
    "df = pd.read_csv( 'labeledTrainData.tsv', header=0, delimiter=\"\\t\", quoting=3 )\n",
    "unlabeled_train = pd.read_csv( \"unlabeledTrainData.tsv\", header=0,  delimiter=\"\\t\", quoting=3 )"
   ]
  },
  {
   "cell_type": "code",
   "execution_count": 10,
   "metadata": {
    "collapsed": false
   },
   "outputs": [
    {
     "data": {
      "text/html": [
       "<div>\n",
       "<table border=\"1\" class=\"dataframe\">\n",
       "  <thead>\n",
       "    <tr style=\"text-align: right;\">\n",
       "      <th></th>\n",
       "      <th>id</th>\n",
       "      <th>boolean_label</th>\n",
       "      <th>abstract</th>\n",
       "    </tr>\n",
       "  </thead>\n",
       "  <tbody>\n",
       "    <tr>\n",
       "      <th>0</th>\n",
       "      <td>\"5814_8\"</td>\n",
       "      <td>1</td>\n",
       "      <td>\"With all this stuff going down at the moment ...</td>\n",
       "    </tr>\n",
       "    <tr>\n",
       "      <th>1</th>\n",
       "      <td>\"2381_9\"</td>\n",
       "      <td>1</td>\n",
       "      <td>\"\\\"The Classic War of the Worlds\\\" by Timothy ...</td>\n",
       "    </tr>\n",
       "    <tr>\n",
       "      <th>2</th>\n",
       "      <td>\"7759_3\"</td>\n",
       "      <td>0</td>\n",
       "      <td>\"The film starts with a manager (Nicholas Bell...</td>\n",
       "    </tr>\n",
       "    <tr>\n",
       "      <th>3</th>\n",
       "      <td>\"3630_4\"</td>\n",
       "      <td>0</td>\n",
       "      <td>\"It must be assumed that those who praised thi...</td>\n",
       "    </tr>\n",
       "    <tr>\n",
       "      <th>4</th>\n",
       "      <td>\"9495_8\"</td>\n",
       "      <td>1</td>\n",
       "      <td>\"Superbly trashy and wondrously unpretentious ...</td>\n",
       "    </tr>\n",
       "    <tr>\n",
       "      <th>5</th>\n",
       "      <td>\"8196_8\"</td>\n",
       "      <td>1</td>\n",
       "      <td>\"I dont know why people think this is such a b...</td>\n",
       "    </tr>\n",
       "    <tr>\n",
       "      <th>6</th>\n",
       "      <td>\"7166_2\"</td>\n",
       "      <td>0</td>\n",
       "      <td>\"This movie could have been very good, but com...</td>\n",
       "    </tr>\n",
       "    <tr>\n",
       "      <th>7</th>\n",
       "      <td>\"10633_1\"</td>\n",
       "      <td>0</td>\n",
       "      <td>\"I watched this video at a friend's house. I'm...</td>\n",
       "    </tr>\n",
       "    <tr>\n",
       "      <th>8</th>\n",
       "      <td>\"319_1\"</td>\n",
       "      <td>0</td>\n",
       "      <td>\"A friend of mine bought this film for £1, and...</td>\n",
       "    </tr>\n",
       "    <tr>\n",
       "      <th>9</th>\n",
       "      <td>\"8713_10\"</td>\n",
       "      <td>1</td>\n",
       "      <td>\"&lt;br /&gt;&lt;br /&gt;This movie is full of references....</td>\n",
       "    </tr>\n",
       "  </tbody>\n",
       "</table>\n",
       "</div>"
      ],
      "text/plain": [
       "          id  boolean_label                                           abstract\n",
       "0   \"5814_8\"              1  \"With all this stuff going down at the moment ...\n",
       "1   \"2381_9\"              1  \"\\\"The Classic War of the Worlds\\\" by Timothy ...\n",
       "2   \"7759_3\"              0  \"The film starts with a manager (Nicholas Bell...\n",
       "3   \"3630_4\"              0  \"It must be assumed that those who praised thi...\n",
       "4   \"9495_8\"              1  \"Superbly trashy and wondrously unpretentious ...\n",
       "5   \"8196_8\"              1  \"I dont know why people think this is such a b...\n",
       "6   \"7166_2\"              0  \"This movie could have been very good, but com...\n",
       "7  \"10633_1\"              0  \"I watched this video at a friend's house. I'm...\n",
       "8    \"319_1\"              0  \"A friend of mine bought this film for £1, and...\n",
       "9  \"8713_10\"              1  \"<br /><br />This movie is full of references...."
      ]
     },
     "execution_count": 10,
     "metadata": {},
     "output_type": "execute_result"
    }
   ],
   "source": [
    "df[0:10]"
   ]
  },
  {
   "cell_type": "code",
   "execution_count": 9,
   "metadata": {
    "collapsed": true
   },
   "outputs": [],
   "source": [
    "df.columns = ['id', 'boolean_label', 'abstract']"
   ]
  },
  {
   "cell_type": "code",
   "execution_count": 11,
   "metadata": {
    "collapsed": true
   },
   "outputs": [],
   "source": [
    "\"\"\"\n",
    "docprob takes two lists\n",
    "* docs: a list of documents, each of which is a list of sentences\n",
    "* models: the candidate word2vec models (each potential class)\n",
    "\n",
    "it returns the array of class probabilities.  Everything is done in-memory.\n",
    "\"\"\"\n",
    "\n",
    "def docprob(docs, mods):\n",
    "    # score() takes a list [s] of sentences here; could also be a sentence generator\n",
    "    sentlist = [s for d in docs for s in d]\n",
    "    # the log likelihood of each sentence in this review under each w2v representation\n",
    "    llhd = np.array( [ m.score(sentlist, len(sentlist)) for m in mods ] )\n",
    "    # now exponentiate to get likelihoods, \n",
    "    lhd = np.exp(llhd - llhd.max(axis=0)) # subtract row max to avoid numeric overload\n",
    "    # normalize across models (stars) to get sentence-star probabilities\n",
    "    #all this transposing business does is make it so the total probability of a word \n",
    "    #   equals 1 between the 2 arrays (positive prob and negative).\n",
    "    #and the pandas data frame just puts everything into rows/columns format for easy viz\n",
    "    prob = pd.DataFrame( (lhd/lhd.sum(axis=0)).transpose() )\n",
    "    # and finally average the sentence probabilities to get the review probability\n",
    "    prob[\"doc\"] = [i for i,d in enumerate(docs) for s in d]\n",
    "    prob = prob.groupby(\"doc\").mean()\n",
    "    return prob"
   ]
  },
  {
   "cell_type": "markdown",
   "metadata": {},
   "source": [
    "### get training and testing split on entire dataset with CV loop. randomly sample a subset of size 200 and build a Word2Vec model on it, repeat 100 times. Append all trained models to a meta array to store."
   ]
  },
  {
   "cell_type": "code",
   "execution_count": 16,
   "metadata": {
    "collapsed": false
   },
   "outputs": [
    {
     "name": "stdout",
     "output_type": "stream",
     "text": [
      "25000\n",
      "50000\n"
     ]
    }
   ],
   "source": [
    "print(len(df))\n",
    "print(len(unlabeled_train))"
   ]
  },
  {
   "cell_type": "code",
   "execution_count": 12,
   "metadata": {
    "collapsed": false
   },
   "outputs": [
    {
     "name": "stdout",
     "output_type": "stream",
     "text": [
      "('ROUND', 1)\n",
      "20000\n",
      "5000\n",
      "('ROUND', 2)\n",
      "20000\n",
      "5000\n",
      "('ROUND', 3)\n",
      "20000\n",
      "5000\n",
      "('ROUND', 4)\n",
      "20000\n",
      "5000\n",
      "('ROUND', 5)\n",
      "20000\n",
      "5000\n"
     ]
    }
   ],
   "source": [
    "y = df['boolean_label'].values\n",
    "\n",
    "#set random state\n",
    "skf = StratifiedKFold(y, n_folds=5, shuffle=True, random_state=10)\n",
    "\n",
    "cv_score = []\n",
    "\n",
    "i = 1\n",
    "for train_index, test_index in skf:\n",
    "\n",
    "    print(\"ROUND\", i)\n",
    "    i = i + 1\n",
    "    #use the indexes to subset the df pandas dataframe\n",
    "    train1, test1 = df.iloc[train_index], df.iloc[test_index]\n",
    "    print(len(train1))\n",
    "    print(len(test1))"
   ]
  },
  {
   "cell_type": "code",
   "execution_count": 39,
   "metadata": {
    "collapsed": false
   },
   "outputs": [
    {
     "name": "stdout",
     "output_type": "stream",
     "text": [
      "('ROUND', 1)\n",
      "Parsing sentences from unlabeled set\n",
      "Parsing test sentences\n",
      "Building and training w2v models\n",
      "Evaluating ensemble models on test set\n",
      "100\n",
      "[1 1 1 ..., 1 1 1]\n",
      "0.5476\n",
      "0:20:35\n"
     ]
    }
   ],
   "source": [
    "a = datetime.datetime.now().replace(microsecond=0)\n",
    "\n",
    "y = df['boolean_label'].values\n",
    "\n",
    "#set random state\n",
    "skf = StratifiedKFold(y, n_folds=5, shuffle=True, random_state=10)\n",
    "\n",
    "cv_score = []\n",
    "\n",
    "i = 1\n",
    "for train_index, test_index in skf:\n",
    "    \n",
    "    if i == 1:\n",
    "\n",
    "        print(\"ROUND\", i)\n",
    "        i = i + 1\n",
    "        #use the indexes to subset the df pandas dataframe\n",
    "        train1, test1 = df.iloc[train_index], df.iloc[test_index]\n",
    "\n",
    "        #PARSE ALL TRAINING SENTENCES\n",
    "        sentences = []  # Initialize an empty list of sentences\n",
    "        for n in range(len(train1)):\n",
    "            review = train1['abstract'].iloc[n]\n",
    "            sentences += KaggleWord2VecUtility.review_to_sentences(review, tokenizer)\n",
    "\n",
    "        print \"Parsing sentences from unlabeled set\"\n",
    "        for review in unlabeled_train[\"review\"]:\n",
    "            sentences += KaggleWord2VecUtility.review_to_sentences(review, tokenizer)\n",
    "\n",
    "        ## BUILD BASEMODEL ON ALL SENTS\n",
    "        basemodel = Word2Vec(\n",
    "            sentences=None,\n",
    "            size=100, #default\n",
    "            window=5, #default\n",
    "            workers=1,   # don't use cores- use single worker thread for fully deterministically-reproducible run\n",
    "            iter=1, # iter = sweeps of SGD through the data; more is better\n",
    "            hs=1, negative=0 # we only have scoring for the hierarchical softmax setup\n",
    "        )\n",
    "\n",
    "        basemodel.build_vocab(sentences) \n",
    "\n",
    "        #BUILD TEST SET\n",
    "        print \"Parsing test sentences\" #into positive and negative groups so know true label\n",
    "\n",
    "        docs = []\n",
    "        for k in range(len(test1)):\n",
    "            review = test1[\"abstract\"].iloc[k]\n",
    "            sents = KaggleWord2VecUtility.review_to_sentences(review, tokenizer)\n",
    "            docs.append(sents)\n",
    "\n",
    "        #ADD: create models array to append all models to\n",
    "        modsMeta = []\n",
    "        metaPreds = []\n",
    "        metaProbs = []\n",
    "\n",
    "        print \"Building and training w2v models\"\n",
    "        #SET UP LOOP TO BUILD 100 SUB-MODELS\n",
    "        for j in range(100):\n",
    "\n",
    "            #get randomly drawn subset from training set-\n",
    "            #NOTE: sampling *with* replacement\n",
    "            #size of 200\n",
    "\n",
    "            indices = random.sample(xrange(train1.shape[0]),200)\n",
    "            indices = np.asarray(indices)\n",
    "\n",
    "            #use the indexes to subset the df pandas dataframe and get the associated rows\n",
    "            train_sub = train1.iloc[indices]\n",
    "            #print train_sub.shape\n",
    "\n",
    "            # Word2Vec Algorithm- only building training on randomly drawn subset\n",
    "\n",
    "            sentencesSUB = []  # Initialize an empty list of sentences\n",
    "            for l in range(len(train_sub)):\n",
    "                review = train_sub['abstract'].iloc[l]\n",
    "                sentencesSUB += KaggleWord2VecUtility.review_to_sentences(review, tokenizer)\n",
    "\n",
    "            # ****** Split the training set into clean sentences\n",
    "            #\n",
    "            sentences_pos = []  # Initialize an empty list of sentences\n",
    "            sentences_neg = []  # Initialize an empty list of sentences\n",
    "\n",
    "            #here change to include all journal name labels of positive and negative\n",
    "            inxs_pos = np.where(train_sub['boolean_label'] == 1)[0].tolist()\n",
    "            inxs_neg = np.where(train_sub['boolean_label'] == 0)[0].tolist()\n",
    "\n",
    "            for inx in inxs_pos:\n",
    "                review = train_sub[\"abstract\"].iloc[inx]\n",
    "                sentences_pos += KaggleWord2VecUtility.review_to_sentences(review, tokenizer)\n",
    "\n",
    "            for inx in inxs_neg:\n",
    "                review = train_sub[\"abstract\"].iloc[inx]\n",
    "                sentences_neg += KaggleWord2VecUtility.review_to_sentences(review, tokenizer)\n",
    "\n",
    "            #train models\n",
    "            models = [deepcopy(basemodel) for y in range(2)]\n",
    "            models[0].train(sentences_neg, total_examples=len(sentences_neg) )\n",
    "            models[1].train(sentences_pos, total_examples=len(sentences_pos) )\n",
    "\n",
    "            probs = docprob(docs,models).astype(object)\n",
    "            metaProbs.append(probs)\n",
    "\n",
    "            predictions = np.ones((probs.shape[0]))\n",
    "\n",
    "            predictions[np.where(probs.iloc[:,0] > 0.5)] = 0 # The first column is the negative model\n",
    "\n",
    "            #append 0/1 predictions to array to store\n",
    "            metaPreds.append(predictions)\n",
    "\n",
    "            #append to modsMeta array to store model\n",
    "            modsMeta.append(models)\n",
    "\n",
    "        #NEXT: EVALUATE TEST SET ON THE ENSEMBLE AND ASSIGN HIGHEST VOTED VALUE\n",
    "        print \"Evaluating ensemble models on test set\"\n",
    "        ensemblePreds = []\n",
    "\n",
    "        print len(metaPreds)\n",
    "\n",
    "        #for each test record,\n",
    "        for m in range(len(metaPreds[0])):\n",
    "            sum = 0\n",
    "            #get ensemble prediction\n",
    "            for arr in metaPreds:\n",
    "                #sum the scores received from each model for that review\n",
    "                sum = sum + arr[m]\n",
    "            #take the average to see if more models gave a score of 0 or 1\n",
    "            avg = sum/len(metaPreds)\n",
    "            #append overall 'winning' prediction\n",
    "            if avg >= 0.5:\n",
    "                ensemblePreds.append(1)\n",
    "            else: \n",
    "                ensemblePreds.append(0)\n",
    "\n",
    "        ensemblePreds = np.asarray(ensemblePreds)\n",
    "        print ensemblePreds\n",
    "\n",
    "        score = roc_auc_score(test1[\"boolean_label\"], ensemblePreds)\n",
    "        print score\n",
    "\n",
    "        #cv_score.append(score)\n",
    "    \n",
    "#print(\"-----------------------------------------------\")\n",
    "#print(\"The averaged roc_auc over 5 folds is:\")\n",
    "#print np.sum(cv_score, dtype=np.float64)/len(cv_score)\n",
    "                        \n",
    "b = datetime.datetime.now().replace(microsecond=0)\n",
    "print(b-a)"
   ]
  },
  {
   "cell_type": "code",
   "execution_count": 38,
   "metadata": {
    "collapsed": false
   },
   "outputs": [
    {
     "data": {
      "text/plain": [
       "array([1, 1, 1, ..., 1, 1, 1])"
      ]
     },
     "execution_count": 38,
     "metadata": {},
     "output_type": "execute_result"
    }
   ],
   "source": [
    "#change to 'nan' if want the entire array\n",
    "np.set_printoptions(threshold=10)\n",
    "ensemblePreds"
   ]
  },
  {
   "cell_type": "markdown",
   "metadata": {},
   "source": [
    "### repeat of above but this time using the probability scores sum"
   ]
  },
  {
   "cell_type": "code",
   "execution_count": 20,
   "metadata": {
    "collapsed": false
   },
   "outputs": [],
   "source": [
    "#TO COPY"
   ]
  },
  {
   "cell_type": "code",
   "execution_count": null,
   "metadata": {
    "collapsed": true
   },
   "outputs": [],
   "source": []
  },
  {
   "cell_type": "code",
   "execution_count": 18,
   "metadata": {
    "collapsed": false
   },
   "outputs": [],
   "source": [
    "import re\n",
    "import nltk\n",
    "\n",
    "import pandas as pd\n",
    "import numpy as np\n",
    "\n",
    "from bs4 import BeautifulSoup\n",
    "from nltk.corpus import stopwords\n",
    "\n",
    "\n",
    "class KaggleWord2VecUtility(object):\n",
    "    \"\"\"KaggleWord2VecUtility is a utility class for processing raw HTML text into segments for further learning\"\"\"\n",
    "\n",
    "    @staticmethod\n",
    "    def review_to_wordlist( review, remove_stopwords=False ):\n",
    "        # Function to convert a document to a sequence of words,\n",
    "        # optionally removing stop words.  Returns a list of words.\n",
    "        #\n",
    "        # 1. Remove HTML\n",
    "        review_text = BeautifulSoup(review).get_text()\n",
    "        #\n",
    "        # 2. Remove non-letters\n",
    "        review_text = re.sub(\"[^a-zA-Z]\",\" \", review_text)\n",
    "        #\n",
    "        # 3. Convert words to lower case and split them\n",
    "        words = review_text.lower().split()\n",
    "        #\n",
    "        # 4. Optionally remove stop words (false by default)\n",
    "        if remove_stopwords:\n",
    "            stops = set(stopwords.words(\"english\"))\n",
    "            words = [w for w in words if not w in stops]\n",
    "        #\n",
    "        # 5. Return a list of words\n",
    "        return(words)\n",
    "    \n",
    "    @staticmethod\n",
    "    def review_to_words( review, remove_stopwords=False ):\n",
    "        # Function to convert a raw review to a string of words\n",
    "        # The input is a single string (a raw movie review), and \n",
    "        # the output is a single string (a preprocessed movie review)\n",
    "        #\n",
    "        # 1. Remove HTML\n",
    "        review_text = BeautifulSoup(review).get_text() \n",
    "        #\n",
    "        # 2. Remove non-letters        \n",
    "        review_text = re.sub(\"[^a-zA-Z]\", \" \", review_text) \n",
    "        #\n",
    "        # 3. Convert to lower case, split into individual words\n",
    "        words = review_text.lower().split()                             \n",
    "        #\n",
    "        # 4. Optionally remove stop words (false by default)\n",
    "        if remove_stopwords:\n",
    "            stops = set(stopwords.words(\"english\"))\n",
    "            words = [w for w in words if not w in stops]   \n",
    "        #\n",
    "        # 6. Join the words back into one string separated by space, \n",
    "        # and return the result.\n",
    "        return( \" \".join( words ))   \n",
    "\n",
    "    # Define a function to split a review into parsed sentences\n",
    "    @staticmethod\n",
    "    def review_to_sentences( review, tokenizer, remove_stopwords=False ):\n",
    "        # Function to split a review into parsed sentences. Returns a\n",
    "        # list of sentences, where each sentence is a list of words\n",
    "        #\n",
    "        # 1. Use the NLTK tokenizer to split the paragraph into sentences\n",
    "        raw_sentences = tokenizer.tokenize(review.decode('utf8').strip())\n",
    "        #\n",
    "        # 2. Loop over each sentence\n",
    "        sentences = []\n",
    "        for raw_sentence in raw_sentences:\n",
    "            # If a sentence is empty, skip it\n",
    "            if len(raw_sentence) > 0:\n",
    "                # Otherwise, call review_to_wordlist to get a list of words\n",
    "                sentences.append( KaggleWord2VecUtility.review_to_wordlist( raw_sentence, \\\n",
    "                  remove_stopwords ))\n",
    "        #\n",
    "        # Return the list of sentences (each sentence is a list of words,\n",
    "        # so this returns a list of lists\n",
    "        return sentences"
   ]
  }
 ],
 "metadata": {
  "anaconda-cloud": {},
  "kernelspec": {
   "display_name": "Python [default]",
   "language": "python",
   "name": "python2"
  },
  "language_info": {
   "codemirror_mode": {
    "name": "ipython",
    "version": 2
   },
   "file_extension": ".py",
   "mimetype": "text/x-python",
   "name": "python",
   "nbconvert_exporter": "python",
   "pygments_lexer": "ipython2",
   "version": "2.7.12"
  }
 },
 "nbformat": 4,
 "nbformat_minor": 0
}
