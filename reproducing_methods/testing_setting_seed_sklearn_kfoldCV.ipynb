{
 "cells": [
  {
   "cell_type": "code",
   "execution_count": 1,
   "metadata": {
    "collapsed": true
   },
   "outputs": [],
   "source": [
    "from sklearn.cross_validation import StratifiedKFold\n",
    "import pickle\n",
    "import random"
   ]
  },
  {
   "cell_type": "code",
   "execution_count": 2,
   "metadata": {
    "collapsed": true
   },
   "outputs": [],
   "source": [
    "df = pickle.load(open('/mnt/mypartition/pubmed_nlp_research/C_article_replication_and_translational_classification/df.p', 'rb'))"
   ]
  },
  {
   "cell_type": "code",
   "execution_count": 3,
   "metadata": {
    "collapsed": false
   },
   "outputs": [
    {
     "name": "stdout",
     "output_type": "stream",
     "text": [
      "(354, 6)\n",
      "['pmid' 'title' 'abstract' 'qualifier_terms' 'descriptor_terms' 'label']\n",
      "['T0' 'T1/T2' 'T3/T4' 'TX']\n"
     ]
    }
   ],
   "source": [
    "print df.shape\n",
    "print df.columns.values\n",
    "print df['label'].unique()"
   ]
  },
  {
   "cell_type": "code",
   "execution_count": 6,
   "metadata": {
    "collapsed": false
   },
   "outputs": [],
   "source": [
    "y = df['label'].values\n",
    "skf = StratifiedKFold(y, n_folds=5, shuffle=True, random_state=1)\n",
    "\n",
    "i = 1\n",
    "train_indices2 = []\n",
    "test_indices2 = []\n",
    "for train_index, test_index in skf:\n",
    "    \n",
    "    train_indices2.append(train_index)\n",
    "    test_indices2.append(test_index)"
   ]
  },
  {
   "cell_type": "markdown",
   "metadata": {},
   "source": [
    "### Compare that running the function 3 different times produces the same indices for train and test each time."
   ]
  },
  {
   "cell_type": "code",
   "execution_count": 7,
   "metadata": {
    "collapsed": false
   },
   "outputs": [
    {
     "name": "stdout",
     "output_type": "stream",
     "text": [
      "[  0   1   2   3   4   6   7   8   9  10  12  13  15  17  18  20  21  22\n",
      "  23  24  25  26  27  28  30  32  33  34  36  37  38  41  42  43  45  46\n",
      "  48  49  50  51  52  55  56  57  58  59  60  61  62  63  64  65  66  67\n",
      "  68  69  70  71  72  73  74  76  79  80  82  83  84  86  87  88  89  90\n",
      "  93  94  96  97  98 100 101 103 104 105 106 108 109 111 112 113 114 115\n",
      " 117 118 119 120 121 122 124 125 126 127 128 129 131 132 134 135 136 137\n",
      " 138 139 140 141 142 143 144 145 147 148 149 150 151 152 153 155 156 157\n",
      " 158 160 162 164 165 166 167 169 170 171 172 173 174 175 176 179 180 181\n",
      " 183 185 186 187 188 189 190 191 192 193 194 195 196 197 198 199 200 201\n",
      " 202 203 204 205 206 207 208 209 210 211 212 214 215 216 217 218 219 220\n",
      " 221 222 223 224 226 227 230 231 232 233 234 235 236 237 238 239 240 241\n",
      " 245 246 247 248 249 250 251 252 253 255 256 257 258 260 261 262 263 265\n",
      " 266 267 268 269 270 271 272 273 274 277 278 279 280 281 282 283 284 285\n",
      " 287 290 291 292 294 295 298 301 303 304 305 306 307 308 309 310 314 315\n",
      " 316 317 319 320 322 323 324 326 327 328 329 331 332 334 335 336 337 338\n",
      " 339 340 341 342 343 344 345 346 348 350 351 352]\n",
      "[  0   1   2   3   4   6   7   8   9  10  12  13  15  17  18  20  21  22\n",
      "  23  24  25  26  27  28  30  32  33  34  36  37  38  41  42  43  45  46\n",
      "  48  49  50  51  52  55  56  57  58  59  60  61  62  63  64  65  66  67\n",
      "  68  69  70  71  72  73  74  76  79  80  82  83  84  86  87  88  89  90\n",
      "  93  94  96  97  98 100 101 103 104 105 106 108 109 111 112 113 114 115\n",
      " 117 118 119 120 121 122 124 125 126 127 128 129 131 132 134 135 136 137\n",
      " 138 139 140 141 142 143 144 145 147 148 149 150 151 152 153 155 156 157\n",
      " 158 160 162 164 165 166 167 169 170 171 172 173 174 175 176 179 180 181\n",
      " 183 185 186 187 188 189 190 191 192 193 194 195 196 197 198 199 200 201\n",
      " 202 203 204 205 206 207 208 209 210 211 212 214 215 216 217 218 219 220\n",
      " 221 222 223 224 226 227 230 231 232 233 234 235 236 237 238 239 240 241\n",
      " 245 246 247 248 249 250 251 252 253 255 256 257 258 260 261 262 263 265\n",
      " 266 267 268 269 270 271 272 273 274 277 278 279 280 281 282 283 284 285\n",
      " 287 290 291 292 294 295 298 301 303 304 305 306 307 308 309 310 314 315\n",
      " 316 317 319 320 322 323 324 326 327 328 329 331 332 334 335 336 337 338\n",
      " 339 340 341 342 343 344 345 346 348 350 351 352]\n",
      "[  0   1   2   3   4   6   7   8   9  10  12  13  15  17  18  20  21  22\n",
      "  23  24  25  26  27  28  30  32  33  34  36  37  38  41  42  43  45  46\n",
      "  48  49  50  51  52  55  56  57  58  59  60  61  62  63  64  65  66  67\n",
      "  68  69  70  71  72  73  74  76  79  80  82  83  84  86  87  88  89  90\n",
      "  93  94  96  97  98 100 101 103 104 105 106 108 109 111 112 113 114 115\n",
      " 117 118 119 120 121 122 124 125 126 127 128 129 131 132 134 135 136 137\n",
      " 138 139 140 141 142 143 144 145 147 148 149 150 151 152 153 155 156 157\n",
      " 158 160 162 164 165 166 167 169 170 171 172 173 174 175 176 179 180 181\n",
      " 183 185 186 187 188 189 190 191 192 193 194 195 196 197 198 199 200 201\n",
      " 202 203 204 205 206 207 208 209 210 211 212 214 215 216 217 218 219 220\n",
      " 221 222 223 224 226 227 230 231 232 233 234 235 236 237 238 239 240 241\n",
      " 245 246 247 248 249 250 251 252 253 255 256 257 258 260 261 262 263 265\n",
      " 266 267 268 269 270 271 272 273 274 277 278 279 280 281 282 283 284 285\n",
      " 287 290 291 292 294 295 298 301 303 304 305 306 307 308 309 310 314 315\n",
      " 316 317 319 320 322 323 324 326 327 328 329 331 332 334 335 336 337 338\n",
      " 339 340 341 342 343 344 345 346 348 350 351 352]\n"
     ]
    }
   ],
   "source": [
    "#compare train_ and test_indices0 with train_ and test_indices1\n",
    "print train_indices0[0]\n",
    "print train_indices1[0]\n",
    "print train_indices2[0]"
   ]
  },
  {
   "cell_type": "markdown",
   "metadata": {},
   "source": [
    "### Also duplicated file and repeated: same between different versions of file."
   ]
  }
 ],
 "metadata": {
  "kernelspec": {
   "display_name": "Python 2",
   "language": "python",
   "name": "python2"
  },
  "language_info": {
   "codemirror_mode": {
    "name": "ipython",
    "version": 2
   },
   "file_extension": ".py",
   "mimetype": "text/x-python",
   "name": "python",
   "nbconvert_exporter": "python",
   "pygments_lexer": "ipython2",
   "version": "2.7.11"
  }
 },
 "nbformat": 4,
 "nbformat_minor": 0
}
